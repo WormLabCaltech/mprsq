{
 "cells": [
  {
   "cell_type": "code",
   "execution_count": 1,
   "metadata": {
    "collapsed": true
   },
   "outputs": [],
   "source": [
    "import pandas as pd\n",
    "import numpy as np\n",
    "import sklearn.decomposition\n",
    "from scipy import stats\n",
    "import os\n",
    "import matplotlib.pyplot as plt\n",
    "import seaborn as sns\n",
    "from sklearn.cluster import AgglomerativeClustering\n",
    "from scipy.cluster import hierarchy\n",
    "import emcee\n",
    "import tissue_enrichment_analysis as tea\n",
    "import matplotlib.patheffects as path_effects\n",
    "import morgan as mg\n",
    "\n",
    "import bokeh.charts\n",
    "import bokeh.charts.utils\n",
    "import bokeh.io\n",
    "import bokeh.models\n",
    "import bokeh.palettes\n",
    "import bokeh.plotting\n",
    "\n",
    "import networkx as nx\n",
    "import matplotlib as mpl\n",
    "from matplotlib import rc\n",
    "rc('text', usetex=True)\n",
    "\n",
    "\n",
    "ft = 35 #title fontsize"
   ]
  },
  {
   "cell_type": "code",
   "execution_count": 2,
   "metadata": {
    "collapsed": false
   },
   "outputs": [
    {
     "name": "stdout",
     "output_type": "stream",
     "text": [
      "Number of na genes: 1005\n"
     ]
    }
   ],
   "source": [
    "# Specify the genotypes\n",
    "single_mutants = ['b', 'c', 'd', 'e', 'g']\n",
    "double_mutants = {'a' : 'bd', 'f':'bc'}\n",
    "\n",
    "thomas = mg.hunt('target_id', 'b', 'tpm', 'qval')\n",
    "thomas.add_genmap('../input/library_genotype_mapping.txt', comment='#')\n",
    "thomas.add_single_mutant(single_mutants)\n",
    "thomas.add_double_mutants(['a', 'f'], ['bd', 'bc'])\n",
    "thomas.set_qval()\n",
    "\n",
    "# Add the tpm files: \n",
    "kallisto_loc = '../input/kallisto_all/'\n",
    "thomas.add_tpm(kallisto_loc, '/kallisto/abundance.tsv', '')\n",
    "\n",
    "# Make all possible combinations of WT, X\n",
    "combs = {}\n",
    "for gene in thomas.genmap.genotype.unique():\n",
    "    if gene != 'wt':\n",
    "        combs[gene] = 'WT_'+gene+'/'\n",
    "\n",
    "# load all the beta values for each genotype:\n",
    "sleuth_loc = '../sleuth/'\n",
    "thomas.add_betas(sleuth_loc, 'betas.csv', combs)\n",
    "\n",
    "thomas.filter_data(0, 0.1)"
   ]
  },
  {
   "cell_type": "code",
   "execution_count": 3,
   "metadata": {
    "collapsed": false
   },
   "outputs": [
    {
     "name": "stdout",
     "output_type": "stream",
     "text": [
      "+ d d 977 13598 977 977 1.0\n",
      "- d d 0 13598 977 977 1.32627934284e-33\n",
      "+ g d 105 13598 1639 977 0.104330927453\n",
      "- g d 108 13598 1639 977 0.172730285854\n",
      "+ e d 658 13598 2457 977 1.0\n",
      "- e d 32 13598 2457 977 1.40527737866e-48\n",
      "+ b d 654 13598 1813 977 1.0\n",
      "- b d 14 13598 1813 977 7.06324588473e-44\n",
      "+ c d 166 13598 937 977 0.999999999997\n",
      "- c d 57 13598 937 977 0.0968662790048\n",
      "+ d g 105 13598 977 1639 0.104330927452\n",
      "- d g 108 13598 977 1639 0.172730285853\n",
      "+ g g 1639 13598 1639 1639 1.0\n",
      "- g g 0 13598 1639 1639 1.38641321347e-98\n",
      "+ e g 240 13598 2457 1639 4.97105094453e-05\n",
      "- e g 224 13598 2457 1639 2.21037383387e-07\n",
      "+ b g 182 13598 1813 1639 0.00222365320521\n",
      "- b g 178 13598 1813 1639 0.000763749729053\n",
      "+ c g 45 13598 937 1639 3.40273580741e-15\n",
      "- c g 124 13598 937 1639 0.884460269638\n",
      "+ d e 658 13598 977 2457 1.0\n",
      "- d e 32 13598 977 2457 1.40527737868e-48\n",
      "+ g e 240 13598 1639 2457 4.97105094455e-05\n",
      "- g e 224 13598 1639 2457 2.21037383388e-07\n",
      "+ e e 2457 13598 2457 2457 1.0\n",
      "- e e 0 13598 2457 2457 5.48092823115e-238\n",
      "+ b e 1361 13598 1813 2457 1.0\n",
      "- b e 7 13598 1813 2457 1.88334581809e-155\n",
      "+ c e 283 13598 937 2457 0.999999999993\n",
      "- c e 117 13598 937 2457 1.03357028016e-06\n",
      "+ d b 654 13598 977 1813 1.0\n",
      "- d b 14 13598 977 1813 7.06324588474e-44\n",
      "+ g b 182 13598 1639 1813 0.00222365320521\n",
      "- g b 178 13598 1639 1813 0.000763749729056\n",
      "+ e b 1361 13598 2457 1813 1.0\n",
      "- e b 7 13598 2457 1813 1.8833458181e-155\n",
      "+ b b 1813 13598 1813 1813 1.0\n",
      "- b b 0 13598 1813 1813 2.47296173525e-122\n",
      "+ c b 216 13598 937 1813 0.999999999997\n",
      "- c b 108 13598 937 1813 0.0489352041198\n",
      "+ d c 166 13598 977 937 1.0\n",
      "- d c 57 13598 977 937 0.0968662790055\n",
      "+ g c 45 13598 1639 937 3.4027358074e-15\n",
      "- g c 124 13598 1639 937 0.884460269636\n",
      "+ e c 283 13598 2457 937 0.999999999993\n",
      "- e c 117 13598 2457 937 1.03357028015e-06\n",
      "+ b c 216 13598 1813 937 0.999999999994\n",
      "- b c 108 13598 1813 937 0.0489352041198\n",
      "+ c c 937 13598 937 937 1.0\n",
      "- c c 0 13598 937 937 7.20719808535e-31\n"
     ]
    }
   ],
   "source": [
    "# Perform Correlation Analysis\n",
    "def tri_plot(matrix, xlabels, ylabels=[]):\n",
    "    vmin= matrix.min().min()\n",
    "    vmax= np.max(matrix).max()\n",
    "\n",
    "    if len(ylabels) == 0:\n",
    "        ylabels = xlabels\n",
    "        \n",
    "    mask = np.zeros_like(matrix)\n",
    "    mask[np.tril_indices_from(mask)] = True\n",
    "    with sns.axes_style(\"white\"):\n",
    "        ax = sns.heatmap(matrix, xticklabels=xlabels, yticklabels=ylabels, cmap='viridis',\n",
    "                         mask=mask, square=True, vmin=vmin, vmax=vmax)\n",
    "    plt.xticks(fontsize=30)\n",
    "    plt.yticks(fontsize=30)\n",
    "\n",
    "\n",
    "sydney = mg.brenner('interaction_analysis', thomas)\n"
   ]
  },
  {
   "cell_type": "code",
   "execution_count": null,
   "metadata": {
    "collapsed": true
   },
   "outputs": [],
   "source": []
  },
  {
   "cell_type": "code",
   "execution_count": null,
   "metadata": {
    "collapsed": true
   },
   "outputs": [],
   "source": []
  }
 ],
 "metadata": {
  "anaconda-cloud": {},
  "kernelspec": {
   "display_name": "Python [default]",
   "language": "python",
   "name": "python3"
  },
  "language_info": {
   "codemirror_mode": {
    "name": "ipython",
    "version": 3
   },
   "file_extension": ".py",
   "mimetype": "text/x-python",
   "name": "python",
   "nbconvert_exporter": "python",
   "pygments_lexer": "ipython3",
   "version": "3.5.2"
  }
 },
 "nbformat": 4,
 "nbformat_minor": 1
}
