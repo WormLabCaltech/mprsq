{
 "cells": [
  {
   "cell_type": "markdown",
   "metadata": {
    "toc": "true"
   },
   "source": [
    "# Table of Contents\n",
    " <p><div class=\"lev1 toc-item\"><a href=\"#Introduction\" data-toc-modified-id=\"Introduction-1\"><span class=\"toc-item-num\">1&nbsp;&nbsp;</span>Introduction</a></div><div class=\"lev2 toc-item\"><a href=\"#Data-initialization\" data-toc-modified-id=\"Data-initialization-1.1\"><span class=\"toc-item-num\">1.1&nbsp;&nbsp;</span>Data initialization</a></div><div class=\"lev1 toc-item\"><a href=\"#Isoforms-Identified-in-all-Genotypes\" data-toc-modified-id=\"Isoforms-Identified-in-all-Genotypes-2\"><span class=\"toc-item-num\">2&nbsp;&nbsp;</span>Isoforms Identified in all Genotypes</a></div><div class=\"lev1 toc-item\"><a href=\"#Differentially-Expressed-Genes-per-genotype\" data-toc-modified-id=\"Differentially-Expressed-Genes-per-genotype-3\"><span class=\"toc-item-num\">3&nbsp;&nbsp;</span>Differentially Expressed Genes per genotype</a></div><div class=\"lev1 toc-item\"><a href=\"#Pairwise-shared-transcriptomic-phenotypes\" data-toc-modified-id=\"Pairwise-shared-transcriptomic-phenotypes-4\"><span class=\"toc-item-num\">4&nbsp;&nbsp;</span>Pairwise shared transcriptomic phenotypes</a></div><div class=\"lev2 toc-item\"><a href=\"#SI-Table-1\" data-toc-modified-id=\"SI-Table-1-4.1\"><span class=\"toc-item-num\">4.1&nbsp;&nbsp;</span>SI Table 1</a></div>"
   ]
  },
  {
   "cell_type": "markdown",
   "metadata": {},
   "source": [
    "# Introduction\n",
    "In this notebook, I will go over the basic results from the RNA-seq in what is essentially a top-level view of the results. Nothing specific, mainly numbers, some histograms and that's it. First, I will load a number of useful libraries. Notable libraries to load are `genpy`, a module that contains useful graphing functions tailored specifically for this project and developed by us; `morgan` a module that specifies what a Morgan object and a McClintock object are, and `gvars`, which contains globally defined variables that we used in this project."
   ]
  },
  {
   "cell_type": "code",
   "execution_count": 1,
   "metadata": {
    "collapsed": true
   },
   "outputs": [],
   "source": [
    "# important stuff:\n",
    "import os\n",
    "import pandas as pd\n",
    "import numpy as np\n",
    "\n",
    "import morgan as morgan\n",
    "import genpy\n",
    "import gvars\n",
    "import pretty_table as pretty\n",
    "import epistasis as epi\n",
    "\n",
    "# Graphics\n",
    "import matplotlib as mpl\n",
    "import matplotlib.pyplot as plt\n",
    "import seaborn as sns\n",
    "from matplotlib import rc\n",
    "\n",
    "rc('text', usetex=True)\n",
    "rc('text.latex', preamble=r'\\usepackage{cmbright}')\n",
    "rc('font', **{'family': 'sans-serif', 'sans-serif': ['Helvetica']})\n",
    "\n",
    "# Magic function to make matplotlib inline;\n",
    "%matplotlib inline\n",
    "\n",
    "# This enables SVG graphics inline. \n",
    "# There is a bug, so uncomment if it works.\n",
    "%config InlineBackend.figure_formats = {'png', 'retina'}\n",
    "\n",
    "# JB's favorite Seaborn settings for notebooks\n",
    "rc = {'lines.linewidth': 2, \n",
    "      'axes.labelsize': 18, \n",
    "      'axes.titlesize': 18, \n",
    "      'axes.facecolor': 'DFDFE5'}\n",
    "sns.set_context('notebook', rc=rc)\n",
    "sns.set_style(\"dark\")\n",
    "\n",
    "mpl.rcParams['xtick.labelsize'] = 16 \n",
    "mpl.rcParams['ytick.labelsize'] = 16 \n",
    "mpl.rcParams['legend.fontsize'] = 14"
   ]
  },
  {
   "cell_type": "markdown",
   "metadata": {
    "collapsed": true
   },
   "source": [
    "Next, I will specify my q-value cutoff. A typical value for RNA-seq datasets is q=0.1 for statistical significance. I will also initialize a `genvar.genvars` object, which contains all of the global variables used for this project."
   ]
  },
  {
   "cell_type": "code",
   "execution_count": 2,
   "metadata": {
    "collapsed": true
   },
   "outputs": [],
   "source": [
    "q = 0.1\n",
    "# this loads all the labels we need\n",
    "genvar = gvars.genvars()"
   ]
  },
  {
   "cell_type": "markdown",
   "metadata": {
    "collapsed": true
   },
   "source": [
    "## Data initialization\n",
    "\n",
    "Now, I will prepare to initialize a Morgan project. Morgan objects have a large number of attributes. I wrote the Morgan library, but over the past year it has become deprecated and less useful. We will load it here, but it's a bit messy. I am in the process of cleaning it up. When you initialize a Morgan object, you must pass at least a set of 4 strings. These strings are, in order, the column where the isoform names (unique) reside, the name of the column that holds the regression coefficient from sleuth; the name of the column that holds the TPM values passed by Kallisto and the name of the column that holds the q-values.\n",
    "\n",
    "We can also add what I call a genmap. A genmap is a file that maps read files to genotypes. A genmap file has three columns: '*project_name*', '*genotype*' and '*batch*' in that exact order. For this project, the genotypes are coded. In other words, they are letters, '*a*', '*b*', '*d*',... and not specific genotypes. The reason for this is that we wanted to make sure that, at least during the initial phase of the project, I could not unduly bias the results by searching the literature and what not.  Because the genotypes are coded, we need to specify which of the letters represent single mutants, and which letters represent double mutants. I also need to be able to figure out what the individual components of a double mutant are. Finally, we need to set the $q$-value threshold. If no $q$-value is specified, the threshold defaults to 0.1.\n",
    "\n",
    "I will now initialize the object. I call it thomas. Then I will load in all the variables we will use; I will load in the genmap, and at last I will load in the datasets that contain the TPM and the Sleuth $\\beta$ coefficients. After everything has been loaded, I will call `thomas.filter_data`, which drops all the rows that have a $\\beta$ coefficient equal to NaN"
   ]
  },
  {
   "cell_type": "code",
   "execution_count": 15,
   "metadata": {
    "collapsed": true
   },
   "outputs": [],
   "source": [
    "# Specify the genotypes to refer to:\n",
    "single_mutants = ['b', 'c', 'd', 'e', 'g']\n",
    "\n",
    "# Specify which letters are double mutants and their genotype\n",
    "double_mutants = {'a' : 'bd', 'f':'bc'}\n",
    "\n",
    "# initialize the morgan.hunt object:\n",
    "thomas = morgan.hunt('target_id', 'b', 'tpm', 'qval')\n",
    "# input the genmap file:\n",
    "thomas.add_genmap('../input/library_genotype_mapping.txt', comment='#')\n",
    "# add the names of the single mutants\n",
    "thomas.add_single_mutant(single_mutants)\n",
    "# add the names of the double mutants\n",
    "thomas.add_double_mutants(['a', 'f'], ['bd', 'bc'])\n",
    "# set the q-value threshold for significance to its default value, 0.1\n",
    "thomas.set_qval()\n",
    "\n",
    "# Add the tpm files: \n",
    "kallisto_loc = '../input/kallisto_all/'\n",
    "sleuth_loc = '../sleuth/kallisto/'\n",
    "thomas.add_tpm(kallisto_loc, '/kallisto/abundance.tsv', '')\n",
    "# load all the beta dataframes:\n",
    "for file in os.listdir(\"../sleuth/kallisto\"):\n",
    "    if file[:4] == 'beta':\n",
    "        letter = file[-5:-4].lower()\n",
    "        thomas.add_beta(sleuth_loc + file, letter)\n",
    "        thomas.beta[letter].sort_values('target_id', inplace=True)\n",
    "        thomas.beta[letter].reset_index(inplace=True)\n",
    "        thomas.filter_data()\n",
    "        \n",
    "# thomas.filter_data()"
   ]
  },
  {
   "cell_type": "markdown",
   "metadata": {},
   "source": [
    "Finally, we will place all the data in a tidy dataframe, where each row is an observation."
   ]
  },
  {
   "cell_type": "code",
   "execution_count": 17,
   "metadata": {
    "collapsed": true
   },
   "outputs": [],
   "source": [
    "frames = []\n",
    "for key, df in thomas.beta.items():\n",
    "    df['genotype'] = genvar.mapping[key]\n",
    "    df['code'] = key\n",
    "    df['sorter'] = genvar.sort_muts[key]\n",
    "    df.sort_values('target_id', inplace=True)\n",
    "    frames += [df]\n",
    "\n",
    "tidy = pd.concat(frames)\n",
    "tidy.dropna(subset=['ens_gene'], inplace=True)\n",
    "\n",
    "# Save to table\n",
    "tidy[['ens_gene', 'ext_gene', 'target_id', 'b', 'se_b', 'qval', 'genotype', 'sorter', 'code']].to_csv('../output/temp_files/DE_genes.csv', index=False)\n",
    "\n",
    "tidy.sort_values('sorter', inplace=True)"
   ]
  },
  {
   "cell_type": "markdown",
   "metadata": {},
   "source": [
    "# Isoforms Identified in all Genotypes"
   ]
  },
  {
   "cell_type": "code",
   "execution_count": 5,
   "metadata": {},
   "outputs": [
    {
     "name": "stdout",
     "output_type": "stream",
     "text": [
      "Total isoforms identified in total: 19676\n"
     ]
    }
   ],
   "source": [
    "total_genes_id = tidy.target_id.unique().shape[0]\n",
    "print(\"Total isoforms identified in total: {0}\".format(total_genes_id))"
   ]
  },
  {
   "cell_type": "markdown",
   "metadata": {},
   "source": [
    "We identified 19,676 isoforms using 7 million reads. Not bad considering there are ~25,000 protein-coding isoforms in *C. elegans*. Each gene has just slightly over 1 isoform on average, so what this means is that we sampled almost 80% of the genome."
   ]
  },
  {
   "cell_type": "markdown",
   "metadata": {},
   "source": [
    "# Differentially Expressed Genes per genotype\n",
    "\n",
    "Next, let's figure out how many *genes* were differentially expressed in each mutant relative to the wild-type control."
   ]
  },
  {
   "cell_type": "code",
   "execution_count": 6,
   "metadata": {
    "scrolled": true
   },
   "outputs": [
    {
     "name": "stdout",
     "output_type": "stream",
     "text": [
      "Genotype: DEG\n",
      "rhy-1: 3005\n",
      "egl-9: 2549\n",
      "vhl-1: 1275\n",
      "hif-1: 1075\n",
      "fog-2: 2840\n",
      "egl-9;vhl-1: 3654\n",
      "egl-9 hif-1: 744\n"
     ]
    }
   ],
   "source": [
    "print('Genotype: DEG')\n",
    "for x in tidy.genotype.unique():\n",
    "    # select the DE isoforms in the current genotype:\n",
    "    sel = (tidy.qval < q) & (tidy.genotype == x)\n",
    "    # extract the number of unique genes:\n",
    "    s = tidy[sel].ens_gene.unique().shape[0]\n",
    "    print(\"{0}: {1}\".format(x, s))"
   ]
  },
  {
   "cell_type": "markdown",
   "metadata": {},
   "source": [
    "From the above exploration, we can already conclude that:\n",
    " * *hif-1(lf)* has a transcriptomic phenotype\n",
    " * *hif-1;egl-9(lf)* has a transcriptomic phenotype\n",
    " * The *egl-9* phenotype is stronger than the *vhl-1* or the *hif-1* phenotypes.\n",
    "\n",
    "We should be careful is saying whether *rhy-1*, *egl-9* and *egl-9;vhl-1(lf)* are different from each other, and the same goes for *hif-1(lf)*, *vhl-1(lf)* and *egl-9;hif-1(lf)* because we set our FDR threshold at 10%. Notice that *egl-9(lf)* and *rhy-1(lf)* are barely 300 genes separated from each other. A bit of wiggle from both, and they might be identical. "
   ]
  },
  {
   "cell_type": "markdown",
   "metadata": {},
   "source": [
    "# Pairwise shared transcriptomic phenotypes\n",
    "## SI Table 1\n",
    "In order to be able to assess whether two genes are interacting, we must first determine that the mutants we are studying act upon the same phenotype. What defines a phenotype in transcriptomic space? We use an operational definition -- two genotypes share the same phenotype if they regulate more than a pre-specified(and admittedly subjective) number of genes in common between the two of them, agnostic of direction. In our paper, we call this the Shared Transcriptomic Phenotype (STP). Let's figure out to what extent the genes we have studied share the same phenotype.\n",
    "\n",
    "We will measure the size of the STP using two distinct definitions. The first, percent shared isoforms, is defined as the number of isoforms in the STP divided by the number of differentially expressed isoforms in EITHER of the two mutants being compared. The second measurement, percent internalization, is defined as the number of isoforms in the STP divided by the number of differentially expressed isoforms in the mutant that has the smallest number of differentially expressed isoforms out of the two being compared."
   ]
  },
  {
   "cell_type": "code",
   "execution_count": 7,
   "metadata": {},
   "outputs": [
    {
     "name": "stdout",
     "output_type": "stream",
     "text": [
      "pair                          STP                           % shared                      % internalization             \n",
      "rhy-1 & egl-9                 1808                          32%                           70%                           \n",
      "rhy-1 & vhl-1                 879                           20%                           69%                           \n",
      "rhy-1 & hif-1                 456                           11%                           42%                           \n",
      "rhy-1 & fog-2                 839                           14%                           29%                           \n",
      "rhy-1 & egl-9;vhl-1           1730                          26%                           57%                           \n",
      "rhy-1 & egl-9 hif-1           484                           13%                           64%                           \n",
      "egl-9 & vhl-1                 872                           23%                           68%                           \n",
      "egl-9 & hif-1                 387                           10%                           36%                           \n",
      "egl-9 & fog-2                 782                           14%                           30%                           \n",
      "egl-9 & egl-9;vhl-1           1872                          30%                           73%                           \n",
      "egl-9 & egl-9 hif-1           415                           12%                           54%                           \n",
      "vhl-1 & hif-1                 296                           12%                           27%                           \n",
      "vhl-1 & fog-2                 450                           11%                           35%                           \n",
      "vhl-1 & egl-9;vhl-1           971                           19%                           76%                           \n",
      "vhl-1 & egl-9 hif-1           323                           16%                           43%                           \n",
      "hif-1 & fog-2                 361                           8.8%                          33%                           \n",
      "hif-1 & egl-9;vhl-1           494                           10%                           46%                           \n",
      "hif-1 & egl-9 hif-1           161                           8.9%                          22%                           \n",
      "fog-2 & egl-9;vhl-1           1069                          16%                           37%                           \n",
      "fog-2 & egl-9 hif-1           247                           6.6%                          32%                           \n",
      "egl-9;vhl-1 & egl-9 hif-1     535                           12%                           70%                           \n"
     ]
    }
   ],
   "source": [
    "sig = (tidy.qval < q)\n",
    "string = 'pair,STP,% shared,% internalization'\n",
    "\n",
    "# print table header\n",
    "l = string.split(',')\n",
    "pretty.table_print(l, space=30)\n",
    "\n",
    "# print rest:\n",
    "for i, g1 in enumerate(tidy.genotype.unique()):\n",
    "    for j, g2 in enumerate(tidy.genotype.unique()[i+1:]):\n",
    "        tmp = tidy[sig]  # define a temporary dataframe with only DE genes in it\n",
    "        \n",
    "        # find DE genes in either genotype\n",
    "        DE1 = tmp[tmp.genotype == g1]\n",
    "        DE2 = tmp[tmp.genotype == g2]\n",
    "        \n",
    "        # find the overlap between the two genotypes:\n",
    "        overlap = epi.find_overlap([g1, g2], df=tidy, col='genotype')\n",
    "        n = len(overlap)  # number of DE isoforms in both genotypes\n",
    "        genes_in_stp = tidy[tidy.target_id.isin(overlap)].ens_gene.unique()\n",
    "        n_genes_stp = len(genes_in_stp)  # number of DE genes in both genotypes\n",
    "\n",
    "        # find total number of DE transcripts in either genotype\n",
    "        OR = ((tmp.genotype == g1) | (tmp.genotype == g2)) \n",
    "        ntot = tmp[OR].target_id.shape[0]\n",
    "        \n",
    "        # find which genotype has fewer DE transcripts\n",
    "        n_intern = np.min([DE1.shape[0], DE2.shape[0]])\n",
    "        \n",
    "        # print\n",
    "        string = \"{0} & {1},{2},{3:.2g}%,{4:.2g}%\".format(g1, g2, n_genes_stp, 100*n/ntot, 100*n/n_intern)\n",
    "        l = string.split(',')\n",
    "        pretty.table_print(l, space=30)"
   ]
  },
  {
   "cell_type": "markdown",
   "metadata": {},
   "source": [
    "The number of genes that is shared between mutants of the same pathway ranges from ~100 genes all the way to ~1,300. However, the hypoxia mutants share between ~140 and ~700 genes in common with another mutant, the *fog-2(lf)* mutant that has never been reported to act in the hypoxia pathway. What are we to make of this? My own conclusion is that *fog-2* probably interacts with effectors downstream of the hypoxia pathway."
   ]
  }
 ],
 "metadata": {
  "anaconda-cloud": {},
  "kernelspec": {
   "display_name": "Python [default]",
   "language": "python",
   "name": "python3"
  },
  "language_info": {
   "codemirror_mode": {
    "name": "ipython",
    "version": 3
   },
   "file_extension": ".py",
   "mimetype": "text/x-python",
   "name": "python",
   "nbconvert_exporter": "python",
   "pygments_lexer": "ipython3",
   "version": "3.5.3"
  },
  "nav_menu": {},
  "toc": {
   "navigate_menu": true,
   "number_sections": true,
   "sideBar": true,
   "threshold": 6,
   "toc_cell": true,
   "toc_section_display": "block",
   "toc_window_display": true
  },
  "toc_position": {
   "height": "898px",
   "left": "0px",
   "right": "1580px",
   "top": "85px",
   "width": "340px"
  }
 },
 "nbformat": 4,
 "nbformat_minor": 2
}
