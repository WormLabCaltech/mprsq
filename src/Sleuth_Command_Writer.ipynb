{
 "cells": [
  {
   "cell_type": "markdown",
   "metadata": {
    "toc": "true"
   },
   "source": [
    "# Table of Contents\n",
    " <p>"
   ]
  },
  {
   "cell_type": "code",
   "execution_count": 1,
   "metadata": {
    "collapsed": true
   },
   "outputs": [],
   "source": [
    "import os\n",
    "import pandas as pd"
   ]
  },
  {
   "cell_type": "code",
   "execution_count": 2,
   "metadata": {
    "collapsed": true
   },
   "outputs": [],
   "source": [
    "# params\n",
    "directory = '../sleuth/'\n",
    "batch = False\n",
    "# sequences:\n",
    "analysis = next(os.walk(directory))[1]"
   ]
  },
  {
   "cell_type": "code",
   "execution_count": 3,
   "metadata": {
    "collapsed": true
   },
   "outputs": [],
   "source": [
    "def sleuth_analysis(directory, genovar, batch=False):\n",
    "    \"\"\"\n",
    "    A function to write the differential_expression_analyzer batch command.\n",
    "    \"\"\"\n",
    "    if not batch:\n",
    "        heart = 'Rscript diff_exp_analyzer.R -d {0} --genovar {1}'.format(directory, genovar)\n",
    "    else:\n",
    "        heart = 'Rscript diff_exp_analyzer.R -d {0} --genovar {1} --batch'.format(directory, genovar)\n",
    "    return heart\n",
    "\n",
    "def walk_sleuth_directories(directory, batch=False):\n",
    "    \"\"\"\n",
    "    Given a directory, walk through it,\n",
    "    find all the rna-seq repository folders\n",
    "    and generate kallisto commands\n",
    "    \"\"\"\n",
    "    sleuth = ''\n",
    "    #directory contains all the projects, walk through it:\n",
    "    current, dirs, files = next(os.walk(directory))\n",
    "    for d in dirs:\n",
    "        # genovar always begins with a z:\n",
    "        genovar = 'z' + d[-1:]\n",
    "        message = '# Sleuth analysis command for {0}\\n'.format(d)\n",
    "        command = sleuth_analysis(d, genovar, batch) +'\\n'\n",
    "        sleuth += message\n",
    "        sleuth += command\n",
    "    return sleuth"
   ]
  },
  {
   "cell_type": "code",
   "execution_count": 4,
   "metadata": {
    "collapsed": false
   },
   "outputs": [],
   "source": [
    "with open(directory + 'sleuth_commands.sh', 'w') as f:\n",
    "    f.write('#!/bin/bash\\n')\n",
    "    f.write('# Bash commands for diff. expression analysis using Sleuth.\\n')\n",
    "    sleuth_command = walk_sleuth_directories(directory, batch)\n",
    "    f.write(sleuth_command)\n",
    "#     print(sleuth_command)"
   ]
  },
  {
   "cell_type": "code",
   "execution_count": null,
   "metadata": {
    "collapsed": true
   },
   "outputs": [],
   "source": []
  },
  {
   "cell_type": "code",
   "execution_count": null,
   "metadata": {
    "collapsed": true
   },
   "outputs": [],
   "source": []
  }
 ],
 "metadata": {
  "anaconda-cloud": {},
  "kernelspec": {
   "display_name": "Python [default]",
   "language": "python",
   "name": "python3"
  },
  "language_info": {
   "codemirror_mode": {
    "name": "ipython",
    "version": 3
   },
   "file_extension": ".py",
   "mimetype": "text/x-python",
   "name": "python",
   "nbconvert_exporter": "python",
   "pygments_lexer": "ipython3",
   "version": "3.5.2"
  },
  "latex_envs": {
   "bibliofile": "biblio.bib",
   "cite_by": "apalike",
   "current_citInitial": 1,
   "eqLabelWithNumbers": true,
   "eqNumInitial": 0
  },
  "nav_menu": {},
  "toc": {
   "navigate_menu": true,
   "number_sections": true,
   "sideBar": true,
   "threshold": 6,
   "toc_cell": true,
   "toc_section_display": "block",
   "toc_window_display": true
  }
 },
 "nbformat": 4,
 "nbformat_minor": 0
}
