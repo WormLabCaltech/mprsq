{
 "cells": [
  {
   "cell_type": "markdown",
   "metadata": {
    "toc": "true"
   },
   "source": [
    "# Table of Contents\n",
    " <p><div class=\"lev1 toc-item\"><a href=\"#Isoforms-Identified-in-all-Genotypes\" data-toc-modified-id=\"Isoforms-Identified-in-all-Genotypes-1\"><span class=\"toc-item-num\">1&nbsp;&nbsp;</span>Isoforms Identified in all Genotypes</a></div><div class=\"lev1 toc-item\"><a href=\"#Number-of-Differentially-Expressed-Genes-(DEG)-in-each-genotype\" data-toc-modified-id=\"Number-of-Differentially-Expressed-Genes-(DEG)-in-each-genotype-2\"><span class=\"toc-item-num\">2&nbsp;&nbsp;</span>Number of Differentially Expressed Genes (DEG) in each genotype</a></div><div class=\"lev1 toc-item\"><a href=\"#Perturbation-Distributions\" data-toc-modified-id=\"Perturbation-Distributions-3\"><span class=\"toc-item-num\">3&nbsp;&nbsp;</span>Perturbation Distributions</a></div>"
   ]
  },
  {
   "cell_type": "code",
   "execution_count": 2,
   "metadata": {
    "collapsed": false
   },
   "outputs": [],
   "source": [
    "# important stuff:\n",
    "import os\n",
    "import pandas as pd\n",
    "import numpy as np\n",
    "\n",
    "# TEA and morgan\n",
    "import morgan as morgan\n",
    "\n",
    "# Graphics\n",
    "import matplotlib as mpl\n",
    "import matplotlib.pyplot as plt\n",
    "import seaborn as sns\n",
    "from matplotlib import rc\n",
    "rc('text', usetex=True)\n",
    "rc('text.latex', preamble=r'\\usepackage{cmbright}')\n",
    "rc('font', **{'family': 'sans-serif', 'sans-serif': ['Helvetica']})\n",
    "\n",
    "# Magic function to make matplotlib inline;\n",
    "%matplotlib inline\n",
    "\n",
    "# This enables SVG graphics inline. \n",
    "# There is a bug, so uncomment if it works.\n",
    "%config InlineBackend.figure_formats = {'png', 'retina'}\n",
    "\n",
    "# JB's favorite Seaborn settings for notebooks\n",
    "rc = {'lines.linewidth': 2, \n",
    "      'axes.labelsize': 18, \n",
    "      'axes.titlesize': 18, \n",
    "      'axes.facecolor': 'DFDFE5'}\n",
    "sns.set_context('notebook', rc=rc)\n",
    "sns.set_style(\"dark\")\n",
    "\n",
    "ft = 35 #title fontsize\n",
    "import genpy\n",
    "\n",
    "mpl.rcParams['xtick.labelsize'] = 16 \n",
    "mpl.rcParams['ytick.labelsize'] = 16 \n",
    "mpl.rcParams['legend.fontsize'] = 14"
   ]
  },
  {
   "cell_type": "code",
   "execution_count": 3,
   "metadata": {
    "collapsed": true
   },
   "outputs": [],
   "source": [
    "q = 0.1"
   ]
  },
  {
   "cell_type": "code",
   "execution_count": 4,
   "metadata": {
    "collapsed": true
   },
   "outputs": [],
   "source": [
    "tf_df = pd.read_csv('../input/tf_list.csv')\n",
    "hypoxia_gold = pd.read_csv('../input/hypoxia_gold_standard.csv',\n",
    "                           sep=',')"
   ]
  },
  {
   "cell_type": "code",
   "execution_count": 5,
   "metadata": {
    "collapsed": true
   },
   "outputs": [],
   "source": [
    "sorter = {'a': 6,\n",
    "          'f': 7,\n",
    "          'b': 2,\n",
    "          'c': 4,\n",
    "          'd':3,\n",
    "          'e': 1,\n",
    "          'g': 5\n",
    "         }\n",
    "\n",
    "genotype_mapping = {'a': 'egl-9;vhl-1',\n",
    "                    'f': 'egl-9;hif-1',\n",
    "                    'b': 'egl-9',\n",
    "                    'c': 'hif-1',\n",
    "                    'd': 'vhl-1',\n",
    "                    'e': 'rhy-1',\n",
    "                    'g': 'fog-2'\n",
    "                    }\n",
    "\n",
    "pretty_genotype_mapping = {'a': r'\\emph{egl-9;vhl-1}',\n",
    "                           'f': r'\\emph{egl-9;hif-1}',\n",
    "                           'b': r'\\emph{egl-9}',\n",
    "                           'c': r'\\emph{hif-1}',\n",
    "                           'd': r'\\emph{vhl-1}',\n",
    "                           'e': r'\\emph{rhy-1}',\n",
    "                           'g': r'\\emph{fog-2}'\n",
    "                          }\n",
    "\n",
    "# Specify the genotypes to refer to:\n",
    "single_mutants = ['b', 'c', 'd', 'e', 'g']\n",
    "\n",
    "# Specify which letters are double mutants and their genotype\n",
    "double_mutants = {'a' : 'bd', 'f':'bc'}"
   ]
  },
  {
   "cell_type": "code",
   "execution_count": 6,
   "metadata": {
    "collapsed": true
   },
   "outputs": [],
   "source": [
    "# initialize the morgan.hunt object:\n",
    "thomas = morgan.hunt('target_id', 'b', 'tpm', 'qval')\n",
    "\n",
    "# input the genmap file:\n",
    "thomas.add_genmap('../input/library_genotype_mapping.txt', comment='#')\n",
    "\n",
    "# add the names of the single mutants\n",
    "thomas.add_single_mutant(single_mutants)\n",
    "\n",
    "# add the names of the double mutants\n",
    "thomas.add_double_mutants(['a', 'f'], ['bd', 'bc'])\n",
    "\n",
    "# set the q-value threshold for significance to its default value, 0.1\n",
    "thomas.set_qval()\n",
    "\n",
    "# Add the tpm files: \n",
    "kallisto_loc = '../input/kallisto_all/'\n",
    "thomas.add_tpm(kallisto_loc, '/kallisto/abundance.tsv', '')\n",
    "\n",
    "# Make all possible combinations of WT, X\n",
    "combs = {}\n",
    "for gene in thomas.genmap.genotype.unique():\n",
    "    if gene != 'wt':\n",
    "        combs[gene] = 'WT_'+gene+'/'\n",
    "\n",
    "# load all the beta values for each genotype:\n",
    "sleuth_loc = '../sleuth_all_adjusted/kallisto/'\n",
    "for file in os.listdir(\"../sleuth_all_adjusted/kallisto\"):\n",
    "    if file[:4] == 'beta':\n",
    "        letter = file[-5:-4].lower()\n",
    "        thomas.add_beta(sleuth_loc + file, letter)\n",
    "        thomas.beta[letter].sort_values('target_id', inplace=True)\n",
    "        thomas.beta[letter].reset_index(inplace=True)"
   ]
  },
  {
   "cell_type": "code",
   "execution_count": 7,
   "metadata": {
    "collapsed": false
   },
   "outputs": [
    {
     "name": "stdout",
     "output_type": "stream",
     "text": [
      "Number of na genes: 232\n"
     ]
    }
   ],
   "source": [
    "thomas.filter_data(0, 0.1)"
   ]
  },
  {
   "cell_type": "code",
   "execution_count": 8,
   "metadata": {
    "collapsed": true
   },
   "outputs": [],
   "source": [
    "frames = []\n",
    "for key, df in thomas.beta.items():\n",
    "    df['genotype'] = genotype_mapping[key]\n",
    "    frames += [df]\n",
    "    df['sorter'] = sorter[key]\n",
    "\n",
    "tidy = pd.concat(frames)\n",
    "tidy['absb'] = tidy.b.abs()\n",
    "tidy.sort_values('sorter', inplace=True)"
   ]
  },
  {
   "cell_type": "markdown",
   "metadata": {},
   "source": [
    "# Isoforms Identified in all Genotypes"
   ]
  },
  {
   "cell_type": "code",
   "execution_count": 9,
   "metadata": {
    "collapsed": false
   },
   "outputs": [
    {
     "name": "stdout",
     "output_type": "stream",
     "text": [
      "Total isoforms identified in all genotypes: 13598\n"
     ]
    }
   ],
   "source": [
    "total_genes_id = tidy.target_id.unique().shape[0]\n",
    "print(\"Total isoforms identified in all genotypes: {0}\".format(total_genes_id))"
   ]
  },
  {
   "cell_type": "markdown",
   "metadata": {},
   "source": [
    "# Number of Differentially Expressed Genes (DEG) in each genotype"
   ]
  },
  {
   "cell_type": "code",
   "execution_count": 10,
   "metadata": {
    "collapsed": false,
    "scrolled": true
   },
   "outputs": [
    {
     "name": "stdout",
     "output_type": "stream",
     "text": [
      "Genotype: DEG\n",
      "rhy-1: 1816\n",
      "egl-9: 1487\n",
      "vhl-1: 605\n",
      "hif-1: 481\n",
      "fog-2: 1896\n",
      "egl-9;vhl-1: 1989\n",
      "egl-9;hif-1: 364\n"
     ]
    }
   ],
   "source": [
    "print('Genotype: DEG')\n",
    "for x in tidy.genotype.unique():\n",
    "    sel = (tidy.qval < q) & (tidy.genotype == x)\n",
    "    s = tidy[sel].ens_gene.unique().shape[0]\n",
    "    print(\n",
    "\"\"\"{0}: {1}\"\"\".format(x, s))"
   ]
  },
  {
   "cell_type": "markdown",
   "metadata": {},
   "source": [
    "# Perturbation Distributions"
   ]
  },
  {
   "cell_type": "code",
   "execution_count": 13,
   "metadata": {
    "collapsed": false
   },
   "outputs": [
    {
     "data": {
      "text/plain": [
       "(array([0, 1, 2, 3, 4, 5, 6]), <a list of 7 Text xticklabel objects>)"
      ]
     },
     "execution_count": 13,
     "metadata": {},
     "output_type": "execute_result"
    },
    {
     "data": {
      "image/png": "[encoded data removed]",
      "text/plain": [
       "<matplotlib.figure.Figure at 0x1183a0400>"
      ]
     },
     "metadata": {
      "image/png": {
       "height": 387,
       "width": 511
      }
     },
     "output_type": "display_data"
    }
   ],
   "source": [
    "sns.boxplot(x='genotype', y='absb', data=tidy[tidy.qval < q])\n",
    "plt.yscale('log')\n",
    "plt.xticks(rotation=30)"
   ]
  },
  {
   "cell_type": "code",
   "execution_count": 14,
   "metadata": {
    "collapsed": false
   },
   "outputs": [
    {
     "name": "stdout",
     "output_type": "stream",
     "text": [
      "rhy-1 and egl-9 share 1133 genes\n",
      "rhy-1 and vhl-1 share 440 genes\n",
      "rhy-1 and hif-1 share 203 genes\n",
      "rhy-1 and fog-2 share 618 genes\n",
      "rhy-1 and egl-9;vhl-1 share 1177 genes\n",
      "rhy-1 and egl-9;hif-1 share 233 genes\n",
      "egl-9 and vhl-1 share 463 genes\n",
      "egl-9 and hif-1 share 180 genes\n",
      "egl-9 and fog-2 share 593 genes\n",
      "egl-9 and egl-9;vhl-1 share 1249 genes\n",
      "egl-9 and egl-9;hif-1 share 203 genes\n",
      "vhl-1 and hif-1 share 113 genes\n",
      "vhl-1 and fog-2 share 298 genes\n",
      "vhl-1 and egl-9;vhl-1 share 569 genes\n",
      "vhl-1 and egl-9;hif-1 share 115 genes\n",
      "hif-1 and fog-2 share 204 genes\n",
      "hif-1 and egl-9;vhl-1 share 245 genes\n",
      "hif-1 and egl-9;hif-1 share 65 genes\n",
      "fog-2 and egl-9;vhl-1 share 721 genes\n",
      "fog-2 and egl-9;hif-1 share 123 genes\n",
      "egl-9;vhl-1 and egl-9;hif-1 share 275 genes\n"
     ]
    }
   ],
   "source": [
    "sig = (tidy.qval < q)\n",
    "for i, g1 in enumerate(tidy.genotype.unique()):\n",
    "    genes1 = tidy[sig & (tidy.genotype == g1)]\n",
    "    for j, g2 in enumerate(tidy.genotype.unique()[i+1:]):\n",
    "        genes2 = tidy[sig & (tidy.genotype == g2)]\n",
    "        \n",
    "        # find the overlap between the two:\n",
    "        n = genes2[genes2.ens_gene.isin(genes1.ens_gene)].shape[0]\n",
    "        OR = ((tidy.genotype == g1) | (tidy.genotype == g2)) \n",
    "        ntot = tidy[sig & OR].shape[0]\n",
    "        print(\"{0} and {1} share {2} genes\".format(\n",
    "              g1, g2, n)\n",
    "             )\n",
    "#         print(\"{0} and {1} share {2:.2g}% of their transcriptomes\".format(\n",
    "#               g1, g2, 100*n/ntot)\n",
    "#              )"
   ]
  },
  {
   "cell_type": "code",
   "execution_count": null,
   "metadata": {
    "collapsed": true
   },
   "outputs": [],
   "source": []
  },
  {
   "cell_type": "code",
   "execution_count": null,
   "metadata": {
    "collapsed": true
   },
   "outputs": [],
   "source": []
  }
 ],
 "metadata": {
  "anaconda-cloud": {},
  "kernelspec": {
   "display_name": "Python [default]",
   "language": "python",
   "name": "python3"
  },
  "language_info": {
   "codemirror_mode": {
    "name": "ipython",
    "version": 3
   },
   "file_extension": ".py",
   "mimetype": "text/x-python",
   "name": "python",
   "nbconvert_exporter": "python",
   "pygments_lexer": "ipython3",
   "version": "3.5.2"
  },
  "nav_menu": {},
  "toc": {
   "navigate_menu": true,
   "number_sections": true,
   "sideBar": true,
   "threshold": 6,
   "toc_cell": true,
   "toc_section_display": "block",
   "toc_window_display": true
  }
 },
 "nbformat": 4,
 "nbformat_minor": 2
}
