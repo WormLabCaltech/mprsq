{
 "cells": [
  {
   "cell_type": "markdown",
   "metadata": {
    "toc": "true"
   },
   "source": [
    "# Table of Contents\n",
    " <p><div class=\"lev1 toc-item\"><a href=\"#Effects-of-HIF-1-on-mitochondrial-proteins\" data-toc-modified-id=\"Effects-of-HIF-1-on-mitochondrial-proteins-1\"><span class=\"toc-item-num\">1&nbsp;&nbsp;</span>Effects of HIF-1 on mitochondrial proteins</a></div><div class=\"lev1 toc-item\"><a href=\"#HIF-1-effects-on-the-ribosome\" data-toc-modified-id=\"HIF-1-effects-on-the-ribosome-2\"><span class=\"toc-item-num\">2&nbsp;&nbsp;</span>HIF-1 effects on the ribosome</a></div><div class=\"lev1 toc-item\"><a href=\"#Bioenergetics-of-HIF-1\" data-toc-modified-id=\"Bioenergetics-of-HIF-1-3\"><span class=\"toc-item-num\">3&nbsp;&nbsp;</span>Bioenergetics of HIF-1</a></div><div class=\"lev1 toc-item\"><a href=\"#Effects-of-HIF-1-on-the-Proteasome-and-Mediator\" data-toc-modified-id=\"Effects-of-HIF-1-on-the-Proteasome-and-Mediator-4\"><span class=\"toc-item-num\">4&nbsp;&nbsp;</span>Effects of HIF-1 on the Proteasome and Mediator</a></div><div class=\"lev2 toc-item\"><a href=\"#Effect-of-HIF-1-on-proteins-involved-in-'protein-catabolic-process'\" data-toc-modified-id=\"Effect-of-HIF-1-on-proteins-involved-in-'protein-catabolic-process'-4.1\"><span class=\"toc-item-num\">4.1&nbsp;&nbsp;</span>Effect of HIF-1 on proteins involved in 'protein catabolic process'</a></div><div class=\"lev1 toc-item\"><a href=\"#Proteins-annotated-as-involved-in-protein-folding\" data-toc-modified-id=\"Proteins-annotated-as-involved-in-protein-folding-5\"><span class=\"toc-item-num\">5&nbsp;&nbsp;</span>Proteins annotated as involved in protein folding</a></div><div class=\"lev1 toc-item\"><a href=\"#Immune-Involvement\" data-toc-modified-id=\"Immune-Involvement-6\"><span class=\"toc-item-num\">6&nbsp;&nbsp;</span>Immune Involvement</a></div>"
   ]
  },
  {
   "cell_type": "code",
   "execution_count": 1,
   "metadata": {
    "collapsed": false
   },
   "outputs": [],
   "source": [
    "# important stuff:\n",
    "import os\n",
    "import pandas as pd\n",
    "import numpy as np\n",
    "\n",
    "# morgan\n",
    "import morgan as morgan\n",
    "\n",
    "import matplotlib.pyplot as plt\n",
    "import seaborn as sns\n",
    "\n",
    "# Magic function to make matplotlib inline;\n",
    "# other style specs must come AFTER\n",
    "%matplotlib inline\n",
    "\n",
    "# This enables SVG graphics inline. \n",
    "# There is a bug, so uncomment if it works.\n",
    "%config InlineBackend.figure_formats = {'png', 'retina'}\n",
    "\n",
    "import genpy\n",
    "import seqplotter\n",
    "import gvars"
   ]
  },
  {
   "cell_type": "code",
   "execution_count": 2,
   "metadata": {
    "collapsed": true
   },
   "outputs": [],
   "source": [
    "ft = 35 #title fontsize\n",
    "\n",
    "q = 0.1\n",
    "\n",
    "genotype_mapping = {'a': r'\\emph{egl-9;vhl-1}',\n",
    "                    'f': r'\\emph{egl-9;hif-1}',\n",
    "                    'b': r'\\emph{egl-9}',\n",
    "                    'c': r'\\emph{hif-1}',\n",
    "                    'd': r'\\emph{vhl-1}',\n",
    "                    'e': r'\\emph{rhy-1}',\n",
    "                    'g': r'\\emph{fog-2}'\n",
    "                    }\n",
    "\n",
    "sorter = {\n",
    "          'a' : 4,\n",
    "          'b' : 1,\n",
    "          'c' : 3,\n",
    "          'd' : 2,\n",
    "          'e' : 0,\n",
    "          'f' : 5,\n",
    "          'g' : 6,\n",
    "         }"
   ]
  },
  {
   "cell_type": "code",
   "execution_count": 3,
   "metadata": {
    "collapsed": true
   },
   "outputs": [],
   "source": [
    "# Specify the genotypes to refer to:\n",
    "single_mutants = ['b', 'c', 'd', 'e', 'g']\n",
    "# Specify which genotypes are double mutants \n",
    "# and of what single mutants:\n",
    "double_mutants = {'a' : 'bd', 'f':'bc'}\n",
    "\n",
    "# initialize the morgan.hunt object:\n",
    "thomas = morgan.hunt('target_id', 'b', 'tpm', 'qval')\n",
    "\n",
    "# input the genmap file:\n",
    "thomas.add_genmap('../input/library_genotype_mapping.txt', comment='#')\n",
    "\n",
    "# add the names of the single mutants\n",
    "thomas.add_single_mutant(single_mutants)\n",
    "\n",
    "# add the names of the double mutants\n",
    "thomas.add_double_mutants(['a', 'f'], ['bd', 'bc'])\n",
    "\n",
    "# set the q-value threshold for significance to its default value, 0.1\n",
    "thomas.set_qval()\n",
    "\n",
    "# Add the tpm files: \n",
    "kallisto_loc = '../input/kallisto_all/'\n",
    "thomas.add_tpm(kallisto_loc, '/kallisto/abundance.tsv', '')\n",
    "\n",
    "# load all the beta values for each genotype:\n",
    "sleuth_loc = '../sleuth_all_adjusted/kallisto/'\n",
    "for file in os.listdir(\"../sleuth_all_adjusted/kallisto\"):\n",
    "    if file[:4] == 'beta':\n",
    "        letter = file[-5:-4].lower()\n",
    "        thomas.add_beta(sleuth_loc + file, letter)\n",
    "        thomas.beta[letter].sort_values('target_id', inplace=True)\n",
    "        thomas.beta[letter].reset_index(inplace=True)"
   ]
  },
  {
   "cell_type": "code",
   "execution_count": 4,
   "metadata": {
    "collapsed": false
   },
   "outputs": [
    {
     "name": "stdout",
     "output_type": "stream",
     "text": [
      "Number of na genes: 232\n"
     ]
    }
   ],
   "source": [
    "thomas.filter_data(0, 0.1)"
   ]
  },
  {
   "cell_type": "code",
   "execution_count": 5,
   "metadata": {
    "collapsed": false
   },
   "outputs": [],
   "source": [
    "respiratory_complexes = pd.read_excel('../input/respiratory_complexes.xlsx')\n",
    "central_dogma = pd.read_excel('../input/central_dogma.xlsx')"
   ]
  },
  {
   "cell_type": "code",
   "execution_count": 6,
   "metadata": {
    "collapsed": true
   },
   "outputs": [],
   "source": [
    "genvar = gvars.genvars()"
   ]
  },
  {
   "cell_type": "code",
   "execution_count": 7,
   "metadata": {
    "collapsed": false
   },
   "outputs": [
    {
     "ename": "NameError",
     "evalue": "name 'tea' is not defined",
     "output_type": "error",
     "traceback": [
      "\u001b[0;31m---------------------------------------\u001b[0m",
      "\u001b[0;31mNameError\u001b[0mTraceback (most recent call last)",
      "\u001b[0;32m<ipython-input-7-0167c62f4896>\u001b[0m in \u001b[0;36m<module>\u001b[0;34m()\u001b[0m\n\u001b[0;32m----> 1\u001b[0;31m \u001b[0mtissue_df\u001b[0m \u001b[0;34m=\u001b[0m \u001b[0mtea\u001b[0m\u001b[0;34m.\u001b[0m\u001b[0mfetch_dictionary\u001b[0m\u001b[0;34m(\u001b[0m\u001b[0;34m)\u001b[0m\u001b[0;34m\u001b[0m\u001b[0m\n\u001b[0m\u001b[1;32m      2\u001b[0m \u001b[0mphenotype_df\u001b[0m \u001b[0;34m=\u001b[0m \u001b[0mpd\u001b[0m\u001b[0;34m.\u001b[0m\u001b[0mread_csv\u001b[0m\u001b[0;34m(\u001b[0m\u001b[0;34m'../input/phenotype_ontology.csv'\u001b[0m\u001b[0;34m)\u001b[0m\u001b[0;34m\u001b[0m\u001b[0m\n\u001b[1;32m      3\u001b[0m \u001b[0mgo_df\u001b[0m \u001b[0;34m=\u001b[0m \u001b[0mpd\u001b[0m\u001b[0;34m.\u001b[0m\u001b[0mread_csv\u001b[0m\u001b[0;34m(\u001b[0m\u001b[0;34m'../input/go_dictionary.csv'\u001b[0m\u001b[0;34m)\u001b[0m\u001b[0;34m\u001b[0m\u001b[0m\n",
      "\u001b[0;31mNameError\u001b[0m: name 'tea' is not defined"
     ]
    }
   ],
   "source": [
    "tissue_df = tea.fetch_dictionary()\n",
    "phenotype_df = pd.read_csv('../input/phenotype_ontology.csv')\n",
    "go_df = pd.read_csv('../input/go_dictionary.csv')"
   ]
  },
  {
   "cell_type": "code",
   "execution_count": 8,
   "metadata": {
    "collapsed": false
   },
   "outputs": [
    {
     "ename": "NameError",
     "evalue": "name 'tissue_df' is not defined",
     "output_type": "error",
     "traceback": [
      "\u001b[0;31m---------------------------------------\u001b[0m",
      "\u001b[0;31mNameError\u001b[0mTraceback (most recent call last)",
      "\u001b[0;32m<ipython-input-8-680d02762a3d>\u001b[0m in \u001b[0;36m<module>\u001b[0;34m()\u001b[0m\n\u001b[0;32m----> 1\u001b[0;31m \u001b[0mmelted_tissue\u001b[0m \u001b[0;34m=\u001b[0m \u001b[0mpd\u001b[0m\u001b[0;34m.\u001b[0m\u001b[0mmelt\u001b[0m\u001b[0;34m(\u001b[0m\u001b[0mtissue_df\u001b[0m\u001b[0;34m,\u001b[0m \u001b[0mid_vars\u001b[0m\u001b[0;34m=\u001b[0m\u001b[0;34m'wbid'\u001b[0m\u001b[0;34m,\u001b[0m \u001b[0mvar_name\u001b[0m\u001b[0;34m=\u001b[0m\u001b[0;34m'term'\u001b[0m\u001b[0;34m,\u001b[0m \u001b[0mvalue_name\u001b[0m\u001b[0;34m=\u001b[0m\u001b[0;34m'expressed'\u001b[0m\u001b[0;34m)\u001b[0m\u001b[0;34m\u001b[0m\u001b[0m\n\u001b[0m\u001b[1;32m      2\u001b[0m \u001b[0mmelted_tissue\u001b[0m \u001b[0;34m=\u001b[0m \u001b[0mmelted_tissue\u001b[0m\u001b[0;34m[\u001b[0m\u001b[0mmelted_tissue\u001b[0m\u001b[0;34m.\u001b[0m\u001b[0mexpressed\u001b[0m \u001b[0;34m==\u001b[0m \u001b[0;36m1\u001b[0m\u001b[0;34m]\u001b[0m\u001b[0;34m\u001b[0m\u001b[0m\n\u001b[1;32m      3\u001b[0m \u001b[0;34m\u001b[0m\u001b[0m\n\u001b[1;32m      4\u001b[0m \u001b[0mmelted_phenotype\u001b[0m \u001b[0;34m=\u001b[0m \u001b[0mpd\u001b[0m\u001b[0;34m.\u001b[0m\u001b[0mmelt\u001b[0m\u001b[0;34m(\u001b[0m\u001b[0mphenotype_df\u001b[0m\u001b[0;34m,\u001b[0m \u001b[0mid_vars\u001b[0m\u001b[0;34m=\u001b[0m\u001b[0;34m'wbid'\u001b[0m\u001b[0;34m,\u001b[0m \u001b[0mvar_name\u001b[0m\u001b[0;34m=\u001b[0m\u001b[0;34m'term'\u001b[0m\u001b[0;34m,\u001b[0m \u001b[0mvalue_name\u001b[0m\u001b[0;34m=\u001b[0m\u001b[0;34m'expressed'\u001b[0m\u001b[0;34m)\u001b[0m\u001b[0;34m\u001b[0m\u001b[0m\n\u001b[1;32m      5\u001b[0m \u001b[0mmelted_phenotype\u001b[0m \u001b[0;34m=\u001b[0m \u001b[0mmelted_phenotype\u001b[0m\u001b[0;34m[\u001b[0m\u001b[0mmelted_phenotype\u001b[0m\u001b[0;34m.\u001b[0m\u001b[0mexpressed\u001b[0m \u001b[0;34m==\u001b[0m \u001b[0;36m1\u001b[0m\u001b[0;34m]\u001b[0m\u001b[0;34m\u001b[0m\u001b[0m\n",
      "\u001b[0;31mNameError\u001b[0m: name 'tissue_df' is not defined"
     ]
    }
   ],
   "source": [
    "melted_tissue = pd.melt(tissue_df, id_vars='wbid', var_name='term', value_name='expressed')\n",
    "melted_tissue = melted_tissue[melted_tissue.expressed == 1]\n",
    "\n",
    "melted_phenotype = pd.melt(phenotype_df, id_vars='wbid', var_name='term', value_name='expressed')\n",
    "melted_phenotype = melted_phenotype[melted_phenotype.expressed == 1]\n",
    "\n",
    "melted_go = pd.melt(go_df, id_vars='wbid', var_name='term', value_name='expressed')\n",
    "melted_go = melted_go[melted_go.expressed == 1]"
   ]
  },
  {
   "cell_type": "code",
   "execution_count": 9,
   "metadata": {
    "collapsed": false
   },
   "outputs": [],
   "source": [
    "frames = []\n",
    "for key, df in thomas.beta.items():\n",
    "    genotype = genvar.fancy_mapping[key]\n",
    "    df['code'] = key\n",
    "    df['genotype'] = genotype\n",
    "    df['sort_order'] = genvar.plot_order[genotype]\n",
    "    df['abs_b'] = df.b.abs()\n",
    "    frames += [df]"
   ]
  },
  {
   "cell_type": "code",
   "execution_count": 10,
   "metadata": {
    "collapsed": false
   },
   "outputs": [],
   "source": [
    "tidy_data = pd.concat(frames)\n",
    "tidy_data.sort_values('sort_order', inplace=True)\n",
    "\n",
    "# drop the fog-2 data:\n",
    "tidy_data = tidy_data[tidy_data.code != 'g']"
   ]
  },
  {
   "cell_type": "markdown",
   "metadata": {},
   "source": [
    "# Effects of HIF-1 on mitochondrial proteins"
   ]
  },
  {
   "cell_type": "code",
   "execution_count": null,
   "metadata": {
    "collapsed": false
   },
   "outputs": [],
   "source": [
    "ax, mito = seqplotter.plot_by_term('mitochondrion', df=tidy_data, kind='go', swarm=True)"
   ]
  },
  {
   "cell_type": "markdown",
   "metadata": {},
   "source": [
    "# HIF-1 effects on the ribosome"
   ]
  },
  {
   "cell_type": "code",
   "execution_count": 11,
   "metadata": {
    "collapsed": false
   },
   "outputs": [
    {
     "data": {
      "image/png": "[encoded data removed]",
      "text/plain": [
       "<matplotlib.figure.Figure at 0x11b693a20>"
      ]
     },
     "metadata": {
      "image/png": {
       "height": 349,
       "width": 508
      }
     },
     "output_type": "display_data"
    }
   ],
   "source": [
    "ax, ribosome = seqplotter.plot_by_term('structural constituent of ribosome GO:0003735', df=tidy_data, kind='go')"
   ]
  },
  {
   "cell_type": "code",
   "execution_count": 12,
   "metadata": {
    "collapsed": false
   },
   "outputs": [
    {
     "data": {
      "text/plain": [
       "981056    WBGene00004437\n",
       "981333    WBGene00004421\n",
       "981462    WBGene00004499\n",
       "981498    WBGene00022373\n",
       "981659    WBGene00004490\n",
       "981698    WBGene00013324\n",
       "981732    WBGene00021829\n",
       "981838    WBGene00021920\n",
       "981937    WBGene00006725\n",
       "981959    WBGene00004473\n",
       "982010    WBGene00011740\n",
       "982018    WBGene00015025\n",
       "982246    WBGene00004413\n",
       "982357    WBGene00011309\n",
       "982410    WBGene00004474\n",
       "982433    WBGene00017319\n",
       "982626    WBGene00020718\n",
       "982690    WBGene00011391\n",
       "982765    WBGene00010783\n",
       "982956    WBGene00015133\n",
       "983027    WBGene00004454\n",
       "983273    WBGene00044321\n",
       "983305    WBGene00023422\n",
       "983307    WBGene00004436\n",
       "983326    WBGene00010624\n",
       "983621    WBGene00004423\n",
       "983680    WBGene00185067\n",
       "983779    WBGene00012645\n",
       "983796    WBGene00004416\n",
       "983960    WBGene00004434\n",
       "               ...      \n",
       "991837    WBGene00008452\n",
       "991862    WBGene00004456\n",
       "992105    WBGene00023068\n",
       "992113    WBGene00004495\n",
       "992193    WBGene00007712\n",
       "992241    WBGene00004443\n",
       "992558    WBGene00015487\n",
       "992579    WBGene00004479\n",
       "992658    WBGene00004425\n",
       "992659    WBGene00020735\n",
       "992748    WBGene00012179\n",
       "992922    WBGene00016493\n",
       "993054    WBGene00004412\n",
       "993075    WBGene00018475\n",
       "993619    WBGene00004414\n",
       "993815    WBGene00021350\n",
       "993880    WBGene00004496\n",
       "994021    WBGene00016249\n",
       "994070    WBGene00004485\n",
       "994191    WBGene00000933\n",
       "994264    WBGene00011412\n",
       "994289    WBGene00015185\n",
       "994450    WBGene00004438\n",
       "994485    WBGene00015092\n",
       "994494    WBGene00004422\n",
       "994685    WBGene00004445\n",
       "994782    WBGene00004430\n",
       "994861    WBGene00021935\n",
       "995012    WBGene00012697\n",
       "995082    WBGene00004408\n",
       "Name: wbid, dtype: object"
      ]
     },
     "execution_count": 12,
     "metadata": {},
     "output_type": "execute_result"
    }
   ],
   "source": [
    "ribosome"
   ]
  },
  {
   "cell_type": "markdown",
   "metadata": {},
   "source": [
    "# Bioenergetics of HIF-1"
   ]
  },
  {
   "cell_type": "code",
   "execution_count": null,
   "metadata": {
    "collapsed": false
   },
   "outputs": [],
   "source": [
    "resp = tidy_data[tidy_data.ens_gene.isin(respiratory_complexes.ens_gene) \n",
    "                 & (tidy_data.qval < q)\n",
    "                 & (tidy_data.genotype != 'f') \n",
    "                 & ((tidy_data.genotype != 'c'))].copy()\n",
    "resp['complex'] = resp.ens_gene.map(lambda x: \n",
    "                                    respiratory_complexes[respiratory_complexes.ens_gene == x].complex.values[0])\n",
    "resp['sort_order'] = resp.ens_gene.map(lambda x: \n",
    "                                       respiratory_complexes[respiratory_complexes.ens_gene == x].sort_order.values[0])\n",
    "resp.sort_values('sort_order', inplace=True)\n",
    "resp = resp[resp.complex != 'Ubiquinone Biosynthesis']"
   ]
  },
  {
   "cell_type": "code",
   "execution_count": null,
   "metadata": {
    "collapsed": false
   },
   "outputs": [],
   "source": [
    "fig, ax = plt.subplots()\n",
    "ax = sns.swarmplot(x='complex', y='b', hue='ens_gene', data=resp, size=7)\n",
    "plt.xticks(rotation=45)\n",
    "ax.legend_.remove()\n",
    "plt.title('HIF-1 mediated bioenergetics changes')\n",
    "plt.ylabel(r'\\beta')\n",
    "plt.xlabel('TCA, ETC or Energy Reserve')\n",
    "ax.hlines(0, xmin=-2, xmax=10, lw=2, linestyle='--')\n",
    "plt.ylim(-4, 1)\n",
    "plt.savefig('../output/mito_function.pdf')"
   ]
  },
  {
   "cell_type": "markdown",
   "metadata": {},
   "source": [
    "# Effects of HIF-1 on the Proteasome and Mediator"
   ]
  },
  {
   "cell_type": "code",
   "execution_count": null,
   "metadata": {
    "collapsed": false
   },
   "outputs": [],
   "source": [
    "prot = tidy_data[tidy_data.ens_gene.isin(central_dogma.ens_gene) &\n",
    "                 (tidy_data.qval < q)].copy()\n",
    "prot['complex'] = prot.ens_gene.map(lambda x: central_dogma[central_dogma.ens_gene == x].complex.values[0])"
   ]
  },
  {
   "cell_type": "code",
   "execution_count": null,
   "metadata": {
    "collapsed": false
   },
   "outputs": [],
   "source": [
    "fig, ax = plt.subplots()\n",
    "ax = sns.swarmplot(x='complex', y='b', hue='ens_gene', data=prot, size=7)\n",
    "plt.xticks(rotation=45)\n",
    "ax.legend_.remove()\n",
    "# plt.title('HIF-1 mediated changes in ETC expression')\n",
    "plt.ylabel(r'\\beta')\n",
    "# plt.xlabel('Electron Transport Chain Complexes')"
   ]
  },
  {
   "cell_type": "markdown",
   "metadata": {},
   "source": [
    "## Effect of HIF-1 on proteins involved in 'protein catabolic process'\n",
    "This GO term includes proteins that are involved in protein degradation, including the proteasome, a variety of ubiquitin-related enzymes and proteases"
   ]
  },
  {
   "cell_type": "code",
   "execution_count": null,
   "metadata": {
    "collapsed": false
   },
   "outputs": [],
   "source": [
    "ax, negregproteolysis = plotting.plot_by_term('protein catabolic process GO:0030163',\n",
    "                                              df=tidy_data, kind='go')"
   ]
  },
  {
   "cell_type": "markdown",
   "metadata": {},
   "source": [
    "# Proteins annotated as involved in protein folding"
   ]
  },
  {
   "cell_type": "code",
   "execution_count": null,
   "metadata": {
    "collapsed": false
   },
   "outputs": [],
   "source": [
    "ax, folding = plotting.plot_by_term('protein folding', df=tidy_data, kind='go')"
   ]
  },
  {
   "cell_type": "markdown",
   "metadata": {},
   "source": [
    "# Immune Involvement"
   ]
  },
  {
   "cell_type": "code",
   "execution_count": null,
   "metadata": {
    "collapsed": false
   },
   "outputs": [],
   "source": [
    "immune = plotting.plot_by_term('immune system process', df=tidy_data, kind='go')"
   ]
  },
  {
   "cell_type": "code",
   "execution_count": null,
   "metadata": {
    "collapsed": true
   },
   "outputs": [],
   "source": []
  },
  {
   "cell_type": "code",
   "execution_count": null,
   "metadata": {
    "collapsed": true
   },
   "outputs": [],
   "source": []
  }
 ],
 "metadata": {
  "anaconda-cloud": {},
  "kernelspec": {
   "display_name": "Python [default]",
   "language": "python",
   "name": "python3"
  },
  "language_info": {
   "codemirror_mode": {
    "name": "ipython",
    "version": 3
   },
   "file_extension": ".py",
   "mimetype": "text/x-python",
   "name": "python",
   "nbconvert_exporter": "python",
   "pygments_lexer": "ipython3",
   "version": "3.5.2"
  },
  "nav_menu": {},
  "toc": {
   "navigate_menu": true,
   "number_sections": true,
   "sideBar": true,
   "threshold": 6,
   "toc_cell": true,
   "toc_section_display": "block",
   "toc_window_display": true
  }
 },
 "nbformat": 4,
 "nbformat_minor": 2
}
