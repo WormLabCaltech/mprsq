{
 "cells": [
  {
   "cell_type": "markdown",
   "metadata": {
    "toc": "true"
   },
   "source": [
    "# Table of Contents\n",
    " <p>"
   ]
  },
  {
   "cell_type": "code",
   "execution_count": 9,
   "metadata": {
    "collapsed": true
   },
   "outputs": [],
   "source": [
    "import pandas as pd\n",
    "import numpy as np\n",
    "import morgan as morgan\n",
    "import os\n",
    "import genpy\n",
    "import gvars\n"
   ]
  },
  {
   "cell_type": "code",
   "execution_count": 6,
   "metadata": {
    "collapsed": true
   },
   "outputs": [],
   "source": [
    "gold = pd.read_csv('../input/hypoxia_gold_standard.csv')\n",
    "\n",
    "# Add the tpm files: \n",
    "q = 0.1\n",
    "kallisto_loc = '../input/kallisto_all/'\n",
    "sleuth_loc = '../sleuth/kallisto/'\n",
    "# Specify the genotypes to refer to:\n",
    "single_mutants = ['b', 'c', 'd', 'e', 'g']\n",
    "double_mutants = {'a' : 'bd', 'f':'bc'}\n",
    "\n",
    "# initialize the morgan.hunt object:\n",
    "thomas = morgan.hunt('target_id', 'b', 'tpm', 'qval')\n",
    "thomas.add_genmap('../input/library_genotype_mapping.txt', comment='#')\n",
    "thomas.add_single_mutant(single_mutants)\n",
    "thomas.add_double_mutants(['a', 'f'], ['bd', 'bc'])\n",
    "thomas.set_qval()\n",
    "thomas.add_tpm(kallisto_loc, '/kallisto/abundance.tsv', '')\n",
    "\n",
    "# load all the beta values for each genotype:\n",
    "for file in os.listdir(\"../sleuth/kallisto\"):\n",
    "    if file[:4] == 'beta':\n",
    "        letter = file[-5:-4].lower()\n",
    "        thomas.add_beta(sleuth_loc + file, letter)\n",
    "        thomas.beta[letter].sort_values('target_id', inplace=True)\n",
    "        thomas.beta[letter].reset_index(inplace=True)\n",
    "thomas.filter_data()"
   ]
  },
  {
   "cell_type": "code",
   "execution_count": 12,
   "metadata": {
    "collapsed": true
   },
   "outputs": [],
   "source": [
    "frames = []\n",
    "for key, df in thomas.beta.items():\n",
    "    df['genotype'] = genvar.fancy_mapping[key]\n",
    "    df['code'] = key\n",
    "    frames += [df]\n",
    "    df['sorter'] = genvar.sort_muts[key]\n",
    "\n",
    "tidy = pd.concat(frames)\n",
    "tidy.sort_values('sorter', inplace=True)\n",
    "tidy.dropna(subset=['ens_gene'], inplace=True)"
   ]
  },
  {
   "cell_type": "code",
   "execution_count": 16,
   "metadata": {},
   "outputs": [
    {
     "data": {
      "text/plain": [
       "(22, 1)"
      ]
     },
     "execution_count": 16,
     "metadata": {},
     "output_type": "execute_result"
    }
   ],
   "source": [
    "gold.shape"
   ]
  },
  {
   "cell_type": "code",
   "execution_count": 10,
   "metadata": {
    "collapsed": true
   },
   "outputs": [],
   "source": [
    "genvar = gvars.genvars()"
   ]
  },
  {
   "cell_type": "code",
   "execution_count": 14,
   "metadata": {},
   "outputs": [
    {
     "name": "stdout",
     "output_type": "stream",
     "text": [
      "Genotype, #TFs\n",
      "egl-9;vhl-1 15\n",
      "egl-9 14\n",
      "hif-1 2\n",
      "vhl-1 11\n",
      "rhy-1 14\n",
      "egl-9;hif-1 4\n"
     ]
    }
   ],
   "source": [
    "codes = ['a', 'b', 'c', 'd', 'e', 'f']\n",
    "\n",
    "print('Genotype, #TFs')\n",
    "for c in codes:\n",
    "    ind = (tidy.qval < q) & (tidy.code == c) & (tidy.ens_gene.isin(gold.WBIDS))\n",
    "    print(genvar.mapping[c], tidy[ind].shape[0])"
   ]
  },
  {
   "cell_type": "code",
   "execution_count": 15,
   "metadata": {},
   "outputs": [
    {
     "data": {
      "text/html": [
       "<div>\n",
       "<table border=\"1\" class=\"dataframe\">\n",
       "  <thead>\n",
       "    <tr style=\"text-align: right;\">\n",
       "      <th></th>\n",
       "      <th>index</th>\n",
       "      <th>Unnamed: 0</th>\n",
       "      <th>target_id</th>\n",
       "      <th>pval</th>\n",
       "      <th>qval</th>\n",
       "      <th>b</th>\n",
       "      <th>se_b</th>\n",
       "      <th>mean_obs</th>\n",
       "      <th>var_obs</th>\n",
       "      <th>tech_var</th>\n",
       "      <th>sigma_sq</th>\n",
       "      <th>smooth_sigma_sq</th>\n",
       "      <th>final_sigma_sq</th>\n",
       "      <th>ens_gene</th>\n",
       "      <th>ext_gene</th>\n",
       "      <th>genotype</th>\n",
       "      <th>code</th>\n",
       "      <th>sorter</th>\n",
       "    </tr>\n",
       "  </thead>\n",
       "  <tbody>\n",
       "    <tr>\n",
       "      <th>24825</th>\n",
       "      <td>42</td>\n",
       "      <td>43</td>\n",
       "      <td>W07A12.7</td>\n",
       "      <td>3.147921e-10</td>\n",
       "      <td>1.466785e-07</td>\n",
       "      <td>0.469131</td>\n",
       "      <td>0.074568</td>\n",
       "      <td>6.880413</td>\n",
       "      <td>2.016610</td>\n",
       "      <td>0.001792</td>\n",
       "      <td>0.002415</td>\n",
       "      <td>0.006549</td>\n",
       "      <td>0.006549</td>\n",
       "      <td>WBGene00012324</td>\n",
       "      <td>rhy-1</td>\n",
       "      <td>\\emph{hif-1}</td>\n",
       "      <td>c</td>\n",
       "      <td>4</td>\n",
       "    </tr>\n",
       "    <tr>\n",
       "      <th>18104</th>\n",
       "      <td>330</td>\n",
       "      <td>331</td>\n",
       "      <td>K10H10.2.1</td>\n",
       "      <td>7.366751e-05</td>\n",
       "      <td>4.459222e-03</td>\n",
       "      <td>-0.581204</td>\n",
       "      <td>0.146616</td>\n",
       "      <td>6.587986</td>\n",
       "      <td>3.535277</td>\n",
       "      <td>0.025268</td>\n",
       "      <td>-0.001996</td>\n",
       "      <td>0.006976</td>\n",
       "      <td>0.006976</td>\n",
       "      <td>WBGene00010759</td>\n",
       "      <td>cysl-2</td>\n",
       "      <td>\\emph{hif-1}</td>\n",
       "      <td>c</td>\n",
       "      <td>4</td>\n",
       "    </tr>\n",
       "  </tbody>\n",
       "</table>\n",
       "</div>"
      ],
      "text/plain": [
       "       index  Unnamed: 0   target_id          pval          qval         b  \\\n",
       "24825     42          43    W07A12.7  3.147921e-10  1.466785e-07  0.469131   \n",
       "18104    330         331  K10H10.2.1  7.366751e-05  4.459222e-03 -0.581204   \n",
       "\n",
       "           se_b  mean_obs   var_obs  tech_var  sigma_sq  smooth_sigma_sq  \\\n",
       "24825  0.074568  6.880413  2.016610  0.001792  0.002415         0.006549   \n",
       "18104  0.146616  6.587986  3.535277  0.025268 -0.001996         0.006976   \n",
       "\n",
       "       final_sigma_sq        ens_gene ext_gene      genotype code  sorter  \n",
       "24825        0.006549  WBGene00012324    rhy-1  \\emph{hif-1}    c       4  \n",
       "18104        0.006976  WBGene00010759   cysl-2  \\emph{hif-1}    c       4  "
      ]
     },
     "execution_count": 15,
     "metadata": {},
     "output_type": "execute_result"
    }
   ],
   "source": [
    "ind = (tidy.qval < q) & (tidy.code == 'c') & (tidy.ens_gene.isin(gold.WBIDS))\n",
    "tidy[ind]"
   ]
  },
  {
   "cell_type": "code",
   "execution_count": null,
   "metadata": {
    "collapsed": true
   },
   "outputs": [],
   "source": []
  }
 ],
 "metadata": {
  "kernelspec": {
   "display_name": "Python [default]",
   "language": "python",
   "name": "python3"
  },
  "language_info": {
   "codemirror_mode": {
    "name": "ipython",
    "version": 3
   },
   "file_extension": ".py",
   "mimetype": "text/x-python",
   "name": "python",
   "nbconvert_exporter": "python",
   "pygments_lexer": "ipython3",
   "version": "3.5.3"
  },
  "nav_menu": {},
  "toc": {
   "navigate_menu": true,
   "number_sections": true,
   "sideBar": true,
   "threshold": 6,
   "toc_cell": true,
   "toc_section_display": "block",
   "toc_window_display": true
  }
 },
 "nbformat": 4,
 "nbformat_minor": 2
}
