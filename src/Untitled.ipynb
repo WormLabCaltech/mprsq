{
 "cells": [
  {
   "cell_type": "code",
   "execution_count": 10,
   "metadata": {
    "collapsed": true
   },
   "outputs": [],
   "source": [
    "import pandas as pd\n",
    "import numpy as np\n",
    "\n",
    "def is_number(s):\n",
    "    \"\"\"\n",
    "    found in: http://stackoverflow.com/questions/354038/how-do-i-check-if-a-string-is-a-number-float-in-python\n",
    "    \"\"\"\n",
    "    try:\n",
    "        float(s)\n",
    "        return True\n",
    "    except ValueError:\n",
    "        return False\n",
    "\n",
    "singlet = ['a', 'b', 'c', 'd', 'e', 'f', 'g']\n",
    "\n",
    "pairs = []\n",
    "\n",
    "for i in range(0, len(singlet)):\n",
    "    for j in range(i, len(singlet)):\n",
    "        pairs += [singlet[i] + singlet[j]]"
   ]
  },
  {
   "cell_type": "code",
   "execution_count": 120,
   "metadata": {
    "collapsed": false,
    "scrolled": false
   },
   "outputs": [],
   "source": [
    "i = 0\n",
    "with open('../input/downsampling.csv', 'r') as f:\n",
    "    s = f.read()\n",
    "    array = s.split('\\n')\n",
    "    for i, string in enumerate(array):\n",
    "        if i == 0:\n",
    "            continue\n",
    "        if string is False:\n",
    "            continue\n",
    "        row = string.split(',')\n",
    "        if len(row) < 3:\n",
    "            continue\n",
    "        if is_number(row[2]) is True:\n",
    "            temp = row[2]\n",
    "            row[2] = row[3]\n",
    "            row[3] = temp\n",
    "        if row[0] not in pairs:\n",
    "            if len(row[0]) > 1:\n",
    "                if row[0][1] + row[0][0] in pairs:\n",
    "                    row[0] = row[0][1] + row[0][0]\n",
    "        array[i] = row"
   ]
  },
  {
   "cell_type": "code",
   "execution_count": 121,
   "metadata": {
    "collapsed": false
   },
   "outputs": [],
   "source": [
    "df = pd.DataFrame(array[1:-1], columns=['pair', 'a_value', 'analysis', 'read_files'])\n",
    "df.a_value = pd.to_numeric(df.a_value)"
   ]
  },
  {
   "cell_type": "code",
   "execution_count": 122,
   "metadata": {
    "collapsed": true
   },
   "outputs": [],
   "source": [
    "grouped = df.groupby(['read_files', 'pair'])"
   ]
  },
  {
   "cell_type": "code",
   "execution_count": 135,
   "metadata": {
    "collapsed": false,
    "scrolled": false
   },
   "outputs": [
    {
     "name": "stdout",
     "output_type": "stream",
     "text": [
      "('1', 'bc') 1+/-4.3e-12\n",
      "('1', 'bd') 1+/-4.3e-12\n",
      "('1', 'be') 1+/-3.9e-12\n",
      "('1', 'bg') 0.92+/-0.34\n",
      "('1', 'cd') 1+/-4.6e-12\n",
      "('1', 'ce') 1+/-2.6e-08\n",
      "('1', 'cg') 0.38+/-0.3\n",
      "('1', 'de') 1+/-5.5e-12\n",
      "('1', 'dg') 0.65+/-0.21\n",
      "('1', 'eg') 0.94+/-0.073\n",
      "('3', 'bc') 1+/-6.9e-12\n",
      "('3', 'bd') 1+/-7.2e-12\n",
      "('3', 'be') 1+/-4.9e-12\n",
      "('3', 'bg') 0.87+/-0.17\n",
      "('3', 'cd') 1+/-5e-12\n",
      "('3', 'ce') 1+/-7.7e-12\n",
      "('3', 'cg') 0.00015+/-0.00027\n",
      "('3', 'de') 1+/-5.8e-12\n",
      "('3', 'dg') 0.76+/-0.13\n",
      "('3', 'eg') 0.94+/-0.11\n"
     ]
    }
   ],
   "source": [
    "for name, group in grouped:\n",
    "#     if name[1] == 'db' or name[1] == 'bd':\n",
    "    if (len(name[1]) > 1) & (name[1] != 'all'):\n",
    "        mean = group[group.analysis == 'hyper_plus'].a_value.median()\n",
    "        std = group[group.analysis == 'hyper_plus'].a_value.std()\n",
    "        print(name, '{0:.2g}+/-{1:.2g}'.format(mean, std))\n"
   ]
  },
  {
   "cell_type": "code",
   "execution_count": 81,
   "metadata": {
    "collapsed": false
   },
   "outputs": [
    {
     "data": {
      "text/plain": [
       "array(['spearman', 'hyper_plus', 'hyper_minus', 'bayes_primary',\n",
       "       'bayes_secondary', 'total_genes', 'filtered_genes',\n",
       "       'significant_genes'], dtype=object)"
      ]
     },
     "execution_count": 81,
     "metadata": {},
     "output_type": "execute_result"
    }
   ],
   "source": [
    "df.analysis.unique()"
   ]
  },
  {
   "cell_type": "code",
   "execution_count": 105,
   "metadata": {
    "collapsed": false
   },
   "outputs": [
    {
     "data": {
      "text/plain": [
       "array(['be', 'bd', 'eb', 'eg', 'ed', 'gd', 'db', 'de', 'cb', 'ce', 'cg',\n",
       "       'cd', 'bc', 'bg', 'ec', 'gc', 'gb', 'ge', 'dc', 'dg', 'all', 'c',\n",
       "       'e', 'g', 'd', 'f', 'b', 'a'], dtype=object)"
      ]
     },
     "execution_count": 105,
     "metadata": {},
     "output_type": "execute_result"
    }
   ],
   "source": [
    "df.pair.unique()"
   ]
  }
 ],
 "metadata": {
  "anaconda-cloud": {},
  "kernelspec": {
   "display_name": "Python [default]",
   "language": "python",
   "name": "python3"
  },
  "language_info": {
   "codemirror_mode": {
    "name": "ipython",
    "version": 3
   },
   "file_extension": ".py",
   "mimetype": "text/x-python",
   "name": "python",
   "nbconvert_exporter": "python",
   "pygments_lexer": "ipython3",
   "version": "3.5.2"
  }
 },
 "nbformat": 4,
 "nbformat_minor": 1
}
