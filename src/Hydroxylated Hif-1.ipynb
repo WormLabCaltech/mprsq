{
 "cells": [
  {
   "cell_type": "markdown",
   "metadata": {
    "toc": "true"
   },
   "source": [
    "# Table of Contents\n",
    " <p><div class=\"lev1 toc-item\"><a href=\"#Apoptosis-and-hypoxia:\" data-toc-modified-id=\"Apoptosis-and-hypoxia:-1\"><span class=\"toc-item-num\">1&nbsp;&nbsp;</span>Apoptosis and hypoxia:</a></div><div class=\"lev1 toc-item\"><a href=\"#Anoxia-Responses:\" data-toc-modified-id=\"Anoxia-Responses:-2\"><span class=\"toc-item-num\">2&nbsp;&nbsp;</span>Anoxia Responses:</a></div><div class=\"lev1 toc-item\"><a href=\"#HIF-1-Independent-Genes-are-not-independent:-Padmanabha-Genetics-2015:\" data-toc-modified-id=\"HIF-1-Independent-Genes-are-not-independent:-Padmanabha-Genetics-2015:-3\"><span class=\"toc-item-num\">3&nbsp;&nbsp;</span>HIF-1 Independent Genes are not independent: Padmanabha Genetics 2015:</a></div><div class=\"lev1 toc-item\"><a href=\"#Hydroxylated-hif-1-Targets:\" data-toc-modified-id=\"Hydroxylated-hif-1-Targets:-4\"><span class=\"toc-item-num\">4&nbsp;&nbsp;</span>Hydroxylated hif-1 Targets:</a></div><div class=\"lev1 toc-item\"><a href=\"#Plotting-HIF-1-Hydroxyl-Downstream-Targets:\" data-toc-modified-id=\"Plotting-HIF-1-Hydroxyl-Downstream-Targets:-5\"><span class=\"toc-item-num\">5&nbsp;&nbsp;</span>Plotting HIF-1 Hydroxyl Downstream Targets:</a></div>"
   ]
  },
  {
   "cell_type": "code",
   "execution_count": 1,
   "metadata": {
    "collapsed": false
   },
   "outputs": [],
   "source": [
    "# important stuff:\n",
    "import os\n",
    "import pandas as pd\n",
    "import numpy as np\n",
    "\n",
    "# TEA and morgan\n",
    "import tissue_enrichment_analysis as tea\n",
    "import morgan as morgan\n",
    "\n",
    "# Graphics\n",
    "import matplotlib as mpl\n",
    "import matplotlib.ticker as plticker\n",
    "import matplotlib.pyplot as plt\n",
    "import seaborn as sns\n",
    "import matplotlib.patheffects as path_effects\n",
    "from matplotlib import rc\n",
    "rc('text', usetex=True)\n",
    "\n",
    "\n",
    "# Magic function to make matplotlib inline;\n",
    "%matplotlib inline\n",
    "\n",
    "# This enables SVG graphics inline. \n",
    "# There is a bug, so uncomment if it works.\n",
    "%config InlineBackend.figure_formats = {'png', 'retina'}\n",
    "\n",
    "# JB's favorite Seaborn settings for notebooks\n",
    "rc = {'lines.linewidth': 2, \n",
    "      'axes.labelsize': 18, \n",
    "      'axes.titlesize': 18, \n",
    "      'axes.facecolor': 'DFDFE5'}\n",
    "sns.set_context('notebook', rc=rc)\n",
    "sns.set_style(\"dark\")\n",
    "\n",
    "ft = 35 #title fontsize\n",
    "import genpy"
   ]
  },
  {
   "cell_type": "code",
   "execution_count": 2,
   "metadata": {
    "collapsed": true
   },
   "outputs": [],
   "source": [
    "fname = '../input/dictionaries/phenotype_dictionary.csv'\n",
    "phenotype_df = pd.read_csv(fname)\n",
    "fname = '../input/dictionaries/go_dictionary.csv'\n",
    "go_df = pd.read_csv(fname)\n",
    "tissue_df = tea.fetch_dictionary()\n",
    "tf_df = pd.read_csv('../input/tf_list.csv')\n",
    "hypoxia_gold = pd.read_csv('../input/hypoxia_gold_standard.csv',\n",
    "                           sep=',')\n",
    "\n",
    "genotype_mapping = {'a': r'\\emph{egl-9;vhl-1}',\n",
    "                    'f': r'\\emph{egl-9;hif-1}',\n",
    "                    'b': r'\\emph{egl-9}',\n",
    "                    'c': r'\\emph{hif-1}',\n",
    "                    'd': r'\\emph{vhl-1}',\n",
    "                    'e': r'\\emph{rhy-1}',\n",
    "                    'g': r'\\emph{fog-2}'\n",
    "                    }\n",
    "\n",
    "genotype_mapping_printing = {'a': 'egl-9;vhl-1',\n",
    "                    'f': 'egl-9;hif-1',\n",
    "                    'b': 'egl-9',\n",
    "                    'c': 'hif-1',\n",
    "                    'd': 'vhl-1',\n",
    "                    'e': 'rhy-1',\n",
    "                    'g': 'fog-2'\n",
    "                    }\n",
    "\n",
    "\n",
    "sort_pairs = {'eb': 1, 'be': 1,\n",
    "              'ed': 2,'de': 2,\n",
    "              'ec': 3,'ce': 3,\n",
    "              'eg': 4,'ge': 4,\n",
    "              'bd': 5,'db': 5,\n",
    "              'cb': 6,'bc': 6,\n",
    "              'bg': 7, 'gb': 7,\n",
    "              'cd': 8,'dc': 8,\n",
    "              'dg': 9,'gd': 9,\n",
    "              'cg': 10,'gc': 10\n",
    "             }\n",
    "\n",
    "decode_pairs = {'eb': '\\emph{rhy-1}, \\emph{egl-9}',\n",
    "                'be': '\\emph{rhy-1}, \\emph{egl-9}',\n",
    "                'ed': '\\emph{rhy-1}, \\emph{vhl-1}',\n",
    "                'de': '\\emph{rhy-1}, \\emph{vhl-1}',\n",
    "                'ec': '\\emph{rhy-1}, \\emph{hif-1}',\n",
    "                'ce': '\\emph{rhy-1}, \\emph{hif-1}',\n",
    "                'eg': '\\emph{rhy-1}, \\emph{fog-2}',\n",
    "                'ge': '\\emph{rhy-1}, \\emph{fog-2}',\n",
    "                'bd': '\\emph{egl-9}, \\emph{vhl-1}',\n",
    "                'db': '\\emph{egl-9}, \\emph{vhl-1}',\n",
    "                'cb': '\\emph{egl-9}, \\emph{hif-1}',\n",
    "                'bc': '\\emph{egl-9}, \\emph{hif-1}',\n",
    "                'bg': '\\emph{egl-9}, \\emph{fog-2}',\n",
    "                'gb': '\\emph{egl-9}, \\emph{fog-2}',\n",
    "                'cd': '\\emph{vhl-1}, \\emph{hif-1}',\n",
    "                'dc': '\\emph{vhl-1}, \\emph{hif-1}',\n",
    "                'dg': '\\emph{vhl-1}, \\emph{fog-2}',\n",
    "                'gd': '\\emph{vhl-1}, \\emph{fog-2}',\n",
    "                'cg': '\\emph{hif-1}, \\emph{fog-2}',\n",
    "                'gc': '\\emph{hif-1}, \\emph{fog-2}'\n",
    "               }"
   ]
  },
  {
   "cell_type": "code",
   "execution_count": 3,
   "metadata": {
    "collapsed": false
   },
   "outputs": [
    {
     "name": "stdout",
     "output_type": "stream",
     "text": [
      "Number of na genes: 232\n"
     ]
    }
   ],
   "source": [
    "# Specify the genotypes to refer to:\n",
    "single_mutants = ['b', 'c', 'd', 'e', 'g']\n",
    "# Specify which genotypes are double mutants \n",
    "# and of what single mutants:\n",
    "double_mutants = {'a' : 'bd', 'f':'bc'}\n",
    "\n",
    "# initialize the morgan.hunt object:\n",
    "# target_id is the column with isoform specific names\n",
    "# b is the name of the column with the GLM regression coefficients\n",
    "# tpm is the name of the column with the TPM numbers\n",
    "# qval is the name of the column with the FDR corrected q-values\n",
    "thomas = morgan.hunt('target_id', 'b', 'tpm', 'qval')\n",
    "\n",
    "# input the genmap file:\n",
    "thomas.add_genmap('../input/library_genotype_mapping.txt', comment='#')\n",
    "\n",
    "# add the names of the single mutants\n",
    "thomas.add_single_mutant(single_mutants)\n",
    "\n",
    "# add the names of the double mutants\n",
    "thomas.add_double_mutants(['a', 'f'], ['bd', 'bc'])\n",
    "\n",
    "# set the q-value threshold for significance to its default value, 0.1\n",
    "thomas.set_qval()\n",
    "\n",
    "# Add the tpm files: \n",
    "kallisto_loc = '../input/kallisto_all/'\n",
    "thomas.add_tpm(kallisto_loc, '/kallisto/abundance.tsv', '')\n",
    "\n",
    "# Make all possible combinations of WT, X\n",
    "combs = {}\n",
    "for gene in thomas.genmap.genotype.unique():\n",
    "    if gene != 'wt':\n",
    "        combs[gene] = 'WT_'+gene+'/'\n",
    "\n",
    "# # load all the beta values for each genotype:\n",
    "# sleuth_loc = '../sleuth/'\n",
    "# thomas.add_betas(sleuth_loc, 'betas.csv', combs)\n",
    "\n",
    "# load all the beta values for each genotype:\n",
    "sleuth_loc = '../sleuth_all_adjusted/kallisto/'\n",
    "for file in os.listdir(\"../sleuth_all_adjusted/kallisto\"):\n",
    "    if file[:4] == 'beta':\n",
    "        letter = file[-5:-4].lower()\n",
    "        thomas.add_beta(sleuth_loc + file, letter)\n",
    "        thomas.beta[letter].sort_values('target_id', inplace=True)\n",
    "        thomas.beta[letter].reset_index(inplace=True)\n",
    "thomas.filter_data(0, 0.1)"
   ]
  },
  {
   "cell_type": "code",
   "execution_count": 4,
   "metadata": {
    "collapsed": true
   },
   "outputs": [],
   "source": [
    "frames = []\n",
    "for key, df in thomas.beta.items():\n",
    "    df['code'] = key\n",
    "    df['genotype'] = genotype_mapping[key]\n",
    "    frames += [df]\n",
    "\n",
    "tidy = pd.concat(frames)"
   ]
  },
  {
   "cell_type": "code",
   "execution_count": 5,
   "metadata": {
    "collapsed": false
   },
   "outputs": [],
   "source": [
    "def find_expression(gene, col='ext_gene', genmap=genotype_mapping_printing, q=0.1, df=tidy):\n",
    "    \"\"\"Given a gene, find out what genotypes it is DE in.\"\"\"\n",
    "    \n",
    "    results = df[(df[col] == gene) & (df.qval < q)]\n",
    "\n",
    "    if len(results) > len(results.code.unique()):\n",
    "        print('Warning: This gene has multiple isoforms.')\n",
    "        \n",
    "    return df[(df[col] == gene) & (df.qval < q)]"
   ]
  },
  {
   "cell_type": "code",
   "execution_count": 6,
   "metadata": {
    "collapsed": false
   },
   "outputs": [],
   "source": [
    "def print_deg(diff_exp_gene):\n",
    "    \"\"\"A fancy print function for a dataframe.\"\"\"\n",
    "    if len(diff_exp_gene) > 0:\n",
    "        print(diff_exp_gene.ext_gene.unique()[0])\n",
    "        if len(diff_exp_gene.target_id.unique()) == 1:\n",
    "            print(diff_exp_gene[['genotype', 'b', 'qval']])\n",
    "        else:\n",
    "            print(diff_exp_gene[['genotype', 'target_id', 'b', 'qval']])\n",
    "\n",
    "    else:\n",
    "        print('Dataframe is Empty')"
   ]
  },
  {
   "cell_type": "markdown",
   "metadata": {},
   "source": [
    "# Apoptosis and hypoxia:"
   ]
  },
  {
   "cell_type": "code",
   "execution_count": 7,
   "metadata": {
    "collapsed": false
   },
   "outputs": [
    {
     "name": "stdout",
     "output_type": "stream",
     "text": [
      "tyr-2\n",
      "                 genotype         b          qval\n",
      "17624        \\emph{egl-9}  3.651982  5.633134e-25\n",
      "17624        \\emph{vhl-1}  1.218582  1.442717e-02\n",
      "17624        \\emph{rhy-1}  3.229023  3.238141e-19\n",
      "17624  \\emph{egl-9;vhl-1}  3.786888  7.255251e-27\n"
     ]
    }
   ],
   "source": [
    "diff_exp_gene = find_expression('tyr-2')\n",
    "print_deg(diff_exp_gene)"
   ]
  },
  {
   "cell_type": "markdown",
   "metadata": {},
   "source": [
    "# Anoxia Responses:"
   ]
  },
  {
   "cell_type": "code",
   "execution_count": 8,
   "metadata": {
    "collapsed": false
   },
   "outputs": [
    {
     "name": "stdout",
     "output_type": "stream",
     "text": [
      "san-1\n",
      "                 genotype         b      qval\n",
      "31245        \\emph{egl-9}  0.265445  0.029947\n",
      "31245  \\emph{egl-9;vhl-1}  0.328116  0.002990\n"
     ]
    }
   ],
   "source": [
    "diff_exp_gene = find_expression('san-1', col='ext_gene')\n",
    "print_deg(diff_exp_gene)"
   ]
  },
  {
   "cell_type": "code",
   "execution_count": 9,
   "metadata": {
    "collapsed": false
   },
   "outputs": [
    {
     "name": "stdout",
     "output_type": "stream",
     "text": [
      "hyl-2\n",
      "                 genotype         b      qval\n",
      "16870        \\emph{egl-9} -0.370397  0.005276\n",
      "16870  \\emph{egl-9;vhl-1} -0.266925  0.071218\n"
     ]
    }
   ],
   "source": [
    "diff_exp_gene = find_expression('hyl-2', col='ext_gene')\n",
    "print_deg(diff_exp_gene)"
   ]
  },
  {
   "cell_type": "markdown",
   "metadata": {},
   "source": [
    "# HIF-1 Independent Genes are not independent: Padmanabha Genetics 2015:"
   ]
  },
  {
   "cell_type": "code",
   "execution_count": 10,
   "metadata": {
    "collapsed": false
   },
   "outputs": [
    {
     "name": "stdout",
     "output_type": "stream",
     "text": [
      "F45D3.4\n",
      "                 genotype         b          qval\n",
      "13251        \\emph{egl-9}  1.506708  7.149037e-06\n",
      "13251        \\emph{fog-2} -0.841871  3.570030e-02\n",
      "13251        \\emph{rhy-1}  1.668968  5.264177e-07\n",
      "13251  \\emph{egl-9;vhl-1}  1.662158  4.242760e-07\n"
     ]
    }
   ],
   "source": [
    "diff_exp_gene = find_expression('WBGene00009724', col='ens_gene')\n",
    "print_deg(diff_exp_gene)"
   ]
  },
  {
   "cell_type": "code",
   "execution_count": 11,
   "metadata": {
    "collapsed": false
   },
   "outputs": [
    {
     "name": "stdout",
     "output_type": "stream",
     "text": [
      "Warning: This gene has multiple isoforms.\n",
      "mnk-1\n",
      "                 genotype target_id         b      qval\n",
      "20346        \\emph{egl-9}   R166.5a  0.485370  0.039070\n",
      "20346        \\emph{hif-1}   R166.5a  0.615076  0.014443\n",
      "20347        \\emph{hif-1}   R166.5b  0.506439  0.040089\n",
      "20346        \\emph{fog-2}   R166.5a -0.692041  0.000599\n",
      "20346        \\emph{rhy-1}   R166.5a  0.651213  0.001610\n",
      "20346  \\emph{egl-9;vhl-1}   R166.5a  0.483184  0.034564\n"
     ]
    }
   ],
   "source": [
    "diff_exp_gene = find_expression('mnk-1', col='ext_gene')\n",
    "print_deg(diff_exp_gene)"
   ]
  },
  {
   "cell_type": "code",
   "execution_count": 12,
   "metadata": {
    "collapsed": false
   },
   "outputs": [
    {
     "name": "stdout",
     "output_type": "stream",
     "text": [
      "icl-1\n",
      "                genotype         b      qval\n",
      "1717  \\emph{egl-9;hif-1} -1.047181  0.027856\n",
      "1717  \\emph{egl-9;vhl-1} -0.940495  0.016402\n"
     ]
    }
   ],
   "source": [
    "diff_exp_gene = find_expression('icl-1', col='ext_gene')\n",
    "print_deg(diff_exp_gene)"
   ]
  },
  {
   "cell_type": "code",
   "execution_count": 13,
   "metadata": {
    "collapsed": true
   },
   "outputs": [],
   "source": [
    "df1 = thomas.beta['f'].copy()\n",
    "df2 = thomas.beta['c']\n",
    "df3 = thomas.beta['e']\n",
    "df4 = thomas.beta['b']\n",
    "df5 = thomas.beta['a'] \n",
    "df6 = thomas.beta['d']\n",
    "\n",
    "df1['b_c'] = df2.b\n",
    "df1['b_e'] = df3.b\n",
    "df1['b_b'] = df4.b\n",
    "df1['b_a'] = df5.b\n",
    "df1['b_d'] = df6.b\n",
    "\n",
    "df1['se_b_c'] = df2.se_b\n",
    "df1['se_b_e'] = df3.se_b\n",
    "df1['se_b_b'] = df4.se_b\n",
    "df1['se_b_a'] = df5.se_b\n",
    "df1['se_b_d'] = df6.se_b\n",
    "\n",
    "df1['q_c'] = df2.qval\n",
    "df1['q_e'] = df3.qval\n",
    "df1['q_b'] = df4.qval\n",
    "df1['q_a'] = df5.qval\n",
    "df1['q_d'] = df6.qval"
   ]
  },
  {
   "cell_type": "markdown",
   "metadata": {},
   "source": [
    "# Hydroxylated hif-1 Targets:"
   ]
  },
  {
   "cell_type": "code",
   "execution_count": 14,
   "metadata": {
    "collapsed": false
   },
   "outputs": [],
   "source": [
    "n = 1\n",
    "\n",
    "egl_matches_hif = (df1.b_b*df1.b_c > 0) # if effect is in same direction, this should be true\n",
    "egl_anti_vhl = (df1.b_b*df1.b_d < 0) # egl effect should be opposite direction of vhl\n",
    "egl_matches_eglhif = (df1.b_b*df1.b > 0) # egl should be epistatic to hif\n",
    "egl_matches_eglvhl = (df1.b_b*df1.b_a > 0) # egl should be epistatic to vhl\n",
    "ind1 = (egl_matches_hif) & (egl_anti_vhl) & (egl_matches_eglhif) & (egl_matches_eglvhl)\n",
    "\n",
    "sig1 = ((df1.qval < 10**-n) & ((df1.q_b < 10**-n)) &\n",
    "       (df1.q_c < 10**-n) & (df1.q_d < 10**-n) & (df1.q_a < 10**-n))\n",
    "\n",
    "\n",
    "rhy_matches_hif = (df1.b_e*df1.b_c > 0) # if effect is in same direction, this should be true\n",
    "rhy_anti_vhl = (df1.b_e*df1.b_d < 0) # rhy effect should be opposite direction of vhl\n",
    "rhy_matches_eglhif = (df1.b_e*df1.b > 0) # rhy should be epistatic to hif\n",
    "rhy_matches_eglvhl = (df1.b_e*df1.b_a > 0) # rhy should be epistatic to vhl\n",
    "ind2 = (rhy_matches_hif) & (rhy_anti_vhl) & (rhy_matches_eglhif) & (rhy_matches_eglvhl)\n",
    "\n",
    "sig2 = ((df1.qval < 10**-n) & ((df1.q_e < 10**-n)) &\n",
    "       (df1.q_c < 10**-n) & (df1.q_d < 10**-n) & (df1.q_a < 10**-n))\n",
    "\n",
    "\n",
    "# lower confidence genes:\n",
    "ind3 = (egl_matches_hif) & (egl_anti_vhl) & (egl_matches_eglhif)\n",
    "\n",
    "sig3 = ((df1.qval < 10**-n) & ((df1.q_b < 10**-n)) &\n",
    "       (df1.q_c < 10**-n) & (df1.q_d < 10**-n))\n",
    "\n",
    "ind4 = (rhy_matches_hif) & (rhy_anti_vhl) & (rhy_matches_eglhif)\n",
    "\n",
    "sig4 = ((df1.qval < 10**-n) & ((df1.q_e < 10**-n)) &\n",
    "       (df1.q_c < 10**-n) & (df1.q_d < 10**-n))\n"
   ]
  },
  {
   "cell_type": "code",
   "execution_count": 15,
   "metadata": {
    "collapsed": true
   },
   "outputs": [],
   "source": [
    "def pathify(title, xlabel, ylabel, xticks=True, yticks=True, **kwargs):\n",
    "    \"\"\"\n",
    "    A function to pathify the labels, titles and ticks in a plot.\n",
    "    \"\"\"\n",
    "    labelsize = kwargs.pop('labelsize', 20)\n",
    "    titlesize = kwargs.pop('titlesize', 25)\n",
    "    \n",
    "    # make the labels and title into paths\n",
    "    effect = [path_effects.Normal()]\n",
    "    plt.ylabel(ylabel,\n",
    "               fontsize=labelsize).set_path_effects(effect)\n",
    "    plt.xlabel(xlabel,\n",
    "               fontsize=labelsize).set_path_effects(effect)\n",
    "    plt.title(title,\n",
    "              fontsize=titlesize).set_path_effects(effect)\n",
    "\n",
    "    ax = plt.gca()\n",
    "    # go through each xtick or ytick and make \n",
    "    # it a path if user specified to do so.\n",
    "    if xticks == True:\n",
    "        for i, label in enumerate(ax.get_xticklabels()):\n",
    "            ax.get_xticklabels()[i].set_path_effects(effect)\n",
    "    if yticks == True:\n",
    "        for i, label in enumerate(ax.get_yticklabels()):\n",
    "            ax.get_yticklabels()[i].set_path_effects(effect)"
   ]
  },
  {
   "cell_type": "code",
   "execution_count": 28,
   "metadata": {
    "collapsed": true
   },
   "outputs": [],
   "source": [
    "sorter = {'a': 5,\n",
    "          'f': 6,\n",
    "          'b': 2,\n",
    "          'c': 4,\n",
    "          'd': 3,\n",
    "          'e': 1,\n",
    "          'g': 7\n",
    "         }\n",
    "\n",
    "x = df1[(ind1 & sig1) | (ind2 & sig2) | (ind3 & sig3) | (ind4 & sig4)].target_id.values\n",
    "\n",
    "x_sort = {}\n",
    "for i, xi in enumerate(x):\n",
    "    x_sort[xi] = i + 1"
   ]
  },
  {
   "cell_type": "code",
   "execution_count": 32,
   "metadata": {
    "collapsed": false
   },
   "outputs": [],
   "source": [
    "# x_sort = {'cat-4': 1,\n",
    "#           'F20D6.11': 2,\n",
    "#           'ftn-1': 3,\n",
    "#           'ftn-2': 4,\n",
    "#           'asns-2': 5,\n",
    "#           'cyp-14A5': 6,\n",
    "#           'clec-7': 7,\n",
    "#           'haf-6': 8\n",
    "#          }\n",
    "\n",
    "tidy = tidy[(tidy.target_id.isin(x)) & (tidy.code != 'g')].copy()\n",
    "tidy['order'] = tidy.target_id.map(x_sort)\n",
    "tidy.sort_values('order', inplace=True)\n",
    "tidy.reset_index(inplace=True)  \n",
    "tidy = tidy[['target_id', 'ens_gene', 'ext_gene','b', 'se_b', 'qval', 'genotype', 'order', 'code']]"
   ]
  },
  {
   "cell_type": "code",
   "execution_count": 36,
   "metadata": {
    "collapsed": true
   },
   "outputs": [],
   "source": [
    "# a qPCR barplot\n",
    "def qPCR_plot(df, plotting, colors, **kwargs):\n",
    "    \"\"\"\n",
    "    A function to make prettified qPCR barplots. \n",
    "    \n",
    "    Takes as entry a dataframe as output by qPCR_prep method\n",
    "    \n",
    "    Params:\n",
    "    df -- df as output by qPCR_prep\n",
    "    plotting -- a dictionary of plotting order for each gene;\n",
    "                keys must be in dataframe column 'plotting_group'\n",
    "    colors -- color to be used for each gene\n",
    "    kwargs -- clustering - the name of a column within the dataframe,\n",
    "              bars grouped within the same cluster are given the same color;\n",
    "              plotting_group - a string that must be a column within the\n",
    "              dataframe, bars belonging to the same plotting group are \n",
    "              plotted adjacent to each other;\n",
    "              alpha (transparency, float);\n",
    "              q (stat. sig. thresh, float);\n",
    "              save (string to save as)\n",
    "              rotation;\n",
    "              title\n",
    "    \n",
    "    outputs:\n",
    "    a Seaborn barchart\n",
    "    \"\"\"\n",
    "    clustering = kwargs.pop('clustering', 'ext_gene')\n",
    "    plotting_group = kwargs.pop('plotting_group', 'genotype')\n",
    "    alpha = kwargs.pop('alpha', 0.7)\n",
    "    q = kwargs.pop('q', 0.1)\n",
    "    save = kwargs.pop('save', '')\n",
    "    rotation = kwargs.pop('rotation', 45)\n",
    "    title = kwargs.pop('title', r'\\emph{In Silico} qPCR')\n",
    "    \n",
    "    index = np.linspace(0, df[plotting_group].unique().shape[0]-1,\n",
    "                        df[plotting_group].unique().shape[0])\n",
    "    \n",
    "    # error bars\n",
    "    error_config = {'ecolor': '0.2'}\n",
    "\n",
    "    # groupby gene name if it exists:\n",
    "    grouped = df.groupby(clustering)\n",
    "    \n",
    "    bar_width = 1/(len(grouped)+1)\n",
    "    \n",
    "    # go through each gene\n",
    "    for name, group in grouped:\n",
    "        # figure out where each bar goes:\n",
    "        if name not in plotting.keys():\n",
    "            print(name, 'not in plotting.keys()')\n",
    "            where = max(plotting.keys(),\n",
    "                        key=lambda k: plotting[k])\n",
    "            val = plotting[where]\n",
    "            plotting[name] = val + 1\n",
    "        \n",
    "        add = plotting[name]*bar_width\n",
    "        # figure out what color to give:\n",
    "        if name in color.keys():\n",
    "            # add the bar:\n",
    "            barlist = plt.bar(index + add + bar_width/2, group.b.values,\n",
    "                              bar_width, alpha=alpha,\n",
    "                              yerr=group.se_b.values,\n",
    "                              error_kw=error_config, label=name,\n",
    "                              color=color[name])\n",
    "        else:\n",
    "            # add the bar but don't specify color\n",
    "            barlist = plt.bar(index + add, group.b.values,\n",
    "                              bar_width, alpha=alpha,\n",
    "                              yerr=group.se_b.values,\n",
    "                              error_kw=error_config, label=name)\n",
    "\n",
    "        # significance threshold:\n",
    "        sig = group.qval < q\n",
    "        k = group[sig].order - 1\n",
    "\n",
    "        # plot stars on top of stat. sig. results\n",
    "        plt.plot(k + add + bar_width/2,\n",
    "                 group[sig].b.values + group[sig].se_b.values + 0.20,\n",
    "                 r'*', color='k')\n",
    "    \n",
    "    # shade in every other bar group for clarity:\n",
    "    grouped2 = df.groupby(plotting_group)\n",
    "    k = 0\n",
    "    col = '#CFCFCF'\n",
    "\n",
    "    ymin, ymax = plt.gca().get_ylim()\n",
    "    for name, group in grouped2:\n",
    "        if k % 2 == 0:\n",
    "            xmin = k - bar_width*0.5\n",
    "            xmax = k + bar_width*(len(grouped) + 0.5)\n",
    "            \n",
    "            plt.fill_between([xmin, xmax], ymin, color=col)\n",
    "            plt.fill_between([xmin, xmax], ymax, color=col)\n",
    "        k += 1\n",
    "    \n",
    "    # fix the xlims and tick params etc...\n",
    "    if (k - 1) % 2 == 0:\n",
    "        plt.xlim(0, xmax)\n",
    "    else:\n",
    "        plt.xlim(0, plt.gca().get_xlim()[1] - 3/2*bar_width)\n",
    "\n",
    "    plt.tick_params(axis='y',\n",
    "                    which='major', labelsize=18)\n",
    "    \n",
    "    fancy_names = []\n",
    "    for label in df[plotting_group].unique():\n",
    "        if r'\\emph' not in label:\n",
    "            fancy_names += [r'\\emph{' + label + r'}']\n",
    "        else:\n",
    "            fancy_names += label\n",
    "\n",
    "    plt.xticks(index + bar_width*len(df[clustering].unique())/2,\n",
    "               fancy_names, rotation=rotation, fontsize=20)\n",
    "\n",
    "    pathify(title, '',\n",
    "            r'Regression Coefficient, $\\beta$', )\n",
    "\n",
    "    plt.legend(loc=(1.02, 0.5),fontsize=15)\n",
    "    \n",
    "    plt.ylim(ymin, ymax)\n",
    "        \n",
    "    if save:\n",
    "        print('figure saved')\n",
    "        plt.savefig(save, bbox_inches='tight')\n",
    "\n",
    "\n",
    "plot_order = {r'\\emph{egl-9;vhl-1}': 4,\n",
    "              r'\\emph{egl-9;hif-1}': 5,\n",
    "              r'\\emph{egl-9}': 1,\n",
    "              r'\\emph{hif-1}': 2,\n",
    "              r'\\emph{vhl-1}': 3,\n",
    "              r'\\emph{rhy-1}': 0\n",
    "              }\n",
    "\n",
    "color = {r'\\emph{egl-9;vhl-1}':'#e41a1c',\n",
    "              r'\\emph{egl-9;hif-1}':'#377eb8',\n",
    "              r'\\emph{egl-9}': '#4daf4a',\n",
    "              r'\\emph{hif-1}': '#984ea3',\n",
    "              r'\\emph{vhl-1}': '#ff7f00',\n",
    "              r'\\emph{rhy-1}': '#ffff33'\n",
    "              }"
   ]
  },
  {
   "cell_type": "markdown",
   "metadata": {},
   "source": [
    "# Plotting HIF-1 Hydroxyl Downstream Targets:"
   ]
  },
  {
   "cell_type": "code",
   "execution_count": 38,
   "metadata": {
    "collapsed": false,
    "scrolled": false
   },
   "outputs": [
    {
     "name": "stdout",
     "output_type": "stream",
     "text": [
      "figure saved\n"
     ]
    },
    {
     "data": {
      "image/png": "[encoded data removed]",
      "text/plain": [
       "<matplotlib.figure.Figure at 0x128bb8438>"
      ]
     },
     "metadata": {
      "image/png": {
       "height": 361,
       "width": 637
      }
     },
     "output_type": "display_data"
    }
   ],
   "source": [
    "qPCR_plot(tidy, plot_order, color, clustering='genotype', plotting_group='ext_gene',\n",
    "          title='Non-classical epistasis in the \\emph{hif-1} pathway',\n",
    "          save='../output/hif1oh_genetics.pdf', rotation=0)"
   ]
  },
  {
   "cell_type": "code",
   "execution_count": null,
   "metadata": {
    "collapsed": true
   },
   "outputs": [],
   "source": []
  }
 ],
 "metadata": {
  "anaconda-cloud": {},
  "kernelspec": {
   "display_name": "Python [default]",
   "language": "python",
   "name": "python3"
  },
  "language_info": {
   "codemirror_mode": {
    "name": "ipython",
    "version": 3
   },
   "file_extension": ".py",
   "mimetype": "text/x-python",
   "name": "python",
   "nbconvert_exporter": "python",
   "pygments_lexer": "ipython3",
   "version": "3.5.2"
  },
  "nav_menu": {},
  "toc": {
   "navigate_menu": true,
   "number_sections": true,
   "sideBar": true,
   "threshold": 6,
   "toc_cell": true,
   "toc_section_display": "block",
   "toc_window_display": true
  }
 },
 "nbformat": 4,
 "nbformat_minor": 1
}
