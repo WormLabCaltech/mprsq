{
 "cells": [
  {
   "cell_type": "markdown",
   "metadata": {
    "toc": "true"
   },
   "source": [
    "# Table of Contents\n",
    " <p><div class=\"lev1 toc-item\"><a href=\"#Quality-Control-on-the-hypoxia-response-and-the-hif-1-direct-target-predictions\" data-toc-modified-id=\"Quality-Control-on-the-hypoxia-response-and-the-hif-1-direct-target-predictions-1\"><span class=\"toc-item-num\">1&nbsp;&nbsp;</span>Quality Control on the hypoxia response and the hif-1 direct target predictions</a></div>"
   ]
  },
  {
   "cell_type": "code",
   "execution_count": 81,
   "metadata": {
    "collapsed": true
   },
   "outputs": [],
   "source": [
    "# important stuff:\n",
    "import os\n",
    "import pandas as pd\n",
    "import numpy as np\n",
    "\n",
    "# TEA and morgan\n",
    "import tissue_enrichment_analysis as tea\n",
    "import morgan as morgan\n",
    "\n",
    "# stats\n",
    "from scipy import stats as sts\n",
    "\n",
    "# Graphics\n",
    "import matplotlib as mpl\n",
    "import matplotlib.ticker as plticker\n",
    "import matplotlib.pyplot as plt\n",
    "import seaborn as sns\n",
    "import matplotlib.patheffects as path_effects\n",
    "from matplotlib import rc\n",
    "rc('text', usetex=True)\n",
    "\n",
    "\n",
    "# Magic function to make matplotlib inline;\n",
    "%matplotlib inline\n",
    "\n",
    "# This enables SVG graphics inline. \n",
    "# There is a bug, so uncomment if it works.\n",
    "%config InlineBackend.figure_formats = {'png', 'retina'}\n",
    "\n",
    "# JB's favorite Seaborn settings for notebooks\n",
    "rc = {'lines.linewidth': 2, \n",
    "      'axes.labelsize': 18, \n",
    "      'axes.titlesize': 18, \n",
    "      'axes.facecolor': 'DFDFE5'}\n",
    "sns.set_context('paper', rc=rc)\n",
    "sns.set_style(\"dark\")\n",
    "\n",
    "ft = 35 #title fontsize\n",
    "import genpy"
   ]
  },
  {
   "cell_type": "code",
   "execution_count": 69,
   "metadata": {
    "collapsed": true
   },
   "outputs": [],
   "source": [
    "fname = '../input/dictionaries/phenotype_dictionary.csv'\n",
    "phenotype_df = pd.read_csv(fname)\n",
    "fname = '../input/dictionaries/go_dictionary.csv'\n",
    "go_df = pd.read_csv(fname)\n",
    "tissue_df = tea.fetch_dictionary()\n",
    "tf_df = pd.read_csv('../input/tf_list.csv')\n",
    "hypoxia_gold = pd.read_csv('../input/hypoxia_gold_standard.csv',\n",
    "                           sep=',')\n",
    "\n",
    "genotype_mapping = {'a': r'\\emph{egl-9;vhl-1}',\n",
    "                    'f': r'\\emph{egl-9;hif-1}',\n",
    "                    'b': r'\\emph{egl-9}',\n",
    "                    'c': r'\\emph{hif-1}',\n",
    "                    'd': r'\\emph{vhl-1}',\n",
    "                    'e': r'\\emph{rhy-1}',\n",
    "                    'g': r'\\emph{fog-2}'\n",
    "                    }\n",
    "\n",
    "genotype_mapping_printing = {'a': 'egl-9;vhl-1',\n",
    "                    'f': 'egl-9;hif-1',\n",
    "                    'b': 'egl-9',\n",
    "                    'c': 'hif-1',\n",
    "                    'd': 'vhl-1',\n",
    "                    'e': 'rhy-1',\n",
    "                    'g': 'fog-2'\n",
    "                    }\n",
    "\n",
    "\n",
    "sort_pairs = {'eb': 1, 'be': 1,\n",
    "              'ed': 2,'de': 2,\n",
    "              'ec': 3,'ce': 3,\n",
    "              'eg': 4,'ge': 4,\n",
    "              'bd': 5,'db': 5,\n",
    "              'cb': 6,'bc': 6,\n",
    "              'bg': 7, 'gb': 7,\n",
    "              'cd': 8,'dc': 8,\n",
    "              'dg': 9,'gd': 9,\n",
    "              'cg': 10,'gc': 10\n",
    "             }\n",
    "\n",
    "decode_pairs = {'eb': '\\emph{rhy-1}, \\emph{egl-9}',\n",
    "                'be': '\\emph{rhy-1}, \\emph{egl-9}',\n",
    "                'ed': '\\emph{rhy-1}, \\emph{vhl-1}',\n",
    "                'de': '\\emph{rhy-1}, \\emph{vhl-1}',\n",
    "                'ec': '\\emph{rhy-1}, \\emph{hif-1}',\n",
    "                'ce': '\\emph{rhy-1}, \\emph{hif-1}',\n",
    "                'eg': '\\emph{rhy-1}, \\emph{fog-2}',\n",
    "                'ge': '\\emph{rhy-1}, \\emph{fog-2}',\n",
    "                'bd': '\\emph{egl-9}, \\emph{vhl-1}',\n",
    "                'db': '\\emph{egl-9}, \\emph{vhl-1}',\n",
    "                'cb': '\\emph{egl-9}, \\emph{hif-1}',\n",
    "                'bc': '\\emph{egl-9}, \\emph{hif-1}',\n",
    "                'bg': '\\emph{egl-9}, \\emph{fog-2}',\n",
    "                'gb': '\\emph{egl-9}, \\emph{fog-2}',\n",
    "                'cd': '\\emph{vhl-1}, \\emph{hif-1}',\n",
    "                'dc': '\\emph{vhl-1}, \\emph{hif-1}',\n",
    "                'dg': '\\emph{vhl-1}, \\emph{fog-2}',\n",
    "                'gd': '\\emph{vhl-1}, \\emph{fog-2}',\n",
    "                'cg': '\\emph{hif-1}, \\emph{fog-2}',\n",
    "                'gc': '\\emph{hif-1}, \\emph{fog-2}'\n",
    "               }"
   ]
  },
  {
   "cell_type": "code",
   "execution_count": 77,
   "metadata": {
    "collapsed": true
   },
   "outputs": [],
   "source": [
    "hypoxia_direct_targets = pd.read_csv('../output/hypoxia_targets_candidates.csv')"
   ]
  },
  {
   "cell_type": "code",
   "execution_count": 79,
   "metadata": {
    "collapsed": false
   },
   "outputs": [],
   "source": [
    "hypoxia_response = pd.read_csv('../output/hypoxia_response.csv')"
   ]
  },
  {
   "cell_type": "code",
   "execution_count": 70,
   "metadata": {
    "collapsed": false
   },
   "outputs": [
    {
     "name": "stdout",
     "output_type": "stream",
     "text": [
      "Number of na genes: 232\n"
     ]
    }
   ],
   "source": [
    "# Specify the genotypes to refer to:\n",
    "single_mutants = ['b', 'c', 'd', 'e', 'g']\n",
    "# Specify which genotypes are double mutants \n",
    "# and of what single mutants:\n",
    "double_mutants = {'a' : 'bd', 'f':'bc'}\n",
    "\n",
    "# initialize the morgan.hunt object:\n",
    "# target_id is the column with isoform specific names\n",
    "# b is the name of the column with the GLM regression coefficients\n",
    "# tpm is the name of the column with the TPM numbers\n",
    "# qval is the name of the column with the FDR corrected q-values\n",
    "thomas = morgan.hunt('target_id', 'b', 'tpm', 'qval')\n",
    "\n",
    "# input the genmap file:\n",
    "thomas.add_genmap('../input/library_genotype_mapping.txt', comment='#')\n",
    "\n",
    "# add the names of the single mutants\n",
    "thomas.add_single_mutant(single_mutants)\n",
    "\n",
    "# add the names of the double mutants\n",
    "thomas.add_double_mutants(['a', 'f'], ['bd', 'bc'])\n",
    "\n",
    "# set the q-value threshold for significance to its default value, 0.1\n",
    "thomas.set_qval()\n",
    "\n",
    "# Add the tpm files: \n",
    "kallisto_loc = '../input/kallisto_all/'\n",
    "thomas.add_tpm(kallisto_loc, '/kallisto/abundance.tsv', '')\n",
    "\n",
    "# Make all possible combinations of WT, X\n",
    "combs = {}\n",
    "for gene in thomas.genmap.genotype.unique():\n",
    "    if gene != 'wt':\n",
    "        combs[gene] = 'WT_'+gene+'/'\n",
    "\n",
    "# # load all the beta values for each genotype:\n",
    "# sleuth_loc = '../sleuth/'\n",
    "# thomas.add_betas(sleuth_loc, 'betas.csv', combs)\n",
    "\n",
    "# load all the beta values for each genotype:\n",
    "sleuth_loc = '../sleuth_all_adjusted/kallisto/'\n",
    "for file in os.listdir(\"../sleuth_all_adjusted/kallisto\"):\n",
    "    if file[:4] == 'beta':\n",
    "        letter = file[-5:-4].lower()\n",
    "        thomas.add_beta(sleuth_loc + file, letter)\n",
    "        thomas.beta[letter].sort_values('target_id', inplace=True)\n",
    "        thomas.beta[letter].reset_index(inplace=True)\n",
    "thomas.filter_data(0, 0.1)"
   ]
  },
  {
   "cell_type": "code",
   "execution_count": 71,
   "metadata": {
    "collapsed": true
   },
   "outputs": [],
   "source": [
    "frames = []\n",
    "for key, df in thomas.beta.items():\n",
    "    df['code'] = key\n",
    "    df['genotype'] = genotype_mapping[key]\n",
    "    frames += [df]\n",
    "\n",
    "tidy = pd.concat(frames)"
   ]
  },
  {
   "cell_type": "code",
   "execution_count": 72,
   "metadata": {
    "collapsed": true
   },
   "outputs": [],
   "source": [
    "sorter = {'a': 5,\n",
    "          'f': 6,\n",
    "          'b': 2,\n",
    "          'c': 4,\n",
    "          'd': 3,\n",
    "          'e': 1,\n",
    "          'g': 7\n",
    "         }"
   ]
  },
  {
   "cell_type": "code",
   "execution_count": 73,
   "metadata": {
    "collapsed": false
   },
   "outputs": [],
   "source": [
    "x = ['WBGene00012324',\n",
    "     'WBGene00001178',\n",
    "     'WBGene00003647',\n",
    "     'WBGene00002248'\n",
    "    ]\n",
    "\n",
    "x_sort = {'WBGene00012324': 1,\n",
    "          'WBGene00001178': 2,\n",
    "          'WBGene00003647': 3,\n",
    "          'WBGene00002248': 4\n",
    "         }\n",
    "\n",
    "plot_df = tidy[(tidy.ens_gene.isin(x)) & (tidy.code != 'g')].copy()\n",
    "# Pick the hif-1 isoform that is present in all genotypes:\n",
    "plot_df = plot_df[plot_df.target_id != 'F38A6.3d']\n",
    "plot_df['order'] = plot_df.ens_gene.map(x_sort)\n",
    "plot_df.sort_values('order', inplace=True)\n",
    "plot_df.reset_index(inplace=True)  \n",
    "plot_df = plot_df[['target_id', 'ens_gene', 'ext_gene','b', 'se_b', 'qval', 'genotype', 'order', 'code']]"
   ]
  },
  {
   "cell_type": "code",
   "execution_count": 74,
   "metadata": {
    "collapsed": true
   },
   "outputs": [],
   "source": [
    "def pathify(title, xlabel, ylabel, xticks=True, yticks=True, **kwargs):\n",
    "    \"\"\"\n",
    "    A function to pathify the labels, titles and ticks in a plot.\n",
    "    \"\"\"\n",
    "    labelsize = kwargs.pop('labelsize', 20)\n",
    "    titlesize = kwargs.pop('titlesize', 25)\n",
    "    \n",
    "    # make the labels and title into paths\n",
    "    effect = [path_effects.Normal()]\n",
    "    plt.ylabel(ylabel,\n",
    "               fontsize=labelsize).set_path_effects(effect)\n",
    "    plt.xlabel(xlabel,\n",
    "               fontsize=labelsize).set_path_effects(effect)\n",
    "    plt.title(title,\n",
    "              fontsize=titlesize).set_path_effects(effect)\n",
    "\n",
    "    ax = plt.gca()\n",
    "    # go through each xtick or ytick and make \n",
    "    # it a path if user specified to do so.\n",
    "    if xticks == True:\n",
    "        for i, label in enumerate(ax.get_xticklabels()):\n",
    "            ax.get_xticklabels()[i].set_path_effects(effect)\n",
    "    if yticks == True:\n",
    "        for i, label in enumerate(ax.get_yticklabels()):\n",
    "            ax.get_yticklabels()[i].set_path_effects(effect)"
   ]
  },
  {
   "cell_type": "code",
   "execution_count": 75,
   "metadata": {
    "collapsed": true
   },
   "outputs": [],
   "source": [
    "# a qPCR barplot\n",
    "def qPCR_plot(df, plotting, colors, **kwargs):\n",
    "    \"\"\"\n",
    "    A function to make prettified qPCR barplots. \n",
    "    \n",
    "    Takes as entry a dataframe as output by qPCR_prep method\n",
    "    \n",
    "    Params:\n",
    "    df -- df as output by qPCR_prep\n",
    "    plotting -- a dictionary of plotting order for each gene;\n",
    "                keys must be in dataframe column 'plotting_group'\n",
    "    colors -- color to be used for each gene\n",
    "    kwargs -- clustering - the name of a column within the dataframe,\n",
    "              bars grouped within the same cluster are given the same color;\n",
    "              plotting_group - a string that must be a column within the\n",
    "              dataframe, bars belonging to the same plotting group are \n",
    "              plotted adjacent to each other;\n",
    "              alpha (transparency, float);\n",
    "              q (stat. sig. thresh, float);\n",
    "              save (string to save as)\n",
    "              rotation;\n",
    "              title\n",
    "    \n",
    "    outputs:\n",
    "    a Seaborn barchart\n",
    "    \"\"\"\n",
    "    clustering = kwargs.pop('clustering', 'ext_gene')\n",
    "    plotting_group = kwargs.pop('plotting_group', 'genotype')\n",
    "    alpha = kwargs.pop('alpha', 0.7)\n",
    "    q = kwargs.pop('q', 0.1)\n",
    "    save = kwargs.pop('save', '')\n",
    "    rotation = kwargs.pop('rotation', 45)\n",
    "    title = kwargs.pop('title', r'\\emph{In Silico} qPCR')\n",
    "    \n",
    "    index = np.linspace(0, df[plotting_group].unique().shape[0]-1,\n",
    "                        df[plotting_group].unique().shape[0])\n",
    "    \n",
    "    # error bars\n",
    "    error_config = {'ecolor': '0.2'}\n",
    "\n",
    "    # groupby gene name if it exists:\n",
    "    grouped = df.groupby(clustering)\n",
    "    \n",
    "    bar_width = 1/(len(grouped)+1)\n",
    "    \n",
    "    # go through each gene\n",
    "    for name, group in grouped:\n",
    "        # figure out where each bar goes:\n",
    "        if name not in plotting.keys():\n",
    "            print(name, 'not in plotting.keys()')\n",
    "            where = max(plotting.keys(),\n",
    "                        key=lambda k: plotting[k])\n",
    "            val = plotting[where]\n",
    "            plotting[name] = val + 1\n",
    "        \n",
    "        add = plotting[name]*bar_width\n",
    "        # figure out what color to give:\n",
    "        if name in color.keys():\n",
    "            # add the bar:\n",
    "            barlist = plt.bar(index + add + bar_width/2, group.b.values,\n",
    "                              bar_width, alpha=alpha,\n",
    "                              yerr=group.se_b.values,\n",
    "                              error_kw=error_config, label=name,\n",
    "                              color=color[name])\n",
    "        else:\n",
    "            # add the bar but don't specify color\n",
    "            barlist = plt.bar(index + add, group.b.values,\n",
    "                              bar_width, alpha=alpha,\n",
    "                              yerr=group.se_b.values,\n",
    "                              error_kw=error_config, label=name)\n",
    "\n",
    "        # significance threshold:\n",
    "        sig = group.qval < q\n",
    "        k = group[sig].order - 1\n",
    "\n",
    "        # plot stars on top of stat. sig. results\n",
    "        plt.plot(k + add + bar_width/2,\n",
    "                 group[sig].b.values + group[sig].se_b.values + 0.20,\n",
    "                 r'*', color='k')\n",
    "    \n",
    "    # shade in every other bar group for clarity:\n",
    "    grouped2 = df.groupby(plotting_group)\n",
    "    k = 0\n",
    "    col = '#CFCFCF'\n",
    "\n",
    "    ymin, ymax = plt.gca().get_ylim()\n",
    "    for name, group in grouped2:\n",
    "        if k % 2 == 0:\n",
    "            xmin = k - bar_width*0.5\n",
    "            xmax = k + bar_width*(len(grouped) + 0.5)\n",
    "            \n",
    "            plt.fill_between([xmin, xmax], ymin, color=col)\n",
    "            plt.fill_between([xmin, xmax], ymax, color=col)\n",
    "        k += 1\n",
    "    \n",
    "    # fix the xlims and tick params etc...\n",
    "    if (k - 1) % 2 == 0:\n",
    "        plt.xlim(0, xmax)\n",
    "    else:\n",
    "        plt.xlim(0, plt.gca().get_xlim()[1] - 3/2*bar_width)\n",
    "\n",
    "    plt.tick_params(axis='y',\n",
    "                    which='major', labelsize=18)\n",
    "    \n",
    "    fancy_names = []\n",
    "    for label in df[plotting_group].unique():\n",
    "        if r'\\emph' not in label:\n",
    "            fancy_names += [r'\\emph{' + label + r'}']\n",
    "        else:\n",
    "            fancy_names += label\n",
    "\n",
    "    plt.xticks(index + bar_width*len(df[clustering].unique())/2,\n",
    "               fancy_names, rotation=rotation, fontsize=20)\n",
    "\n",
    "    pathify(title, '',\n",
    "            r'Regression Coefficient, $\\beta$', )\n",
    "\n",
    "    plt.legend(loc=(1.02, 0.5),fontsize=15)\n",
    "    \n",
    "    plt.ylim(ymin, ymax)\n",
    "        \n",
    "    if save:\n",
    "        print('figure saved')\n",
    "        plt.savefig(save, bbox_inches='tight')\n",
    "\n",
    "\n",
    "plot_order = {r'\\emph{egl-9;vhl-1}': 4,\n",
    "              r'\\emph{egl-9;hif-1}': 5,\n",
    "              r'\\emph{egl-9}': 1,\n",
    "              r'\\emph{hif-1}': 3,\n",
    "              r'\\emph{vhl-1}': 2,\n",
    "              r'\\emph{rhy-1}': 0\n",
    "              }\n",
    "\n",
    "color = {r'\\emph{egl-9;vhl-1}':'#e41a1c',\n",
    "              r'\\emph{egl-9;hif-1}':'#377eb8',\n",
    "              r'\\emph{egl-9}': '#4daf4a',\n",
    "              r'\\emph{hif-1}': '#984ea3',\n",
    "              r'\\emph{vhl-1}': '#ff7f00',\n",
    "              r'\\emph{rhy-1}': '#ffff33'\n",
    "              }"
   ]
  },
  {
   "cell_type": "code",
   "execution_count": 98,
   "metadata": {
    "collapsed": false
   },
   "outputs": [
    {
     "name": "stdout",
     "output_type": "stream",
     "text": [
      "figure saved\n"
     ]
    },
    {
     "data": {
      "image/png": "[encoded data removed]",
      "text/plain": [
       "<matplotlib.figure.Figure at 0x11e320908>"
      ]
     },
     "metadata": {
      "image/png": {
       "height": 287,
       "width": 531
      }
     },
     "output_type": "display_data"
    }
   ],
   "source": [
    "qPCR_plot(plot_df, plot_order, color, clustering='genotype', plotting_group='ext_gene',\n",
    "          title='',\n",
    "          save='../output/hif1_qualitycontrol.pdf', rotation=0)"
   ]
  },
  {
   "cell_type": "markdown",
   "metadata": {},
   "source": [
    "# Quality Control on the hypoxia response and the hif-1 direct target predictions"
   ]
  },
  {
   "cell_type": "code",
   "execution_count": 95,
   "metadata": {
    "collapsed": false
   },
   "outputs": [],
   "source": [
    "def test_significance(df, gold=hypoxia_gold):\n",
    "    ind = df.ens_gene.isin(hypoxia_gold.WBIDS)\n",
    "    found = df[ind].ens_gene.unique()\n",
    "    sig = len(df)  # number of genes that we picked\n",
    "    ntotal = len(thomas.beta['a'])  # total genes measured\n",
    "    pval = sts.hypergeom.sf(len(found),\n",
    "                            ntotal,\n",
    "                            len(hypoxia_gold), sig)    \n",
    "\n",
    "    if pval < 10**-3:\n",
    "        print('This result is statistically significant' +\\\n",
    "              'with a p-value of {0:.2g} using a hypergeometric test.'.format(pval) +\\\n",
    "              'You found {0} gold standard genes!'.format(len(found)))\n",
    "    else:\n",
    "        print(pval)"
   ]
  },
  {
   "cell_type": "code",
   "execution_count": 97,
   "metadata": {
    "collapsed": false
   },
   "outputs": [
    {
     "name": "stdout",
     "output_type": "stream",
     "text": [
      "This result is statistically significantwith a p-value of 2.7e-06 using a hypergeometric test.You found 5 gold standard genes!\n"
     ]
    }
   ],
   "source": [
    "test_significance(hypoxia_response)"
   ]
  },
  {
   "cell_type": "code",
   "execution_count": 96,
   "metadata": {
    "collapsed": false
   },
   "outputs": [
    {
     "name": "stdout",
     "output_type": "stream",
     "text": [
      "This result is statistically significantwith a p-value of 3.8e-08 using a hypergeometric test.You found 5 gold standard genes!\n"
     ]
    }
   ],
   "source": [
    "test_significance(hypoxia_direct_targets)"
   ]
  },
  {
   "cell_type": "code",
   "execution_count": null,
   "metadata": {
    "collapsed": true
   },
   "outputs": [],
   "source": []
  }
 ],
 "metadata": {
  "kernelspec": {
   "display_name": "Python [default]",
   "language": "python",
   "name": "python3"
  },
  "language_info": {
   "codemirror_mode": {
    "name": "ipython",
    "version": 3
   },
   "file_extension": ".py",
   "mimetype": "text/x-python",
   "name": "python",
   "nbconvert_exporter": "python",
   "pygments_lexer": "ipython3",
   "version": "3.5.2"
  },
  "nav_menu": {},
  "toc": {
   "navigate_menu": true,
   "number_sections": true,
   "sideBar": true,
   "threshold": 6,
   "toc_cell": true,
   "toc_section_display": "block",
   "toc_window_display": true
  }
 },
 "nbformat": 4,
 "nbformat_minor": 2
}
