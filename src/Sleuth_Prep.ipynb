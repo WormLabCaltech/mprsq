{
 "cells": [
  {
   "cell_type": "markdown",
   "metadata": {},
   "source": [
    "# Sleuth Prep File\n",
    "\n",
    "This script does a number of things.\n",
    "\n",
    "* Makes a file with the correct design matrix for each genotype\n",
    "* Places files into folders for sleuth processing. "
   ]
  },
  {
   "cell_type": "code",
   "execution_count": 1,
   "metadata": {
    "collapsed": true
   },
   "outputs": [],
   "source": [
    "import pandas as pd\n",
    "import os\n",
    "import shutil"
   ]
  },
  {
   "cell_type": "code",
   "execution_count": 2,
   "metadata": {
    "collapsed": false
   },
   "outputs": [],
   "source": [
    "kallisto_loc = '../input/kallisto_all/'\n",
    "genmap = pd.read_csv('../input/library_genotype_mapping.txt', comment='#')\n",
    "genmap.genotype = genmap.genotype.apply(str)\n",
    "genmap.genotype = genmap.genotype.apply(str.lower) # make sure everything is always in lowercase"
   ]
  },
  {
   "cell_type": "code",
   "execution_count": 3,
   "metadata": {
    "collapsed": false
   },
   "outputs": [
    {
     "data": {
      "text/html": [
       "<div>\n",
       "<table border=\"1\" class=\"dataframe\">\n",
       "  <thead>\n",
       "    <tr style=\"text-align: right;\">\n",
       "      <th></th>\n",
       "      <th>project_name</th>\n",
       "      <th>genotype</th>\n",
       "      <th>batch</th>\n",
       "    </tr>\n",
       "  </thead>\n",
       "  <tbody>\n",
       "    <tr>\n",
       "      <th>0</th>\n",
       "      <td>Project_17434_indexN704-N517</td>\n",
       "      <td>wt</td>\n",
       "      <td>1</td>\n",
       "    </tr>\n",
       "    <tr>\n",
       "      <th>1</th>\n",
       "      <td>Project_17441_indexN704-N508</td>\n",
       "      <td>a</td>\n",
       "      <td>1</td>\n",
       "    </tr>\n",
       "    <tr>\n",
       "      <th>2</th>\n",
       "      <td>Project_17448_indexN705-N507</td>\n",
       "      <td>d</td>\n",
       "      <td>1</td>\n",
       "    </tr>\n",
       "    <tr>\n",
       "      <th>3</th>\n",
       "      <td>Project_17435_indexN704-N502</td>\n",
       "      <td>wt</td>\n",
       "      <td>1</td>\n",
       "    </tr>\n",
       "    <tr>\n",
       "      <th>4</th>\n",
       "      <td>Project_17442_indexN705-N517</td>\n",
       "      <td>a</td>\n",
       "      <td>1</td>\n",
       "    </tr>\n",
       "  </tbody>\n",
       "</table>\n",
       "</div>"
      ],
      "text/plain": [
       "                   project_name genotype  batch\n",
       "0  Project_17434_indexN704-N517       wt      1\n",
       "1  Project_17441_indexN704-N508        a      1\n",
       "2  Project_17448_indexN705-N507        d      1\n",
       "3  Project_17435_indexN704-N502       wt      1\n",
       "4  Project_17442_indexN705-N517        a      1"
      ]
     },
     "execution_count": 3,
     "metadata": {},
     "output_type": "execute_result"
    }
   ],
   "source": [
    "genmap.head()"
   ]
  },
  {
   "cell_type": "code",
   "execution_count": 4,
   "metadata": {
    "collapsed": true
   },
   "outputs": [],
   "source": [
    "# Make all possible combinations of WT, X\n",
    "combs = []\n",
    "for gene in genmap.genotype.unique():\n",
    "    if gene != 'wt':\n",
    "        combs += [['WT', gene]]"
   ]
  },
  {
   "cell_type": "code",
   "execution_count": 15,
   "metadata": {
    "collapsed": false,
    "scrolled": false
   },
   "outputs": [
    {
     "name": "stdout",
     "output_type": "stream",
     "text": [
      "1\n",
      "../sleuth/WT_a\n",
      "../sleuth/WT_d\n",
      "../sleuth/WT_e\n",
      "../sleuth/WT_c\n",
      "../sleuth/WT_b\n",
      "../sleuth/WT_f\n",
      "../sleuth/WT_g\n",
      "2\n",
      "../sleuth/WT_a\n",
      "../sleuth/WT_d\n",
      "../sleuth/WT_e\n",
      "../sleuth/WT_c\n",
      "../sleuth/WT_b\n",
      "../sleuth/WT_f\n",
      "../sleuth/WT_g\n"
     ]
    }
   ],
   "source": [
    "# Make all the folders required for sleuth processing\n",
    "sleuth_loc = '../sleuth/'\n",
    "\n",
    "if not os.path.exists(sleuth_loc):\n",
    "    os.makedirs(sleuth_loc)\n",
    "\n",
    "# sort the groups by batches, then do the comparisons by batch\n",
    "grouped = genmap.groupby('batch')\n",
    "\n",
    "# do the comparison by batches\n",
    "for name, group in grouped:\n",
    "    WTnames = group[group.genotype=='wt'].project_name.values\n",
    "    print(name, )\n",
    "\n",
    "    # For each combination, make a folder\n",
    "    for comb in combs:\n",
    "        current = sleuth_loc + comb[0]+'_'+comb[1]\n",
    "        MTnames = group[group.genotype == comb[1]].project_name.values\n",
    "        if len(MTnames) == 0:\n",
    "            continue\n",
    "    \n",
    "        if not os.path.exists(current):\n",
    "            os.makedirs(current)\n",
    "    \n",
    "        # copy the right files into the new directory\n",
    "        # inside a folder called results\n",
    "        def copy_cat(src_folder, dst_folder, names):\n",
    "            \"\"\"\n",
    "            A function that copies a set of directories from one place to another.\n",
    "            \"\"\"\n",
    "            for name in names:\n",
    "#               print('The following file was created:', dst_folder+name)\n",
    "                shutil.copytree(src_folder + name, dst_folder + name)\n",
    "        \n",
    "        # copy WT files into the new directory\n",
    "        copy_cat(kallisto_loc, current+'/results/', WTnames)\n",
    "    \n",
    "        # copy the MT files into the new directory\n",
    "        copy_cat(kallisto_loc, current+'/results/', MTnames)"
   ]
  },
  {
   "cell_type": "code",
   "execution_count": 16,
   "metadata": {
    "collapsed": false
   },
   "outputs": [],
   "source": [
    "def matrix_design(name, factor, df, a, b, directory):\n",
    "    \"\"\"\n",
    "    A function that makes the matrix design file for sleuth.\n",
    "    \n",
    "    This function can only make single factor design matrices. \n",
    "    \n",
    "    This function requires a folder 'results' to exist within\n",
    "    'directory', and the 'results' folder in turn must contain\n",
    "    files that are named exactly the same as in the dataframe.\n",
    "    \n",
    "    name - a string\n",
    "    factor - list of factors to list in columns\n",
    "    df - a dataframe containing the list of project names and the value for each factor\n",
    "    i.e. sample1, wt, pathogen_exposed.\n",
    "    a, b - conditions to slice the df with, i.e: a=WT, b=MT1\n",
    "    directory - the directory address to place file in folder is in.\n",
    "\n",
    "    \"\"\"\n",
    "    \n",
    "    with open(directory + name, 'w') as f:\n",
    "        f.write('# Sleuth design matrix for {0}-{1}\\n'.format(a, b))\n",
    "        f.write('experiment {0}\\n'.format(factor))\n",
    "        \n",
    "        # walk through the results directory and get each folder name\n",
    "        # write in the factor value by looking in the dataframe\n",
    "        names = next(os.walk(directory+'/results/'))[1]\n",
    "        for name in names:\n",
    "            fval = df[df.project_name == name][factor].values[0]\n",
    "            \n",
    "            # add a if fval is WT or z otherwise\n",
    "            # this is to ensure sleuth does\n",
    "            # the regression as WT --> MT\n",
    "            # but since sleuth only works alphabetically\n",
    "            # simply stating WT --> MT doesn't work\n",
    "            if fval == 'wt':\n",
    "                fval = 'a' + fval\n",
    "            else:\n",
    "                fval = 'z' + fval\n",
    "            line = name + ' ' + fval + '\\n'\n",
    "            f.write(line)\n",
    "        \n",
    "\n",
    "# Now make the matrix for each combination\n",
    "# I made this separately from the above if loop\n",
    "# because R is stupid and wants the files in this\n",
    "# folder to be in the same order as they are \n",
    "# listed in the matrix design file....\n",
    "for comb in combs:\n",
    "    current = sleuth_loc + comb[0]+'_'+comb[1] + '/'\n",
    "    \n",
    "    # write a file called rna_seq_info for each combination\n",
    "    matrix_design('rna_seq_info.txt', 'genotype', genmap,\n",
    "                  comb[0], comb[1], current)"
   ]
  },
  {
   "cell_type": "code",
   "execution_count": null,
   "metadata": {
    "collapsed": true
   },
   "outputs": [],
   "source": []
  }
 ],
 "metadata": {
  "anaconda-cloud": {},
  "kernelspec": {
   "display_name": "Python [default]",
   "language": "python",
   "name": "python3"
  },
  "language_info": {
   "codemirror_mode": {
    "name": "ipython",
    "version": 3
   },
   "file_extension": ".py",
   "mimetype": "text/x-python",
   "name": "python",
   "nbconvert_exporter": "python",
   "pygments_lexer": "ipython3",
   "version": "3.5.2"
  }
 },
 "nbformat": 4,
 "nbformat_minor": 0
}
