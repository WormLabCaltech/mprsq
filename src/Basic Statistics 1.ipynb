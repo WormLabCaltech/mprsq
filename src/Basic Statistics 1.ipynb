{
 "cells": [
  {
   "cell_type": "markdown",
   "metadata": {
    "toc": "true"
   },
   "source": [
    "# Table of Contents\n",
    " <p><div class=\"lev1 toc-item\"><a href=\"#Isoforms-Identified-in-all-Genotypes\" data-toc-modified-id=\"Isoforms-Identified-in-all-Genotypes-1\"><span class=\"toc-item-num\">1&nbsp;&nbsp;</span>Isoforms Identified in all Genotypes</a></div><div class=\"lev1 toc-item\"><a href=\"#Number-of-Differentially-Expressed-Genes-(DEG)-in-each-genotype\" data-toc-modified-id=\"Number-of-Differentially-Expressed-Genes-(DEG)-in-each-genotype-2\"><span class=\"toc-item-num\">2&nbsp;&nbsp;</span>Number of Differentially Expressed Genes (DEG) in each genotype</a></div><div class=\"lev1 toc-item\"><a href=\"#Perturbation-Distributions\" data-toc-modified-id=\"Perturbation-Distributions-3\"><span class=\"toc-item-num\">3&nbsp;&nbsp;</span>Perturbation Distributions</a></div><div class=\"lev1 toc-item\"><a href=\"#Transcriptomic-overlap-between-gene-pairs\" data-toc-modified-id=\"Transcriptomic-overlap-between-gene-pairs-4\"><span class=\"toc-item-num\">4&nbsp;&nbsp;</span>Transcriptomic overlap between gene pairs</a></div>"
   ]
  },
  {
   "cell_type": "markdown",
   "metadata": {},
   "source": [
    "In this notebook, I will go over the basic results from the RNA-seq in what is essentially a top-level view of the results. Nothing specific, mainly numbers, some histograms and that's it. \n",
    "\n",
    "First, I will load a number of useful libraries. Notable libraries to load are `genpy`, a module that contains useful graphing functions tailored specifically for this project and developed by us; `morgan` a module that specifies what a Morgan object and a McClintock object are, and `gvars`, which contains globally defined variables that we used in this project."
   ]
  },
  {
   "cell_type": "code",
   "execution_count": 1,
   "metadata": {
    "collapsed": false
   },
   "outputs": [],
   "source": [
    "# important stuff:\n",
    "import os\n",
    "import pandas as pd\n",
    "import numpy as np\n",
    "\n",
    "import morgan as morgan\n",
    "import genpy\n",
    "import gvars\n",
    "\n",
    "# Graphics\n",
    "import matplotlib as mpl\n",
    "import matplotlib.pyplot as plt\n",
    "import seaborn as sns\n",
    "from matplotlib import rc\n",
    "\n",
    "rc('text', usetex=True)\n",
    "rc('text.latex', preamble=r'\\usepackage{cmbright}')\n",
    "rc('font', **{'family': 'sans-serif', 'sans-serif': ['Helvetica']})\n",
    "\n",
    "# Magic function to make matplotlib inline;\n",
    "%matplotlib inline\n",
    "\n",
    "# This enables SVG graphics inline. \n",
    "# There is a bug, so uncomment if it works.\n",
    "%config InlineBackend.figure_formats = {'png', 'retina'}\n",
    "\n",
    "# JB's favorite Seaborn settings for notebooks\n",
    "rc = {'lines.linewidth': 2, \n",
    "      'axes.labelsize': 18, \n",
    "      'axes.titlesize': 18, \n",
    "      'axes.facecolor': 'DFDFE5'}\n",
    "sns.set_context('notebook', rc=rc)\n",
    "sns.set_style(\"dark\")\n",
    "\n",
    "mpl.rcParams['xtick.labelsize'] = 16 \n",
    "mpl.rcParams['ytick.labelsize'] = 16 \n",
    "mpl.rcParams['legend.fontsize'] = 14"
   ]
  },
  {
   "cell_type": "markdown",
   "metadata": {
    "collapsed": true
   },
   "source": [
    "Next, I will specify my q-value cutoff. A typical value for RNA-seq datasets is q=0.1 for statistical significance. I will also initialize a `genvar.genvars` object, which contains all of the global variables used for this project."
   ]
  },
  {
   "cell_type": "code",
   "execution_count": 2,
   "metadata": {
    "collapsed": false
   },
   "outputs": [],
   "source": [
    "q = 0.1\n",
    "# this loads all the labels we need\n",
    "genvar = gvars.genvars()"
   ]
  },
  {
   "cell_type": "markdown",
   "metadata": {
    "collapsed": true
   },
   "source": [
    "Now, I will prepare to initialize a Morgan project. Morgan objects have a large number of attributes. I wrote the Morgan library, but over the past year it has become deprecated and less useful. We will load it here, but it's a bit messy. I am in the process of cleaning it up.\n",
    "\n",
    "So what does a Morgan object do?\n",
    "\n",
    "Well, when you initialize a Morgan object, you must pass at least a set of 4 strings. These strings are, in order, the column where the isoform names (unique) reside, the name of the column that holds the regression coefficient from sleuth; the name of the column that holds the TPM values passed by Kallisto and the name of the column that holds the q-values.\n",
    "\n",
    "Next, we can add what I call a genmap. A genmap is a file that maps read files to genotypes. A genmap file has three columns: 'project_name', 'genotype' and 'batch' in that exact order. For this project, the genotypes are coded. In other words, they are letters, 'a', 'b', 'd',... and not specific genotypes. The reason for this is that we wanted to make sure that, at least during the initial phase of the project, I could not unduly bias the results by searching the literature and what not.  Because the genotypes are coded, we need to specify which of the letters represent single mutants, and which letters represent double mutants. I also need to be able to figure out what the individual components of a double mutant are. Finally, we need to set the q-value threshold. If no q-value is specified, the threshold defaults to 0.1.\n",
    "\n",
    "I will now initialize the object. I call it thomas. Then I will load in all the variables we will use; I will load in the genmap, and at last I will load in the datasets that contain the TPM and the Sleuth $\\beta$ coefficients. After everything has been loaded, I will call `thomas.filter_data`, which drops all the rows that have a $\\beta$ coefficient equal to NaN"
   ]
  },
  {
   "cell_type": "code",
   "execution_count": 3,
   "metadata": {
    "collapsed": true
   },
   "outputs": [],
   "source": [
    "# Specify the genotypes to refer to:\n",
    "single_mutants = ['b', 'c', 'd', 'e', 'g']\n",
    "\n",
    "# Specify which letters are double mutants and their genotype\n",
    "double_mutants = {'a' : 'bd', 'f':'bc'}\n",
    "\n",
    "# initialize the morgan.hunt object:\n",
    "thomas = morgan.hunt('target_id', 'b', 'tpm', 'qval')\n",
    "# input the genmap file:\n",
    "thomas.add_genmap('../input/library_genotype_mapping.txt', comment='#')\n",
    "# add the names of the single mutants\n",
    "thomas.add_single_mutant(single_mutants)\n",
    "# add the names of the double mutants\n",
    "thomas.add_double_mutants(['a', 'f'], ['bd', 'bc'])\n",
    "# set the q-value threshold for significance to its default value, 0.1\n",
    "thomas.set_qval()\n",
    "\n",
    "# Add the tpm files: \n",
    "kallisto_loc = '../input/kallisto_all/'\n",
    "sleuth_loc = '../sleuth_all_adjusted/kallisto/'\n",
    "thomas.add_tpm(kallisto_loc, '/kallisto/abundance.tsv', '')\n",
    "# load all the beta values for each genotype:\n",
    "for file in os.listdir(\"../sleuth_all_adjusted/kallisto\"):\n",
    "    if file[:4] == 'beta':\n",
    "        letter = file[-5:-4].lower()\n",
    "        thomas.add_beta(sleuth_loc + file, letter)\n",
    "        thomas.beta[letter].sort_values('target_id', inplace=True)\n",
    "        thomas.beta[letter].reset_index(inplace=True)\n",
    "        \n",
    "thomas.filter_data()"
   ]
  },
  {
   "cell_type": "markdown",
   "metadata": {},
   "source": [
    "Finally, we will place all the data in a tidy dataframe, where each row is an observation."
   ]
  },
  {
   "cell_type": "code",
   "execution_count": 4,
   "metadata": {
    "collapsed": false
   },
   "outputs": [],
   "source": [
    "frames = []\n",
    "for key, df in thomas.beta.items():\n",
    "    df['genotype'] = genvar.mapping[key]\n",
    "    frames += [df]\n",
    "    df['sorter'] = genvar.sort_muts[key]\n",
    "tidy = pd.concat(frames)\n",
    "\n",
    "# I will make a new column, called absb where I place the absolute val of b\n",
    "tidy['absb'] = tidy.b.abs()\n",
    "\n",
    "# sort_values according to their position in the sorter column\n",
    "# (makes sure single mutants are clustered and doubles are clustered)\n",
    "tidy.sort_values('sorter', inplace=True)"
   ]
  },
  {
   "cell_type": "markdown",
   "metadata": {},
   "source": [
    "# Isoforms Identified in all Genotypes"
   ]
  },
  {
   "cell_type": "code",
   "execution_count": 5,
   "metadata": {
    "collapsed": false
   },
   "outputs": [
    {
     "name": "stdout",
     "output_type": "stream",
     "text": [
      "Total isoforms identified in all genotypes: 18685\n"
     ]
    }
   ],
   "source": [
    "total_genes_id = tidy.target_id.unique().shape[0]\n",
    "print(\"Total isoforms identified in all genotypes: {0}\".format(total_genes_id))"
   ]
  },
  {
   "cell_type": "markdown",
   "metadata": {},
   "source": [
    "We identified 18685 isoforms using 7 million reads. Not bad considering there are ~25,000 isoforms in C. elegans. Each gene has just slightly over 1 isoform on average, so what this means is that we sampled almost 80% of the genome.\n",
    "\n",
    "# Number of Differentially Expressed Genes (DEG) in each genotype\n",
    "\n",
    "Next, let's figure out how many *genes* were differentially expressed in each mutant relative to the wild-type control."
   ]
  },
  {
   "cell_type": "code",
   "execution_count": 6,
   "metadata": {
    "collapsed": false,
    "scrolled": true
   },
   "outputs": [
    {
     "name": "stdout",
     "output_type": "stream",
     "text": [
      "Genotype: DEG\n",
      "rhy-1: 2104\n",
      "egl-9: 1807\n",
      "vhl-1: 690\n",
      "hif-1: 547\n",
      "fog-2: 2091\n",
      "egl-9;vhl-1: 2377\n",
      "egl-9;hif-1: 405\n"
     ]
    }
   ],
   "source": [
    "print('Genotype: DEG')\n",
    "for x in tidy.genotype.unique():\n",
    "    # select the DE isoforms in the current genotype:\n",
    "    sel = (tidy.qval < q) & (tidy.genotype == x)\n",
    "    # extract the number of unique genes:\n",
    "    s = tidy[sel].ens_gene.unique().shape[0]\n",
    "    print(\n",
    "\"\"\"{0}: {1}\"\"\".format(x, s))"
   ]
  },
  {
   "cell_type": "markdown",
   "metadata": {},
   "source": [
    "From the above exploration, we can already conclude that:\n",
    " * *hif-1(lf)* has a transcriptomic phenotype\n",
    " * *hif-1;egl-9(lf)* has a transcriptomic phenotype\n",
    " * The *egl-9* phenotype is stronger than the *vhl-1* or the *hif-1* phenotypes.\n",
    "\n",
    "We should be careful is saying whether *rhy-1*, *egl-9* and *egl-9;vhl-1(lf)* are different from each other, and the same goes for *hif-1(lf)*, *vhl-1(lf)* and *egl-9;hif-1(lf)* because we set our FDR threshold at 10%. Notice that *egl-9(lf)* and *rhy-1(lf)* are barely 300 genes separated from each other. A bit of wiggle from both, and they might be identical. \n",
    "\n",
    "# Perturbation Distributions\n",
    "\n",
    "Another thing we could do is plot the distribution of effect sizes for each genotype for genes that showed statistically significant perturbations. Because of the large number of points, we should expect a spread large enough that every mutant will probably overlap. This next plot is not very informative, but always useful to look at. \n",
    "\n",
    "In the plot below, each line within the box represents a quartile (25, 50 and 75%) and the whiskers represent the rest of the distribution, *sans* outliers. The outliers are the black dots outside the whiskers."
   ]
  },
  {
   "cell_type": "code",
   "execution_count": 7,
   "metadata": {
    "collapsed": false
   },
   "outputs": [
    {
     "data": {
      "text/plain": [
       "(array([0, 1, 2, 3, 4, 5, 6]), <a list of 7 Text xticklabel objects>)"
      ]
     },
     "execution_count": 7,
     "metadata": {},
     "output_type": "execute_result"
    },
    {
     "data": {
      "image/png": "[encoded data removed]",
      "text/plain": [
       "<matplotlib.figure.Figure at 0x11b465c50>"
      ]
     },
     "metadata": {
      "image/png": {
       "height": 387,
       "width": 511
      }
     },
     "output_type": "display_data"
    }
   ],
   "source": [
    "sns.boxplot(x='genotype', y='absb', data=tidy[tidy.qval < q])\n",
    "plt.yscale('log')\n",
    "plt.xticks(rotation=30)"
   ]
  },
  {
   "cell_type": "markdown",
   "metadata": {},
   "source": [
    "We can see that *egl-9* genotypes have the largest median effect size of the hypoxia pathway mutants, but all genotypes have overlapping distributions. How much can we gain from this? Probably not a whole lot... At any rate, it goes to show that *egl-9(lf)* does have the most severe phenotype transcriptomically, much like its macroscopic counterparts.\n",
    "\n",
    "# Transcriptomic overlap between gene pairs\n",
    "\n",
    "In order to be able to assess whether two genes are interacting, we must first determine that the mutants we are studying act upon the same phenotype. What defines a phenotype in transcriptomic space? We use an operational definition -- two genotypes share the same phenotype if they regulate more than a pre-specified(and admittedly subjective) number of genes in common between the two of them, angostic of direction. Let's figure out to what extent the genes we have studied share the same phenotype.\n",
    "\n",
    "The code below is a hack, but it does the job."
   ]
  },
  {
   "cell_type": "code",
   "execution_count": 8,
   "metadata": {
    "collapsed": false
   },
   "outputs": [
    {
     "name": "stdout",
     "output_type": "stream",
     "text": [
      "rhy-1 and egl-9 share 1367 genes\n",
      "rhy-1 and vhl-1 share 501 genes\n",
      "rhy-1 and hif-1 share 230 genes\n",
      "rhy-1 and fog-2 share 685 genes\n",
      "rhy-1 and egl-9;vhl-1 share 1364 genes\n",
      "rhy-1 and egl-9;hif-1 share 254 genes\n",
      "egl-9 and vhl-1 share 528 genes\n",
      "egl-9 and hif-1 share 212 genes\n",
      "egl-9 and fog-2 share 647 genes\n",
      "egl-9 and egl-9;vhl-1 share 1468 genes\n",
      "egl-9 and egl-9;hif-1 share 226 genes\n",
      "vhl-1 and hif-1 share 135 genes\n",
      "vhl-1 and fog-2 share 320 genes\n",
      "vhl-1 and egl-9;vhl-1 share 655 genes\n",
      "vhl-1 and egl-9;hif-1 share 130 genes\n",
      "hif-1 and fog-2 share 223 genes\n",
      "hif-1 and egl-9;vhl-1 share 288 genes\n",
      "hif-1 and egl-9;hif-1 share 78 genes\n",
      "fog-2 and egl-9;vhl-1 share 795 genes\n",
      "fog-2 and egl-9;hif-1 share 141 genes\n",
      "egl-9;vhl-1 and egl-9;hif-1 share 297 genes\n"
     ]
    }
   ],
   "source": [
    "sig = (tidy.qval < q)\n",
    "for i, g1 in enumerate(tidy.genotype.unique()):\n",
    "    genes1 = tidy[sig & (tidy.genotype == g1)]\n",
    "    for j, g2 in enumerate(tidy.genotype.unique()[i+1:]):\n",
    "        genes2 = tidy[sig & (tidy.genotype == g2)]\n",
    "        \n",
    "        # find the overlap between the two:\n",
    "        n = genes2[genes2.ens_gene.isin(genes1.ens_gene)].shape[0]\n",
    "        OR = ((tidy.genotype == g1) | (tidy.genotype == g2)) \n",
    "        ntot = tidy[sig & OR].shape[0]\n",
    "        print(\n",
    "            \"{0} and {1} share {2} genes\".format(g1, g2, n)\n",
    "             )"
   ]
  },
  {
   "cell_type": "markdown",
   "metadata": {},
   "source": [
    "Well, we can see that the number of genes that is shared between mutants of the same pathway ranges from ~100 genes all the way to ~1,300. However, the hypoxia mutants share between ~140 and ~700 genes in common with another mutant, the *fog-2(lf)* mutant that has never been reported to act in the hypoxia pathway. What are we to make of this? My own conclusion is that *fog-2* probably does interact (probably suppresses, actually) with the hypoxia pathway and they both act on some of the same genes. Whether they are epistatic to each other, or whether the interaction is simply additive, we can't tell but it does raise questions. \n",
    "I won't show it here, but among the genes that *fog-2* regulates is *cysl-1*, which is a powerful regulator of *egl-9*."
   ]
  }
 ],
 "metadata": {
  "anaconda-cloud": {},
  "kernelspec": {
   "display_name": "Python [default]",
   "language": "python",
   "name": "python3"
  },
  "language_info": {
   "codemirror_mode": {
    "name": "ipython",
    "version": 3
   },
   "file_extension": ".py",
   "mimetype": "text/x-python",
   "name": "python",
   "nbconvert_exporter": "python",
   "pygments_lexer": "ipython3",
   "version": "3.5.2"
  },
  "nav_menu": {},
  "toc": {
   "navigate_menu": true,
   "number_sections": true,
   "sideBar": true,
   "threshold": 6,
   "toc_cell": true,
   "toc_section_display": "block",
   "toc_window_display": true
  }
 },
 "nbformat": 4,
 "nbformat_minor": 2
}
