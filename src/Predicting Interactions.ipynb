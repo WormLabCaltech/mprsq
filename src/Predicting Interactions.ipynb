{
 "cells": [
  {
   "cell_type": "markdown",
   "metadata": {
    "toc": "true"
   },
   "source": [
    "# Table of Contents\n",
    " <p><div class=\"lev1 toc-item\"><a href=\"#Aggregative-Clustering\" data-toc-modified-id=\"Aggregative-Clustering-1\"><span class=\"toc-item-num\">1&nbsp;&nbsp;</span>Aggregative Clustering</a></div><div class=\"lev1 toc-item\"><a href=\"#Robust-Regressions\" data-toc-modified-id=\"Robust-Regressions-2\"><span class=\"toc-item-num\">2&nbsp;&nbsp;</span>Robust Regressions</a></div><div class=\"lev1 toc-item\"><a href=\"#Heatmap\" data-toc-modified-id=\"Heatmap-3\"><span class=\"toc-item-num\">3&nbsp;&nbsp;</span>Heatmap</a></div><div class=\"lev1 toc-item\"><a href=\"#Making-the-Genetic-Graph\" data-toc-modified-id=\"Making-the-Genetic-Graph-4\"><span class=\"toc-item-num\">4&nbsp;&nbsp;</span>Making the Genetic Graph</a></div>"
   ]
  },
  {
   "cell_type": "code",
   "execution_count": 2,
   "metadata": {
    "collapsed": false
   },
   "outputs": [],
   "source": [
    "# important stuff:\n",
    "import os\n",
    "import pandas as pd\n",
    "import numpy as np\n",
    "\n",
    "# stats\n",
    "import sklearn.decomposition\n",
    "from scipy import stats as sts\n",
    "from sklearn.cluster import AgglomerativeClustering\n",
    "from scipy.cluster import hierarchy\n",
    "import statsmodels.api as stm\n",
    "\n",
    "# network graphics\n",
    "import networkx as nx\n",
    "\n",
    "# Graphics\n",
    "import matplotlib as mpl\n",
    "import matplotlib.ticker as plticker\n",
    "import matplotlib.pyplot as plt\n",
    "import seaborn as sns\n",
    "import matplotlib.patheffects as path_effects\n",
    "from matplotlib import rc\n",
    "rc('text', usetex=True)\n",
    "\n",
    "# bayes and mcmc\n",
    "import pymc3 as pm\n",
    "import theano\n",
    "\n",
    "# Magic function to make matplotlib inline;\n",
    "# other style specs must come AFTER\n",
    "%matplotlib inline\n",
    "\n",
    "# This enables SVG graphics inline. \n",
    "# There is a bug, so uncomment if it works.\n",
    "%config InlineBackend.figure_formats = {'png', 'retina'}\n",
    "\n",
    "# JB's favorite Seaborn settings for notebooks\n",
    "rc = {'lines.linewidth': 2, \n",
    "      'axes.labelsize': 18, \n",
    "      'axes.titlesize': 18, \n",
    "      'axes.facecolor': 'DFDFE5'}\n",
    "sns.set_context('notebook', rc=rc)\n",
    "sns.set_style(\"dark\")\n",
    "\n",
    "ft = 35 #title fontsize"
   ]
  },
  {
   "cell_type": "code",
   "execution_count": null,
   "metadata": {
    "collapsed": true
   },
   "outputs": [],
   "source": [
    "import genpy\n",
    "import gvars\n",
    "import morgan as morgan"
   ]
  },
  {
   "cell_type": "code",
   "execution_count": 6,
   "metadata": {
    "collapsed": false
   },
   "outputs": [],
   "source": [
    "genvar = gvars.genvars()"
   ]
  },
  {
   "cell_type": "code",
   "execution_count": null,
   "metadata": {
    "collapsed": false
   },
   "outputs": [],
   "source": [
    "tf_df = pd.read_csv('../input/tf_list.csv')\n",
    "hypoxia_gold = pd.read_csv('../input/hypoxia_gold_standard.csv',\n",
    "                           sep=',')"
   ]
  },
  {
   "cell_type": "code",
   "execution_count": 4,
   "metadata": {
    "collapsed": true
   },
   "outputs": [],
   "source": [
    "# Specify the genotypes to refer to:\n",
    "single_mutants = ['b', 'c', 'd', 'e', 'g']\n",
    "# Specify which genotypes are double mutants \n",
    "# and of what single mutants:\n",
    "double_mutants = {'a' : 'bd', 'f':'bc'}\n",
    "\n",
    "# initialize the morgan.hunt object:\n",
    "# target_id is the column with isoform specific names\n",
    "# b is the name of the column with the GLM regression coefficients\n",
    "# tpm is the name of the column with the TPM numbers\n",
    "# qval is the name of the column with the FDR corrected q-values\n",
    "thomas = morgan.hunt('target_id', 'b', 'tpm', 'qval')\n",
    "\n",
    "# input the genmap file:\n",
    "thomas.add_genmap('../input/library_genotype_mapping.txt', comment='#')\n",
    "\n",
    "# add the names of the single mutants\n",
    "thomas.add_single_mutant(single_mutants)\n",
    "\n",
    "# add the names of the double mutants\n",
    "thomas.add_double_mutants(['a', 'f'], ['bd', 'bc'])\n",
    "\n",
    "# set the q-value threshold for significance to its default value, 0.1\n",
    "thomas.set_qval()\n",
    "\n",
    "# Add the tpm files: \n",
    "kallisto_loc = '../input/kallisto_all/'\n",
    "thomas.add_tpm(kallisto_loc, '/kallisto/abundance.tsv', '')\n",
    "\n",
    "# Make all possible combinations of WT, X\n",
    "combs = {}\n",
    "for gene in thomas.genmap.genotype.unique():\n",
    "    if gene != 'wt':\n",
    "        combs[gene] = 'WT_'+gene+'/'\n",
    "\n",
    "# load all the beta values for each genotype:\n",
    "sleuth_loc = '../sleuth_all_adjusted/kallisto/'\n",
    "for file in os.listdir(\"../sleuth_all_adjusted/kallisto\"):\n",
    "    if file[:4] == 'beta':\n",
    "        letter = file[-5:-4].lower()\n",
    "        thomas.add_beta(sleuth_loc + file, letter)\n",
    "        thomas.beta[letter].sort_values('target_id', inplace=True)\n",
    "        thomas.beta[letter].reset_index(inplace=True)\n"
   ]
  },
  {
   "cell_type": "code",
   "execution_count": 8,
   "metadata": {
    "collapsed": false
   },
   "outputs": [
    {
     "name": "stdout",
     "output_type": "stream",
     "text": [
      "Number of na genes: 232\n"
     ]
    }
   ],
   "source": [
    "thomas.filter_data(0, 0.1)\n",
    "\n",
    "# labelling var:\n",
    "genes = [genvar.fancy_mapping[x] for x in thomas.single_mutants]"
   ]
  },
  {
   "cell_type": "markdown",
   "metadata": {},
   "source": [
    "# Aggregative Clustering"
   ]
  },
  {
   "cell_type": "code",
   "execution_count": null,
   "metadata": {
    "collapsed": false
   },
   "outputs": [],
   "source": [
    "# find the set of all genes that are DE in any category\n",
    "max_overlap = np.array([])\n",
    "for df in thomas.beta_filtered.values():\n",
    "    ind = df.qval < thomas.q\n",
    "    if len(max_overlap) == 0:\n",
    "        max_overlap = df[ind].target_id.values\n",
    "    else:\n",
    "        max_overlap = np.concatenate((max_overlap, \n",
    "                        df[ind].target_id.values))\n",
    "\n",
    "max_overlap = max_overlap.tolist()\n",
    "max_overlap = list(set(max_overlap))\n",
    "print(len(max_overlap))\n",
    "\n",
    "bvals = np.array([])\n",
    "for df in thomas.beta_filtered.values():\n",
    "    temp = df[df.target_id.isin(max_overlap)].b.values\n",
    "    temp = (temp - temp.mean())/temp.std()\n",
    "    if len(bvals) == 0:\n",
    "        bvals = temp\n",
    "    else:\n",
    "        bvals = np.vstack((bvals, temp))\n",
    "\n",
    "# Perform agglomerative clustering\n",
    "sklearn_pca, n = genpy.pca(bvals)\n",
    "model = hierarchy.linkage(sklearn_pca.transform(bvals), 'ward')\n",
    "# extract the labels:\n",
    "labels = list(thomas.beta_filtered.keys())\n",
    "\n",
    "# rename the double mutant labels (i.e. instead of 'a' --> 'bd')\n",
    "for i, label in enumerate(labels):\n",
    "    if label in double_mutants:\n",
    "        labels[i] = double_mutants[label]\n",
    "\n",
    "# Linewidth parameter, temporarily set to 7\n",
    "plt.rcParams['lines.linewidth'] = 7\n",
    "\n",
    "# set colors (black; blue)\n",
    "hierarchy.set_link_color_palette(['k', 'g', 'b'])\n",
    "\n",
    "# draw the dendrogram\n",
    "hierarchy.dendrogram(\n",
    "    model,\n",
    "    truncate_mode='level',  # show only the last p merged clusters\n",
    "    labels=list(thomas.beta_filtered.keys()),\n",
    "    p=21,  # show only the last p merged clusters\n",
    "    show_leaf_counts=False,  # otherwise numbers in brackets are counts\n",
    "    leaf_rotation=90.,\n",
    "    leaf_font_size=12.,\n",
    "    show_contracted=True,\n",
    "    above_threshold_color='k'\n",
    ")\n",
    "\n",
    "# get the current axis\n",
    "ax = plt.gca()\n",
    "\n",
    "# add in the orange and green boxes\n",
    "height = ax.get_ylim()[1]*.36\n",
    "\n",
    "plt.xticks(fontsize=55)\n",
    "plt.gca().yaxis.set_major_locator(plt.NullLocator())\n",
    "\n",
    "title = 'Clustering by Differential Expression'\n",
    "plt.title(title, fontsize=ft)\n",
    "plt.savefig('../output/tpm_dendrogram.pdf', bbox_inches='tight')\n",
    "\n",
    "# return linewidth to a reasonable setting\n",
    "plt.rcParams['lines.linewidth'] = 2"
   ]
  },
  {
   "cell_type": "code",
   "execution_count": null,
   "metadata": {
    "collapsed": true
   },
   "outputs": [],
   "source": [
    "# def pathify(title, xlabel, ylabel, xticks=True, yticks=True, **kwargs):\n",
    "#     \"\"\"\n",
    "#     A function to pathify the labels, titles and ticks in a plot.\n",
    "#     \"\"\"\n",
    "#     labelsize = kwargs.pop('labelsize', 20)\n",
    "#     titlesize = kwargs.pop('titlesize', 25)\n",
    "    \n",
    "#     # make the labels and title into paths\n",
    "#     effect = [path_effects.Normal()]\n",
    "#     plt.ylabel(ylabel,\n",
    "#                fontsize=labelsize).set_path_effects(effect)\n",
    "#     plt.xlabel(xlabel,\n",
    "#                fontsize=labelsize).set_path_effects(effect)\n",
    "#     plt.title(title,\n",
    "#               fontsize=titlesize).set_path_effects(effect)\n",
    "\n",
    "#     ax = plt.gca()\n",
    "#     # go through each xtick or ytick and make \n",
    "#     # it a path if user specified to do so.\n",
    "#     if xticks == True:\n",
    "#         for i, label in enumerate(ax.get_xticklabels()):\n",
    "#             ax.get_xticklabels()[i].set_path_effects(effect)\n",
    "#     if yticks == True:\n",
    "#         for i, label in enumerate(ax.get_yticklabels()):\n",
    "#             ax.get_yticklabels()[i].set_path_effects(effect)"
   ]
  },
  {
   "cell_type": "markdown",
   "metadata": {},
   "source": [
    "# Robust Regressions"
   ]
  },
  {
   "cell_type": "code",
   "execution_count": null,
   "metadata": {
    "collapsed": true
   },
   "outputs": [],
   "source": [
    "def robust_regress(data):\n",
    "    \"\"\"A robust regression using a StudentT distribution instead of a Gaussian model.\"\"\"\n",
    "    with pm.Model() as model_robust:\n",
    "        # set the model. pymc is nice because\n",
    "        # it will automatically choose\n",
    "        # appropriate priors for us once we \n",
    "        # specify our likelihood is StudentT\n",
    "        family = pm.glm.families.StudentT()\n",
    "        # specify we want a generalized linear\n",
    "        # model with a Student T distribution\n",
    "        pm.glm.glm('y ~ x', data, family=family)\n",
    "        # find the MAP as a good starting point\n",
    "        start = pm.find_MAP()\n",
    "        # do the simulation and return the results\n",
    "        step = pm.NUTS(scaling=start)\n",
    "        trace_robust = pm.sample(2000, step, progressbar=True)\n",
    "        return trace_robust"
   ]
  },
  {
   "cell_type": "code",
   "execution_count": null,
   "metadata": {
    "collapsed": true
   },
   "outputs": [],
   "source": [
    "# a function to rank order the data\n",
    "def find_rank(df):\n",
    "    \"\"\"A function to find the rank values of a variable.\"\"\"\n",
    "    # make a copy of the dataframe, then sort it inplace\n",
    "    d = df.copy()\n",
    "    d.sort_values('b', inplace=True)\n",
    "    # make a rank vector and append it to the sorted dataframe\n",
    "    rank = np.linspace(0, len(d)-1, len(d))\n",
    "    d['r'] = rank\n",
    "    # sort by isoform name again and return the modified df\n",
    "    d.sort_values('target_id', inplace=True)\n",
    "    return d"
   ]
  },
  {
   "cell_type": "code",
   "execution_count": null,
   "metadata": {
    "collapsed": true
   },
   "outputs": [],
   "source": [
    "# find inliers and outliers (see text description below)\n",
    "def find_inliers(distribution, mean, trace):\n",
    "    \"\"\"A function to identify inliers and outliers in a distribution\"\"\"\n",
    "    # find the outliers:\n",
    "    sel = np.abs(distribution - mean)/(trace_robust.x.std() \n",
    "                 + trace_robust.Intercept.std()+ std) < 1.5\n",
    "    \n",
    "    # get the outliers and inliers\n",
    "    distribution_inliers = distribution[sel]\n",
    "    distribution_outliers = distribution[~sel]\n",
    "\n",
    "    # get the gene names of the outliers\n",
    "    inverse = distribution_outliers + \\\n",
    "                          intercept + ovx.r*slope\n",
    "    outliers = ovy[ovy.r.isin(inverse)].target_id\n",
    "    \n",
    "    return distribution_inliers, distribution_outliers, outliers"
   ]
  },
  {
   "cell_type": "code",
   "execution_count": null,
   "metadata": {
    "collapsed": false
   },
   "outputs": [],
   "source": [
    "# the genotypes to compare\n",
    "letters = ['e', 'g']\n",
    "\n",
    "# lambda index function:\n",
    "lind = lambda x: (x.qval < 0.1)\n",
    "\n",
    "# extract the dataframes from the morgan.hunt object\n",
    "x = thomas.beta_filtered[letters[0]]\n",
    "y = thomas.beta_filtered[letters[1]]\n",
    "\n",
    "# boolean logic to find the stat. sig. diff. \n",
    "ovx = x[lind(x)]\n",
    "ovy = y[lind(y) & y.target_id.isin(ovx['target_id'])].copy()\n",
    "ovx = x[lind(x) & x.target_id.isin(ovy['target_id'])].copy()\n",
    "\n",
    "# append rank column:\n",
    "ovx = find_rank(ovx)\n",
    "ovy = find_rank(ovy)"
   ]
  },
  {
   "cell_type": "code",
   "execution_count": null,
   "metadata": {
    "collapsed": false
   },
   "outputs": [],
   "source": [
    "# Take the data and put it into a\n",
    "# dictionary to feed into robust regression\n",
    "data = dict(x=ovx.r, y=ovy.r)\n",
    "\n",
    "x = np.linspace(ovx.r.min(), ovx.r.max())\n",
    "\n",
    "# perform the simulation\n",
    "trace_robust = robust_regress(data)\n",
    "\n",
    "# normalize everything so that all points are centered around 0\n",
    "intercept = trace_robust.Intercept.mean()\n",
    "slope = trace_robust.x.mean()\n",
    "distribution = ovy.r - intercept - ovx.r*slope\n",
    "\n",
    "# find the mean and stdev of the distribution\n",
    "mean = distribution.mean()\n",
    "std = distribution.std()\n",
    "\n",
    "# find inliers, and outliers\n",
    "results = find_inliers(distribution, mean, trace_robust)\n",
    "distribution_inliers, distribution_outliers, outliers = results\n",
    "\n",
    "# get the y-coordinate of the inliers and outliers\n",
    "yri = distribution_inliers + intercept + ovx.r*slope\n",
    "yro = distribution_outliers + intercept + ovx.r*slope\n",
    "\n",
    "# run a second regression on the outliers\n",
    "data2 = dict(x=ovx[ovx.target_id.isin(outliers)].r,\n",
    "             y=ovy[ovy.target_id.isin(outliers)].r)\n",
    "trace_robust2 = robust_regress(data2)\n",
    "slope2 = trace_robust2.x.mean()"
   ]
  },
  {
   "cell_type": "code",
   "execution_count": null,
   "metadata": {
    "collapsed": false
   },
   "outputs": [],
   "source": [
    "# draw a figure\n",
    "plt.figure(figsize=(5, 5))\n",
    "\n",
    "label = 'posterior predictive regression lines'\n",
    "pm.glm.plot_posterior_predictive(trace_robust, eval=x, \n",
    "                                 label=label,\n",
    "                                 color='#357EC7')\n",
    "\n",
    "if slope2*slope < 0:\n",
    "    pm.glm.plot_posterior_predictive(trace_robust2, eval=x, \n",
    "                                     label=label,\n",
    "                                     color='#FFA500')\n",
    "\n",
    "# plot the data. Inliers are plotted as \n",
    "#large green dots, outliers as small red dots\n",
    "plt.plot(ovx.r, yri, 'go', ms = 5, alpha=0.4)\n",
    "plt.plot(ovx[yro > 0].r, yro[yro > 0], 'ro', ms = 6)\n",
    "\n",
    "# prettify plot\n",
    "plt.xlim(0, len(ovx))\n",
    "plt.ylim(0, len(ovy))\n",
    "plt.yticks([0, np.floor(len(ovx)/2), len(ovx)], fontsize=20)\n",
    "plt.xticks([0, np.floor(len(ovx)/2), len(ovx)], fontsize=20)\n",
    "pathify('Inter-Transcriptomic Correlation', \n",
    "        genotype_mapping[letters[0]] + r'genes ranked by $\\beta$', \n",
    "        genotype_mapping[letters[1]] + r' genes ranked by $\\beta$',\n",
    "        labelsize=24)\n",
    "comp = letters[0] + letters[1]\n",
    "plt.savefig('../output/multiple_modes_{0}.pdf'.format(comp))"
   ]
  },
  {
   "cell_type": "code",
   "execution_count": null,
   "metadata": {
    "collapsed": false
   },
   "outputs": [],
   "source": [
    "print(\n",
    "\"\"\"The average slope of the robust regression was {0:.2g}\"\"\".format(slope)\n",
    ")"
   ]
  },
  {
   "cell_type": "markdown",
   "metadata": {},
   "source": [
    "# Heatmap"
   ]
  },
  {
   "cell_type": "code",
   "execution_count": null,
   "metadata": {
    "collapsed": true
   },
   "outputs": [],
   "source": [
    "# Define a plotting function to plot only a triangular heat map\n",
    "def tri_plot(matrix, xlabels, ylabels=[]):\n",
    "    \"\"\"Given a matrix, draw a triangle plot.\"\"\"\n",
    "    # Minimum and maximum for colormap\n",
    "    vmin= matrix.min().min()\n",
    "    vmax= np.max(matrix).max()\n",
    "\n",
    "    # if user didn't specify xlabels, assume ylabels \n",
    "    # are the same as xlabels\n",
    "    if len(ylabels) == 0:\n",
    "        ylabels = xlabels\n",
    "\n",
    "    # make the lower triangle of the matrix,\n",
    "    # since we are only dealing with \n",
    "    # symmetric matrices. Also, remove the diagonal\n",
    "    mask = np.zeros_like(matrix)\n",
    "    mask[np.tril_indices_from(mask)] = True\n",
    "\n",
    "    # draw and adjust xtick size\n",
    "    with sns.axes_style(\"white\"):\n",
    "        ax = sns.heatmap(matrix, xticklabels=xlabels,\n",
    "                         yticklabels=ylabels, cmap='RdBu',\n",
    "                         mask=mask, square=True, vmin=vmin,\n",
    "                         vmax=vmax)\n",
    "    plt.xticks(fontsize=30)\n",
    "    plt.yticks(fontsize=30)"
   ]
  },
  {
   "cell_type": "code",
   "execution_count": null,
   "metadata": {
    "collapsed": false
   },
   "outputs": [],
   "source": [
    "barbara = morgan.mcclintock('bayesian', thomas, True)"
   ]
  },
  {
   "cell_type": "code",
   "execution_count": null,
   "metadata": {
    "collapsed": false
   },
   "outputs": [],
   "source": [
    "mat = barbara.robust_slope.as_matrix(columns=thomas.single_mutants)\n",
    "tri_plot(mat, genes)\n",
    "plt.xticks(rotation=45)\n",
    "plt.yticks(rotation=45)\n",
    "pathify('Weighted Correlations Predict Regulatory Interactions',\n",
    "        '', '')\n",
    "plt.savefig('../output/bayes_primary_single_mutants.pdf',\n",
    "            bbox_inches='tight')"
   ]
  },
  {
   "cell_type": "markdown",
   "metadata": {},
   "source": [
    "# Making the Genetic Graph"
   ]
  },
  {
   "cell_type": "code",
   "execution_count": null,
   "metadata": {
    "collapsed": false
   },
   "outputs": [],
   "source": [
    "def make_genetic_graph(robust_slope, id_vars='corr_with',\n",
    "                       var_name='geno1', value_name='correl',\n",
    "                       **kwargs):\n",
    "    \"\"\"A function to generate a graph of genetic relationships.\"\"\"\n",
    "    w = kwargs.pop('w', 2)\n",
    "    \n",
    "    # initialize an empty graph:\n",
    "    G=nx.Graph()\n",
    "    df = pd.melt(barbara.robust_slope, id_vars='corr_with', var_name='geno1',\n",
    "                value_name='correl')\n",
    "    df = df[df.correl != 0]\n",
    "\n",
    "    # add edges between nodes\n",
    "    for g1 in df.geno1.unique():\n",
    "        for g2 in df.corr_with.unique():\n",
    "            if g1 == g2:\n",
    "                continue\n",
    "\n",
    "            # extract the correlation coefficient\n",
    "            sel = (df.geno1 == g1) & (df.corr_with == g2)\n",
    "            if len(df[sel]):\n",
    "                r = df[sel].correl.values[0]\n",
    "            # only add an edge if a correlation coefficient exists:\n",
    "            if r:\n",
    "                # add the edge\n",
    "                G.add_edge(genvar.mapping[g1],\n",
    "                           genvar.mapping[g2], weight=r)\n",
    "\n",
    "    # parameterize the edge and width and color of the graphs\n",
    "    elarge = [(u,v) for (u,v,d) in G.edges(data=True)]\n",
    "    # set the width \n",
    "    # width will be proportional to the log(correl/smallest_abs_corr)\n",
    "    width = [w*np.log(\n",
    "                    np.abs(\n",
    "                           d['weight']/df.correl.abs().min()\n",
    "                          )  # abs\n",
    "                    )  # log\n",
    "            for (u,v,d) in G.edges(data=True)] # width\n",
    "    # extract the weights (keep these exact!)\n",
    "    weights = [d['weight'] for (u,v,d) in G.edges(data=True)]\n",
    "\n",
    "    return G, width, weights, elarge"
   ]
  },
  {
   "cell_type": "code",
   "execution_count": null,
   "metadata": {
    "collapsed": false
   },
   "outputs": [],
   "source": [
    "# make the graph:\n",
    "G, width, weights, elarge = make_genetic_graph(barbara.robust_slope, w=2.2)\n",
    "\n",
    "# paint the canvas:\n",
    "with sns.axes_style('white'):\n",
    "    fig, ax = plt.subplots()\n",
    "    pos=nx.spring_layout(G)  # positions for all nodes\n",
    "\n",
    "    # draw the nodes:\n",
    "    nx.draw_networkx_nodes(G, pos, node_size=1500,\n",
    "                           node_color='g', alpha=.5)\n",
    "\n",
    "    # draw the edges:\n",
    "    edges = nx.draw_networkx_edges(G, pos, edgelist=elarge,\n",
    "                                   width=width, edge_color=weights,\n",
    "                                   edge_cmap=plt.cm.RdBu,\n",
    "                                   edge_vmin=-.3, \n",
    "                                   edge_vmax=.3)\n",
    "\n",
    "    # add the labels:\n",
    "    nx.draw_networkx_labels(G, pos, font_size=15,\n",
    "                            font_family='sans-serif')\n",
    "\n",
    "    # add a colorbar:\n",
    "    fig.colorbar(edges)\n",
    "    sns.despine()\n",
    "    sns.despine(left=True, bottom=True)\n",
    "    # de-tick and save\n",
    "    plt.xticks([])\n",
    "    plt.yticks([])\n",
    "    plt.savefig(\"../output/weighted_graph.pdf\") # save as png\n",
    "    plt.show() # display"
   ]
  },
  {
   "cell_type": "code",
   "execution_count": null,
   "metadata": {
    "collapsed": true
   },
   "outputs": [],
   "source": []
  }
 ],
 "metadata": {
  "anaconda-cloud": {},
  "kernelspec": {
   "display_name": "Python [default]",
   "language": "python",
   "name": "python3"
  },
  "nav_menu": {},
  "toc": {
   "navigate_menu": true,
   "number_sections": true,
   "sideBar": true,
   "threshold": 6,
   "toc_cell": true,
   "toc_section_display": "block",
   "toc_window_display": true
  }
 },
 "nbformat": 4,
 "nbformat_minor": 2
}
