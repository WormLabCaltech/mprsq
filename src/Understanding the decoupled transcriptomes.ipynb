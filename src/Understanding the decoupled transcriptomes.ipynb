{
 "cells": [
  {
   "cell_type": "code",
   "execution_count": 12,
   "metadata": {
    "collapsed": true
   },
   "outputs": [],
   "source": [
    "q = 0.1"
   ]
  },
  {
   "cell_type": "code",
   "execution_count": 2,
   "metadata": {
    "collapsed": true
   },
   "outputs": [],
   "source": [
    "# Specify the genotypes to refer to:\n",
    "single_mutants = ['b', 'c', 'd', 'e', 'g']\n",
    "# Specify which genotypes are double mutants \n",
    "# and of what single mutants:\n",
    "double_mutants = {'a' : 'bd', 'f':'bc'}\n",
    "\n",
    "# initialize the morgan.hunt object:\n",
    "# target_id is the column with isoform specific names\n",
    "# b is the name of the column with the GLM regression coefficients\n",
    "# tpm is the name of the column with the TPM numbers\n",
    "# qval is the name of the column with the FDR corrected q-values\n",
    "thomas = morgan.hunt('target_id', 'b', 'tpm', 'qval')\n",
    "\n",
    "# input the genmap file:\n",
    "thomas.add_genmap('../input/library_genotype_mapping.txt', comment='#')\n",
    "\n",
    "# add the names of the single mutants\n",
    "thomas.add_single_mutant(single_mutants)\n",
    "\n",
    "# add the names of the double mutants\n",
    "thomas.add_double_mutants(['a', 'f'], ['bd', 'bc'])\n",
    "\n",
    "# set the q-value threshold for significance to its default value, 0.1\n",
    "thomas.set_qval()\n",
    "\n",
    "# Add the tpm files: \n",
    "kallisto_loc = '../input/kallisto_all/'\n",
    "thomas.add_tpm(kallisto_loc, '/kallisto/abundance.tsv', '')\n",
    "\n",
    "# load all the beta values for each genotype:\n",
    "sleuth_loc = '../sleuth_all_adjusted/kallisto/'\n",
    "for file in os.listdir(\"../sleuth_all_adjusted/kallisto\"):\n",
    "    if file[:4] == 'beta':\n",
    "        letter = file[-5:-4].lower()\n",
    "        thomas.add_beta(sleuth_loc + file, letter)\n",
    "        thomas.beta[letter].sort_values('target_id', inplace=True)\n",
    "        thomas.beta[letter].reset_index(inplace=True)"
   ]
  },
  {
   "cell_type": "code",
   "execution_count": 3,
   "metadata": {
    "collapsed": false
   },
   "outputs": [
    {
     "name": "stdout",
     "output_type": "stream",
     "text": [
      "Number of na genes: 232\n"
     ]
    }
   ],
   "source": [
    "thomas.filter_data(0, 0.1)"
   ]
  },
  {
   "cell_type": "code",
   "execution_count": 4,
   "metadata": {
    "collapsed": true
   },
   "outputs": [],
   "source": [
    "tissue_df = tea.fetch_dictionary()\n",
    "phenotype_df = pd.read_csv('../input/phenotype_ontology.csv')\n",
    "go_df = pd.read_csv('../input/go_dictionary.csv')"
   ]
  },
  {
   "cell_type": "code",
   "execution_count": 5,
   "metadata": {
    "collapsed": true
   },
   "outputs": [],
   "source": [
    "melted_tissue = pd.melt(tissue_df, id_vars='wbid', var_name='term', value_name='expressed')\n",
    "melted_tissue = melted_tissue[melted_tissue.expressed == 1]\n",
    "\n",
    "melted_phenotype = pd.melt(phenotype_df, id_vars='wbid', var_name='term', value_name='expressed')\n",
    "melted_phenotype = melted_phenotype[melted_phenotype.expressed == 1]\n",
    "\n",
    "melted_go = pd.melt(go_df, id_vars='wbid', var_name='term', value_name='expressed')\n",
    "melted_go = melted_go[melted_go.expressed == 1]"
   ]
  },
  {
   "cell_type": "code",
   "execution_count": 6,
   "metadata": {
    "collapsed": true
   },
   "outputs": [],
   "source": [
    "frames = []\n",
    "for key, df in thomas.beta.items():\n",
    "    df['genotype'] = key\n",
    "    df['abs_b'] = df.b.abs()\n",
    "    frames += [df]\n",
    "\n",
    "tidy_data = pd.concat(frames)"
   ]
  },
  {
   "cell_type": "code",
   "execution_count": 9,
   "metadata": {
    "collapsed": false
   },
   "outputs": [],
   "source": [
    "df1 = thomas.beta['f'].copy()\n",
    "df2 = thomas.beta['c']\n",
    "df3 = thomas.beta['e']\n",
    "df4 = thomas.beta['b']\n",
    "df5 = thomas.beta['a'] \n",
    "df6 = thomas.beta['d']\n",
    "\n",
    "df1['b_c'] = df2.b\n",
    "df1['b_e'] = df3.b\n",
    "df1['b_b'] = df4.b\n",
    "df1['b_a'] = df5.b\n",
    "df1['b_d'] = df6.b\n",
    "\n",
    "df1['se_b_c'] = df2.se_b\n",
    "df1['se_b_e'] = df3.se_b\n",
    "df1['se_b_b'] = df4.se_b\n",
    "df1['se_b_a'] = df5.se_b\n",
    "df1['se_b_d'] = df6.se_b\n",
    "\n",
    "df1['q_c'] = df2.qval\n",
    "df1['q_e'] = df3.qval\n",
    "df1['q_b'] = df4.qval\n",
    "df1['q_a'] = df5.qval\n",
    "df1['q_d'] = df6.qval"
   ]
  },
  {
   "cell_type": "markdown",
   "metadata": {},
   "source": [
    "# HIF-1-OH"
   ]
  },
  {
   "cell_type": "code",
   "execution_count": 60,
   "metadata": {
    "collapsed": false
   },
   "outputs": [
    {
     "data": {
      "text/html": [
       "<div>\n",
       "<table border=\"1\" class=\"dataframe\">\n",
       "  <thead>\n",
       "    <tr style=\"text-align: right;\">\n",
       "      <th></th>\n",
       "      <th>ext_gene</th>\n",
       "    </tr>\n",
       "  </thead>\n",
       "  <tbody>\n",
       "    <tr>\n",
       "      <th>6894</th>\n",
       "      <td>ftn-1</td>\n",
       "    </tr>\n",
       "    <tr>\n",
       "      <th>7210</th>\n",
       "      <td>ftn-2</td>\n",
       "    </tr>\n",
       "    <tr>\n",
       "      <th>9850</th>\n",
       "      <td>F20D6.11</td>\n",
       "    </tr>\n",
       "    <tr>\n",
       "      <th>11479</th>\n",
       "      <td>cat-4</td>\n",
       "    </tr>\n",
       "  </tbody>\n",
       "</table>\n",
       "</div>"
      ],
      "text/plain": [
       "       ext_gene\n",
       "6894      ftn-1\n",
       "7210      ftn-2\n",
       "9850   F20D6.11\n",
       "11479     cat-4"
      ]
     },
     "execution_count": 60,
     "metadata": {},
     "output_type": "execute_result"
    }
   ],
   "source": [
    "egl_matches_hif = (df1.b_b*df1.b_c > 0) # if effect is in same direction, this should be true\n",
    "egl_anti_vhl = (df1.b_b*df1.b_d < 0) # egl effect should be opposite direction of vhl\n",
    "egl_matches_eglhif = (df1.b_b*df1.b > 0) # egl should be epistatic to hif\n",
    "egl_matches_eglvhl = (df1.b_b*df1.b_a > 0) # egl should be epistatic to vhl\n",
    "ind = egl_matches_hif & egl_anti_vhl & egl_matches_eglhif & egl_matches_eglvhl\n",
    "ind2 = (df1.qval < q) & (df1.q_b < q) & (df1.q_c < q) & (df1.q_d < q)\n",
    "df1[ind & ind2][['ext_gene']]"
   ]
  },
  {
   "cell_type": "markdown",
   "metadata": {},
   "source": [
    "# HIF-1"
   ]
  },
  {
   "cell_type": "code",
   "execution_count": 14,
   "metadata": {
    "collapsed": false
   },
   "outputs": [
    {
     "data": {
      "text/html": [
       "<div>\n",
       "<table border=\"1\" class=\"dataframe\">\n",
       "  <thead>\n",
       "    <tr style=\"text-align: right;\">\n",
       "      <th></th>\n",
       "      <th>ext_gene</th>\n",
       "      <th>b_e</th>\n",
       "      <th>q_e</th>\n",
       "    </tr>\n",
       "  </thead>\n",
       "  <tbody>\n",
       "    <tr>\n",
       "      <th>19626</th>\n",
       "      <td>R08E5.3</td>\n",
       "      <td>4.577666</td>\n",
       "      <td>0.000000e+00</td>\n",
       "    </tr>\n",
       "    <tr>\n",
       "      <th>31611</th>\n",
       "      <td>nit-1</td>\n",
       "      <td>3.369282</td>\n",
       "      <td>4.598481e-32</td>\n",
       "    </tr>\n",
       "  </tbody>\n",
       "</table>\n",
       "</div>"
      ],
      "text/plain": [
       "      ext_gene       b_e           q_e\n",
       "19626  R08E5.3  4.577666  0.000000e+00\n",
       "31611    nit-1  3.369282  4.598481e-32"
      ]
     },
     "execution_count": 14,
     "metadata": {},
     "output_type": "execute_result"
    }
   ],
   "source": [
    "ind = ((df1.qval < 0.1) & (df1.q_c < 0.1) &\n",
    "       (df1.q_e < 0.1) & (df1.q_b < 0.1) &\n",
    "       (df1.q_a < 0.1) & (df1.q_d < 0.1))\n",
    "ind2 = ((df1.b_e > 0) & (df1.b_b > 0) &\n",
    "        (df1.b_a > 0) & (df1.b_d > 0))\n",
    "ind3 = (df1.b < 0) & (df1.b_c < 0)\n",
    "\n",
    "df1[ind & ind2 & ind3][['ext_gene', 'b_e', 'q_e']].sort_values('q_e')"
   ]
  },
  {
   "cell_type": "code",
   "execution_count": 15,
   "metadata": {
    "collapsed": false
   },
   "outputs": [
    {
     "name": "stdout",
     "output_type": "stream",
     "text": [
      "133\n"
     ]
    }
   ],
   "source": [
    "sig =  ((df1.q_e < 0.1) & (df1.q_b < 0.1) &\n",
    "                    (df1.q_a < 0.1) & (df1.q_d < 0.1))\n",
    "up = ((df1.b_e > 0) & (df1.b_b > 0) &\n",
    "        (df1.b_a > 0) & (df1.b_d > 0))\n",
    "nochange = (~((df1.q_c < 0.1) & (df1.b_c > 0)) &\n",
    "        ~((df1.qval < 0.1) & (df1.b > 0)))\n",
    "hypoxia_direct_targets = df1[sig & up & nochange]\n",
    "print(hypoxia_direct_targets.shape[0])\n",
    "hypoxia_direct_targets[['ext_gene', 'b_e', 'q_e']].sort_values('q_e').head()\n",
    "hypoxia_direct_targets.to_csv('../output/hypoxia_targets_candidates.csv', index=False)"
   ]
  },
  {
   "cell_type": "code",
   "execution_count": 16,
   "metadata": {
    "collapsed": false
   },
   "outputs": [
    {
     "name": "stdout",
     "output_type": "stream",
     "text": [
      "Executing script\n",
      "\n",
      "                          Tissue  Expected  Observed  Enrichment Fold Change  \\\n",
      "33  coelomic system WBbt:0005749  5.910394        16                2.707095   \n",
      "\n",
      "     P value   Q value  \n",
      "33  0.000119  0.032602  \n",
      "Executing script\n",
      "\n",
      "                                         Tissue  Expected  Observed  \\\n",
      "46  oxygen response variant WBPhenotype:0000464  0.325218         4   \n",
      "\n",
      "    Enrichment Fold Change  P value   Q value  \n",
      "46               12.299444  0.00002  0.004965  \n"
     ]
    }
   ],
   "source": [
    "ids = hypoxia_direct_targets.ens_gene.unique()\n",
    "_ = tea.enrichment_analysis(ids, tissue_df, show=True)\n",
    "_ = tea.enrichment_analysis(ids, phenotype_df, show=True)\n",
    "_ = tea.enrichment_analysis(ids, go_df, show=False)"
   ]
  },
  {
   "cell_type": "markdown",
   "metadata": {},
   "source": [
    "# Egl-9"
   ]
  },
  {
   "cell_type": "code",
   "execution_count": 19,
   "metadata": {
    "collapsed": false
   },
   "outputs": [
    {
     "name": "stdout",
     "output_type": "stream",
     "text": [
      "432\n"
     ]
    },
    {
     "data": {
      "text/html": [
       "<div>\n",
       "<table border=\"1\" class=\"dataframe\">\n",
       "  <thead>\n",
       "    <tr style=\"text-align: right;\">\n",
       "      <th></th>\n",
       "      <th>ext_gene</th>\n",
       "      <th>b_b</th>\n",
       "      <th>q_b</th>\n",
       "    </tr>\n",
       "  </thead>\n",
       "  <tbody>\n",
       "    <tr>\n",
       "      <th>3558</th>\n",
       "      <td>C18H9.6</td>\n",
       "      <td>-3.021398</td>\n",
       "      <td>1.269703e-72</td>\n",
       "    </tr>\n",
       "    <tr>\n",
       "      <th>17056</th>\n",
       "      <td>nas-33</td>\n",
       "      <td>3.102550</td>\n",
       "      <td>4.313509e-38</td>\n",
       "    </tr>\n",
       "    <tr>\n",
       "      <th>25104</th>\n",
       "      <td>W10G11.3</td>\n",
       "      <td>-2.330393</td>\n",
       "      <td>8.491660e-34</td>\n",
       "    </tr>\n",
       "    <tr>\n",
       "      <th>15295</th>\n",
       "      <td>cdo-1</td>\n",
       "      <td>2.171999</td>\n",
       "      <td>6.303173e-32</td>\n",
       "    </tr>\n",
       "    <tr>\n",
       "      <th>18213</th>\n",
       "      <td>nas-11</td>\n",
       "      <td>1.521469</td>\n",
       "      <td>7.037006e-32</td>\n",
       "    </tr>\n",
       "  </tbody>\n",
       "</table>\n",
       "</div>"
      ],
      "text/plain": [
       "       ext_gene       b_b           q_b\n",
       "3558    C18H9.6 -3.021398  1.269703e-72\n",
       "17056    nas-33  3.102550  4.313509e-38\n",
       "25104  W10G11.3 -2.330393  8.491660e-34\n",
       "15295     cdo-1  2.171999  6.303173e-32\n",
       "18213    nas-11  1.521469  7.037006e-32"
      ]
     },
     "execution_count": 19,
     "metadata": {},
     "output_type": "execute_result"
    }
   ],
   "source": [
    "ind =  ((df1.q_e < 0.1) & (df1.q_b < 0.1) &\n",
    "        (df1.q_a < 0.1) & (df1.q_d > 0.1) &\n",
    "        (df1.q_c > 0.1))\n",
    "ind2 = ((df1.b_e*df1.b_b > 0) &\n",
    "        (df1.b_e*df1.b_a > 0) &\n",
    "        (df1.b_b*df1.b_a > 0)\n",
    "        & (df1.b_b*df1.b_d > 0) & (df1.b_e*df1.b_d > 0))\n",
    "\n",
    "#         & (df1.b_c*df1.b_e < 0) & (df1.b_c*df1.b_b < 0)\\\n",
    "#         & (df1.b_b*df1.b_d > 0) & (df1.b_e*df1.b_d > 0)\n",
    "\n",
    "# remember ids contains the hypoxia_direct_targets\n",
    "egl_targets = df1[ind & ind2]\n",
    "print(egl_targets.ens_gene.unique().shape[0])\n",
    "egl_targets.to_csv('../output/egl_downstream.csv', index=False)\n",
    "egl_targets[['ext_gene', 'b_b', 'q_b']].sort_values('q_b').head(5)"
   ]
  },
  {
   "cell_type": "code",
   "execution_count": 20,
   "metadata": {
    "collapsed": false
   },
   "outputs": [
    {
     "name": "stdout",
     "output_type": "stream",
     "text": [
      "Executing script\n",
      "\n",
      "                                 Tissue   Expected  Observed  \\\n",
      "149  anal depressor muscle WBbt:0004292  11.604908        33   \n",
      "76       intestinal muscle WBbt:0005796   5.002116        15   \n",
      "103          hermaphrodite WBbt:0007849  56.273800        83   \n",
      "56                   Psub1 WBbt:0006874   5.827465        15   \n",
      "\n",
      "     Enrichment Fold Change       P value   Q value  \n",
      "149                2.843624  3.565821e-08  0.000010  \n",
      "76                 2.998731  4.965669e-05  0.006778  \n",
      "103                1.474931  2.128106e-04  0.019366  \n",
      "56                 2.574018  2.912939e-04  0.019881  \n",
      "Executing script\n",
      "\n",
      "                                                Tissue   Expected  Observed  \\\n",
      "50   pleiotropic defects severe early emb WBPhenoty...   5.541985        30   \n",
      "204  pachytene progression during oogenesis variant...  12.503817        44   \n",
      "146  germ cell compartment expansion variant WBPhen...  20.015267        56   \n",
      "89                   rachis narrow WBPhenotype:0001941  12.824427        42   \n",
      "91                   rachis absent WBPhenotype:0001942   3.938931        22   \n",
      "19               gonad vesiculated WBPhenotype:0001979   9.297710        34   \n",
      "86                    nuclei small WBPhenotype:0001792   7.511450        28   \n",
      "223  diplotene absent during oogenesis WBPhenotype:...   4.900763        20   \n",
      "62         oocyte number decreased WBPhenotype:0001944  15.022901        38   \n",
      "87   hermaphrodite fertility reduced WBPhenotype:00...  47.358779        85   \n",
      "156  cell membrane organization biogenesis variant ...  14.839695        35   \n",
      "163                  oocytes small WBPhenotype:0001945   5.816794        19   \n",
      "177  diplotene region organization variant WBPhenot...   9.114504        25   \n",
      "29               apoptosis reduced WBPhenotype:0000182  11.496183        29   \n",
      "136          avoids bacterial lawn WBPhenotype:0000402  20.427481        43   \n",
      "199                    gonad small WBPhenotype:0001957   3.618321        14   \n",
      "188  diakinesis progression during oogenesis varian...   5.129771        17   \n",
      "167  germ cell compartment multinucleate WBPhenotyp...   7.877863        22   \n",
      "164           oocytes lack nucleus WBPhenotype:0001956   5.404580        17   \n",
      "217  germ cell compartment anucleate WBPhenotype:00...   5.541985        17   \n",
      "205         multiple nuclei oocyte WBPhenotype:0001955   3.160305        11   \n",
      "157                     no oocytes WBPhenotype:0000291   9.389313        22   \n",
      "190  germline nuclear positioning variant WBPhenoty...  12.595420        26   \n",
      "127                mitosis variant WBPhenotype:0001743  12.091603        25   \n",
      "208                   molt variant WBPhenotype:0002041  12.916031        24   \n",
      "124                nuclei enlarged WBPhenotype:0001567   4.580153        11   \n",
      "133  lysosome-related organelle morphology variant ...  14.106870        25   \n",
      "12              cell death variant WBPhenotype:0000729  35.770992        52   \n",
      "144  pathogen resistance increased WBPhenotype:0001014   4.854962        11   \n",
      "38   cell component localization variant WBPhenotyp...  10.900763        20   \n",
      "83     endosome morphology variant WBPhenotype:0002090  15.389313        26   \n",
      "158    meiosis defective early emb WBPhenotype:0001041   3.801527         9   \n",
      "61     protein interaction variant WBPhenotype:0001369  26.335878        39   \n",
      "8    transgene subcellular localization variant WBP...  55.053435        73   \n",
      "\n",
      "     Enrichment Fold Change       P value       Q value  \n",
      "50                 5.413223  3.100181e-15  7.750453e-13  \n",
      "204                3.518926  1.041065e-13  1.301331e-11  \n",
      "146                2.797864  1.712459e-12  1.427049e-10  \n",
      "89                 3.275000  4.196213e-12  2.622633e-10  \n",
      "91                 5.585271  4.206849e-12  2.622633e-10  \n",
      "19                 3.656814  1.468830e-11  6.120126e-10  \n",
      "86                 3.727642  4.246869e-10  1.516739e-08  \n",
      "223                4.080997  1.562887e-08  4.884023e-07  \n",
      "62                 2.529472  6.557648e-08  1.821569e-06  \n",
      "87                 1.794810  1.046634e-07  2.616585e-06  \n",
      "156                2.358539  1.060394e-06  2.409986e-05  \n",
      "163                3.266404  1.406694e-06  2.930613e-05  \n",
      "177                2.742881  1.655323e-06  3.183314e-05  \n",
      "29                 2.522576  1.828339e-06  3.264892e-05  \n",
      "136                2.105007  1.919967e-06  3.264892e-05  \n",
      "199                3.869198  2.652277e-06  4.144183e-05  \n",
      "188                3.313988  3.453336e-06  5.078436e-05  \n",
      "167                2.792636  4.327241e-06  6.010057e-05  \n",
      "164                3.145480  7.353366e-06  9.675482e-05  \n",
      "217                3.067493  1.051047e-05  1.313809e-04  \n",
      "205                3.480676  6.455947e-05  7.685652e-04  \n",
      "157                2.343089  7.463258e-05  8.480975e-04  \n",
      "190                2.064242  1.833669e-04  1.993118e-03  \n",
      "127                2.067551  2.274179e-04  2.368937e-03  \n",
      "208                1.858156  1.365262e-03  1.365262e-02  \n",
      "124                2.401667  2.088786e-03  2.008448e-02  \n",
      "133                1.772186  2.206634e-03  2.043179e-02  \n",
      "12                 1.453692  3.203098e-03  2.859909e-02  \n",
      "144                2.265723  3.406882e-03  2.870709e-02  \n",
      "38                 1.834734  3.330022e-03  2.870709e-02  \n",
      "83                 1.689484  3.638955e-03  2.934641e-02  \n",
      "158                2.367470  4.620866e-03  3.610052e-02  \n",
      "61                 1.480870  6.346999e-03  4.808332e-02  \n",
      "8                  1.325984  6.760876e-03  4.971232e-02  \n"
     ]
    }
   ],
   "source": [
    "ids = egl_targets.ens_gene.unique()\n",
    "_ = tea.enrichment_analysis(ids, tissue_df, show=True)\n",
    "_ = tea.enrichment_analysis(ids, phenotype_df, show=True)\n",
    "_ = tea.enrichment_analysis(ids, go_df, show=False)"
   ]
  },
  {
   "cell_type": "markdown",
   "metadata": {},
   "source": [
    "# Vhl-1"
   ]
  },
  {
   "cell_type": "code",
   "execution_count": 21,
   "metadata": {
    "collapsed": false
   },
   "outputs": [
    {
     "name": "stdout",
     "output_type": "stream",
     "text": [
      "36\n"
     ]
    },
    {
     "data": {
      "text/html": [
       "<div>\n",
       "<table border=\"1\" class=\"dataframe\">\n",
       "  <thead>\n",
       "    <tr style=\"text-align: right;\">\n",
       "      <th></th>\n",
       "      <th>ext_gene</th>\n",
       "      <th>b_d</th>\n",
       "      <th>q_d</th>\n",
       "      <th>b_b</th>\n",
       "      <th>b_e</th>\n",
       "    </tr>\n",
       "  </thead>\n",
       "  <tbody>\n",
       "    <tr>\n",
       "      <th>8285</th>\n",
       "      <td>F08G12.1</td>\n",
       "      <td>-2.989972</td>\n",
       "      <td>7.173739e-19</td>\n",
       "      <td>-0.395204</td>\n",
       "      <td>-0.271049</td>\n",
       "    </tr>\n",
       "    <tr>\n",
       "      <th>11227</th>\n",
       "      <td>F31C3.4</td>\n",
       "      <td>0.556422</td>\n",
       "      <td>1.653782e-08</td>\n",
       "      <td>-0.039171</td>\n",
       "      <td>0.069805</td>\n",
       "    </tr>\n",
       "    <tr>\n",
       "      <th>11226</th>\n",
       "      <td>F31C3.3</td>\n",
       "      <td>0.509236</td>\n",
       "      <td>5.936751e-07</td>\n",
       "      <td>0.108664</td>\n",
       "      <td>0.062222</td>\n",
       "    </tr>\n",
       "    <tr>\n",
       "      <th>19090</th>\n",
       "      <td>R03A10.5</td>\n",
       "      <td>-1.249179</td>\n",
       "      <td>1.642922e-05</td>\n",
       "      <td>0.329048</td>\n",
       "      <td>0.320421</td>\n",
       "    </tr>\n",
       "    <tr>\n",
       "      <th>7621</th>\n",
       "      <td>ttr-49</td>\n",
       "      <td>-0.800108</td>\n",
       "      <td>7.005020e-05</td>\n",
       "      <td>-0.224866</td>\n",
       "      <td>-0.397218</td>\n",
       "    </tr>\n",
       "    <tr>\n",
       "      <th>1291</th>\n",
       "      <td>ugt-51</td>\n",
       "      <td>-1.858265</td>\n",
       "      <td>3.809678e-04</td>\n",
       "      <td>-0.849478</td>\n",
       "      <td>-0.429457</td>\n",
       "    </tr>\n",
       "    <tr>\n",
       "      <th>22569</th>\n",
       "      <td>cyp-29A2</td>\n",
       "      <td>-0.728152</td>\n",
       "      <td>4.040750e-03</td>\n",
       "      <td>-0.417813</td>\n",
       "      <td>-0.210286</td>\n",
       "    </tr>\n",
       "    <tr>\n",
       "      <th>11228</th>\n",
       "      <td>psf-2</td>\n",
       "      <td>0.592778</td>\n",
       "      <td>4.516616e-03</td>\n",
       "      <td>0.224087</td>\n",
       "      <td>0.094825</td>\n",
       "    </tr>\n",
       "    <tr>\n",
       "      <th>11606</th>\n",
       "      <td>F33H2.6</td>\n",
       "      <td>0.390757</td>\n",
       "      <td>6.374993e-03</td>\n",
       "      <td>-0.127979</td>\n",
       "      <td>-0.199501</td>\n",
       "    </tr>\n",
       "    <tr>\n",
       "      <th>31155</th>\n",
       "      <td>duxl-1</td>\n",
       "      <td>0.382592</td>\n",
       "      <td>6.407984e-03</td>\n",
       "      <td>0.136819</td>\n",
       "      <td>0.063909</td>\n",
       "    </tr>\n",
       "    <tr>\n",
       "      <th>11229</th>\n",
       "      <td>F31C3.6</td>\n",
       "      <td>0.576217</td>\n",
       "      <td>7.482708e-03</td>\n",
       "      <td>0.005797</td>\n",
       "      <td>0.059090</td>\n",
       "    </tr>\n",
       "    <tr>\n",
       "      <th>26250</th>\n",
       "      <td>Y32F6B.1</td>\n",
       "      <td>-0.893512</td>\n",
       "      <td>9.053793e-03</td>\n",
       "      <td>-0.572261</td>\n",
       "      <td>-0.127153</td>\n",
       "    </tr>\n",
       "    <tr>\n",
       "      <th>24709</th>\n",
       "      <td>NaN</td>\n",
       "      <td>-0.559237</td>\n",
       "      <td>1.187833e-02</td>\n",
       "      <td>-0.308376</td>\n",
       "      <td>-0.300212</td>\n",
       "    </tr>\n",
       "    <tr>\n",
       "      <th>1132</th>\n",
       "      <td>cam-1</td>\n",
       "      <td>0.393836</td>\n",
       "      <td>1.444158e-02</td>\n",
       "      <td>0.201850</td>\n",
       "      <td>0.268705</td>\n",
       "    </tr>\n",
       "    <tr>\n",
       "      <th>22841</th>\n",
       "      <td>srh-70</td>\n",
       "      <td>-1.745955</td>\n",
       "      <td>1.540191e-02</td>\n",
       "      <td>-1.199986</td>\n",
       "      <td>-0.467133</td>\n",
       "    </tr>\n",
       "    <tr>\n",
       "      <th>32685</th>\n",
       "      <td>ZK829.9</td>\n",
       "      <td>0.281352</td>\n",
       "      <td>1.569373e-02</td>\n",
       "      <td>0.193529</td>\n",
       "      <td>0.160901</td>\n",
       "    </tr>\n",
       "    <tr>\n",
       "      <th>23560</th>\n",
       "      <td>ceh-21</td>\n",
       "      <td>0.526728</td>\n",
       "      <td>1.690592e-02</td>\n",
       "      <td>0.332564</td>\n",
       "      <td>0.244614</td>\n",
       "    </tr>\n",
       "    <tr>\n",
       "      <th>20956</th>\n",
       "      <td>T04D3.5</td>\n",
       "      <td>0.356091</td>\n",
       "      <td>1.813608e-02</td>\n",
       "      <td>0.230338</td>\n",
       "      <td>0.170139</td>\n",
       "    </tr>\n",
       "    <tr>\n",
       "      <th>29503</th>\n",
       "      <td>Y61A9LA.1</td>\n",
       "      <td>0.366243</td>\n",
       "      <td>1.862544e-02</td>\n",
       "      <td>0.218938</td>\n",
       "      <td>0.063389</td>\n",
       "    </tr>\n",
       "    <tr>\n",
       "      <th>10167</th>\n",
       "      <td>F22E5.17</td>\n",
       "      <td>0.329656</td>\n",
       "      <td>2.309082e-02</td>\n",
       "      <td>0.159483</td>\n",
       "      <td>0.171345</td>\n",
       "    </tr>\n",
       "    <tr>\n",
       "      <th>11605</th>\n",
       "      <td>pole-1</td>\n",
       "      <td>0.298155</td>\n",
       "      <td>2.812919e-02</td>\n",
       "      <td>0.085150</td>\n",
       "      <td>0.132251</td>\n",
       "    </tr>\n",
       "    <tr>\n",
       "      <th>1122</th>\n",
       "      <td>C01G6.3</td>\n",
       "      <td>0.347357</td>\n",
       "      <td>3.832722e-02</td>\n",
       "      <td>0.111883</td>\n",
       "      <td>0.244269</td>\n",
       "    </tr>\n",
       "    <tr>\n",
       "      <th>21525</th>\n",
       "      <td>T07F12.2</td>\n",
       "      <td>0.270436</td>\n",
       "      <td>4.122178e-02</td>\n",
       "      <td>0.132367</td>\n",
       "      <td>0.194992</td>\n",
       "    </tr>\n",
       "    <tr>\n",
       "      <th>29120</th>\n",
       "      <td>tag-276</td>\n",
       "      <td>0.780185</td>\n",
       "      <td>4.361299e-02</td>\n",
       "      <td>0.607717</td>\n",
       "      <td>0.189476</td>\n",
       "    </tr>\n",
       "    <tr>\n",
       "      <th>29404</th>\n",
       "      <td>rgs-8.2</td>\n",
       "      <td>0.338709</td>\n",
       "      <td>4.743846e-02</td>\n",
       "      <td>0.250979</td>\n",
       "      <td>0.161923</td>\n",
       "    </tr>\n",
       "    <tr>\n",
       "      <th>14170</th>\n",
       "      <td>rgs-8.1</td>\n",
       "      <td>0.338709</td>\n",
       "      <td>4.743846e-02</td>\n",
       "      <td>0.250979</td>\n",
       "      <td>0.161923</td>\n",
       "    </tr>\n",
       "  </tbody>\n",
       "</table>\n",
       "</div>"
      ],
      "text/plain": [
       "        ext_gene       b_d           q_d       b_b       b_e\n",
       "8285    F08G12.1 -2.989972  7.173739e-19 -0.395204 -0.271049\n",
       "11227    F31C3.4  0.556422  1.653782e-08 -0.039171  0.069805\n",
       "11226    F31C3.3  0.509236  5.936751e-07  0.108664  0.062222\n",
       "19090   R03A10.5 -1.249179  1.642922e-05  0.329048  0.320421\n",
       "7621      ttr-49 -0.800108  7.005020e-05 -0.224866 -0.397218\n",
       "1291      ugt-51 -1.858265  3.809678e-04 -0.849478 -0.429457\n",
       "22569   cyp-29A2 -0.728152  4.040750e-03 -0.417813 -0.210286\n",
       "11228      psf-2  0.592778  4.516616e-03  0.224087  0.094825\n",
       "11606    F33H2.6  0.390757  6.374993e-03 -0.127979 -0.199501\n",
       "31155     duxl-1  0.382592  6.407984e-03  0.136819  0.063909\n",
       "11229    F31C3.6  0.576217  7.482708e-03  0.005797  0.059090\n",
       "26250   Y32F6B.1 -0.893512  9.053793e-03 -0.572261 -0.127153\n",
       "24709        NaN -0.559237  1.187833e-02 -0.308376 -0.300212\n",
       "1132       cam-1  0.393836  1.444158e-02  0.201850  0.268705\n",
       "22841     srh-70 -1.745955  1.540191e-02 -1.199986 -0.467133\n",
       "32685    ZK829.9  0.281352  1.569373e-02  0.193529  0.160901\n",
       "23560     ceh-21  0.526728  1.690592e-02  0.332564  0.244614\n",
       "20956    T04D3.5  0.356091  1.813608e-02  0.230338  0.170139\n",
       "29503  Y61A9LA.1  0.366243  1.862544e-02  0.218938  0.063389\n",
       "10167   F22E5.17  0.329656  2.309082e-02  0.159483  0.171345\n",
       "11605     pole-1  0.298155  2.812919e-02  0.085150  0.132251\n",
       "1122     C01G6.3  0.347357  3.832722e-02  0.111883  0.244269\n",
       "21525   T07F12.2  0.270436  4.122178e-02  0.132367  0.194992\n",
       "29120    tag-276  0.780185  4.361299e-02  0.607717  0.189476\n",
       "29404    rgs-8.2  0.338709  4.743846e-02  0.250979  0.161923\n",
       "14170    rgs-8.1  0.338709  4.743846e-02  0.250979  0.161923"
      ]
     },
     "execution_count": 21,
     "metadata": {},
     "output_type": "execute_result"
    }
   ],
   "source": [
    "# should be statistically altered in vhl-1 mutants:\n",
    "ind =  (df1.q_a < 0.1) & (df1.q_d < 0.1)\n",
    "# should NOT b altered in egl-9, hif-1 or rhy-1 KO\n",
    "ind2 = ((df1.q_e > 0.1) & (df1.q_b > 0.1) &\n",
    "        (df1.q_c > 0.1) & (df1.qval > 0.1))\n",
    "\n",
    "vhl_targets = df1[ind & ind2]\n",
    "print(vhl_targets.shape[0])\n",
    "vhl_targets[['ext_gene', 'b_d', 'q_d', 'b_b', 'b_e']].sort_values('q_d').head(26)"
   ]
  },
  {
   "cell_type": "code",
   "execution_count": 23,
   "metadata": {
    "collapsed": false
   },
   "outputs": [
    {
     "name": "stdout",
     "output_type": "stream",
     "text": [
      "Executing script\n",
      "\n",
      "Analysis returned no enriched tissues.\n",
      "Executing script\n",
      "\n",
      "Analysis returned no enriched tissues.\n"
     ]
    }
   ],
   "source": [
    "ids = vhl_targets.ens_gene.unique()\n",
    "_ = tea.enrichment_analysis(ids, tissue_df, show=True)\n",
    "_ = tea.enrichment_analysis(ids, phenotype_df, show=True)\n",
    "_ = tea.enrichment_analysis(ids, go_df, show=False)"
   ]
  },
  {
   "cell_type": "markdown",
   "metadata": {},
   "source": [
    "# Core Hypoxia Response"
   ]
  },
  {
   "cell_type": "code",
   "execution_count": 54,
   "metadata": {
    "collapsed": false
   },
   "outputs": [
    {
     "data": {
      "text/plain": [
       "(55, 32)"
      ]
     },
     "execution_count": 54,
     "metadata": {},
     "output_type": "execute_result"
    }
   ],
   "source": [
    "# select all the genes that are stat. sig. with the exception\n",
    "# of the egl-9;hif-1 suppressor\n",
    "ind = ((df1.q_c < 0.1) & (df1.q_e < 0.1) &\n",
    "      (df1.q_b < 0.1) & (df1.q_a < 0.1) &\n",
    "       (df1.q_d < 0.1))\n",
    "y = df1[ind].copy()\n",
    "y.shape"
   ]
  },
  {
   "cell_type": "code",
   "execution_count": 48,
   "metadata": {
    "collapsed": false
   },
   "outputs": [
    {
     "name": "stdout",
     "output_type": "stream",
     "text": [
      "Number of genes that go down: 13\n"
     ]
    }
   ],
   "source": [
    "y_bs = df1[ind][['ens_gene', 'b_e', 'b_b', 'b_d', 'b_c', 'b', 'b_a']]\n",
    "all_down = y_bs[y_bs<0].dropna().index\n",
    "s = 'Number of genes that go down: {0}'\n",
    "message = s.format(len(all_down))\n",
    "print(message)"
   ]
  },
  {
   "cell_type": "code",
   "execution_count": 50,
   "metadata": {
    "collapsed": false
   },
   "outputs": [],
   "source": [
    "cols = ['ext_gene', 'ens_gene', \n",
    "        'b_e', 'b_b', 'b_d', 'b_c', 'b_a',\n",
    "        'q_e', 'q_b', 'q_d', 'q_c', 'q_a']\n",
    "sel = df1.ens_gene.isin(y_bs[y_bs<0].dropna().ens_gene)\n",
    "all_down = df1[(sel)][cols].sort_values('q_a')"
   ]
  },
  {
   "cell_type": "code",
   "execution_count": 53,
   "metadata": {
    "collapsed": false
   },
   "outputs": [
    {
     "name": "stdout",
     "output_type": "stream",
     "text": [
      "Number of genes that go up: 23\n"
     ]
    }
   ],
   "source": [
    "all_up = y_bs[y_bs>0].dropna().index\n",
    "s = 'Number of genes that go up: {0}'\n",
    "message = s.format(len(all_up))\n",
    "print(message)\n",
    "\n",
    "cols = ['ext_gene', 'ens_gene', \n",
    "        'b_e', 'b_b', 'b_d', 'b_c', 'b_a',\n",
    "        'q_e', 'q_b', 'q_d', 'q_c', 'q_a']\n",
    "all_up = df1[df1.index.isin(all_up)][cols].sort_values('q_a')"
   ]
  },
  {
   "cell_type": "code",
   "execution_count": 55,
   "metadata": {
    "collapsed": false
   },
   "outputs": [
    {
     "name": "stdout",
     "output_type": "stream",
     "text": [
      "Executing script\n",
      "\n",
      "Analysis returned no enriched tissues.\n",
      "Executing script\n",
      "\n",
      "Analysis returned no enriched tissues.\n"
     ]
    }
   ],
   "source": [
    "ids = all_up.ens_gene\n",
    "_ = tea.enrichment_analysis(ids, tissue_df, show=True)\n",
    "_ = tea.enrichment_analysis(ids, phenotype_df, show=True)\n",
    "_ = tea.enrichment_analysis(ids, go_df, show=False)"
   ]
  }
 ],
 "metadata": {
  "kernelspec": {
   "display_name": "Python [default]",
   "language": "python",
   "name": "python3"
  },
  "language_info": {
   "codemirror_mode": {
    "name": "ipython",
    "version": 3
   },
   "file_extension": ".py",
   "mimetype": "text/x-python",
   "name": "python",
   "nbconvert_exporter": "python",
   "pygments_lexer": "ipython3",
   "version": "3.5.2"
  },
  "nav_menu": {},
  "toc": {
   "navigate_menu": true,
   "number_sections": true,
   "sideBar": true,
   "threshold": 6,
   "toc_cell": true,
   "toc_section_display": "block",
   "toc_window_display": true
  }
 },
 "nbformat": 4,
 "nbformat_minor": 2
}
