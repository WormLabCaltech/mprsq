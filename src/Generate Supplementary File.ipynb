{
 "cells": [
  {
   "cell_type": "markdown",
   "metadata": {
    "toc": "true"
   },
   "source": [
    "# Table of Contents\n",
    " <p>"
   ]
  },
  {
   "cell_type": "code",
   "execution_count": 1,
   "metadata": {
    "collapsed": true
   },
   "outputs": [],
   "source": [
    "import pandas as pd"
   ]
  },
  {
   "cell_type": "code",
   "execution_count": 2,
   "metadata": {
    "collapsed": true
   },
   "outputs": [],
   "source": [
    "quants = pd.read_csv('../output/temp_files/DE_genes.csv')\n",
    "hypoxia = pd.read_csv('../output/temp_files/hypoxia_response.csv')\n",
    "hifoh = pd.read_csv('../output/temp_files/hifoh_candidates.csv')\n",
    "vhl = pd.read_csv('../output/temp_files/vhl_1_regulated_genes.csv')"
   ]
  },
  {
   "cell_type": "code",
   "execution_count": 3,
   "metadata": {
    "collapsed": true
   },
   "outputs": [],
   "source": [
    "hypoxia = hypoxia.target_id.unique()\n",
    "hifoh = hifoh.target_id.unique()\n",
    "vhl = vhl.target_id.unique()"
   ]
  },
  {
   "cell_type": "code",
   "execution_count": 4,
   "metadata": {
    "collapsed": true
   },
   "outputs": [],
   "source": [
    "pathway = {}\n",
    "for gid in hypoxia:\n",
    "    pathway[gid] = 'hypoxia'\n",
    "for gid in vhl:\n",
    "    pathway[gid] = 'vhl'\n",
    "\n",
    "hOH = {}\n",
    "for gid in hifoh:\n",
    "    hOH[gid] = 'non-canonical'"
   ]
  },
  {
   "cell_type": "code",
   "execution_count": 5,
   "metadata": {
    "collapsed": true
   },
   "outputs": [],
   "source": [
    "quants['pathway'] = quants.target_id.map(pathway)"
   ]
  },
  {
   "cell_type": "code",
   "execution_count": 6,
   "metadata": {
    "collapsed": true
   },
   "outputs": [],
   "source": [
    "quants['non_canonical_epistasis'] = quants.target_id.map(hOH)"
   ]
  },
  {
   "cell_type": "code",
   "execution_count": 7,
   "metadata": {},
   "outputs": [
    {
     "data": {
      "text/html": [
       "<div>\n",
       "<table border=\"1\" class=\"dataframe\">\n",
       "  <thead>\n",
       "    <tr style=\"text-align: right;\">\n",
       "      <th></th>\n",
       "      <th>ens_gene</th>\n",
       "      <th>ext_gene</th>\n",
       "      <th>target_id</th>\n",
       "      <th>b</th>\n",
       "      <th>se_b</th>\n",
       "      <th>qval</th>\n",
       "      <th>genotype</th>\n",
       "      <th>sorter</th>\n",
       "      <th>code</th>\n",
       "      <th>pathway</th>\n",
       "      <th>non_canonical_epistasis</th>\n",
       "    </tr>\n",
       "  </thead>\n",
       "  <tbody>\n",
       "    <tr>\n",
       "      <th>0</th>\n",
       "      <td>WBGene00007064</td>\n",
       "      <td>2RSSE.1</td>\n",
       "      <td>2RSSE.1a</td>\n",
       "      <td>0.150147</td>\n",
       "      <td>0.829418</td>\n",
       "      <td>1.000000</td>\n",
       "      <td>fog-2</td>\n",
       "      <td>5</td>\n",
       "      <td>g</td>\n",
       "      <td>NaN</td>\n",
       "      <td>NaN</td>\n",
       "    </tr>\n",
       "    <tr>\n",
       "      <th>1</th>\n",
       "      <td>WBGene00007065</td>\n",
       "      <td>pot-3</td>\n",
       "      <td>3R5.1a</td>\n",
       "      <td>0.063856</td>\n",
       "      <td>1.909284</td>\n",
       "      <td>1.000000</td>\n",
       "      <td>fog-2</td>\n",
       "      <td>5</td>\n",
       "      <td>g</td>\n",
       "      <td>NaN</td>\n",
       "      <td>NaN</td>\n",
       "    </tr>\n",
       "    <tr>\n",
       "      <th>2</th>\n",
       "      <td>WBGene00007065</td>\n",
       "      <td>pot-3</td>\n",
       "      <td>3R5.1b</td>\n",
       "      <td>0.274498</td>\n",
       "      <td>1.268484</td>\n",
       "      <td>1.000000</td>\n",
       "      <td>fog-2</td>\n",
       "      <td>5</td>\n",
       "      <td>g</td>\n",
       "      <td>NaN</td>\n",
       "      <td>NaN</td>\n",
       "    </tr>\n",
       "    <tr>\n",
       "      <th>3</th>\n",
       "      <td>WBGene00004964</td>\n",
       "      <td>spe-10</td>\n",
       "      <td>AC3.10</td>\n",
       "      <td>0.197351</td>\n",
       "      <td>0.453000</td>\n",
       "      <td>0.998032</td>\n",
       "      <td>fog-2</td>\n",
       "      <td>5</td>\n",
       "      <td>g</td>\n",
       "      <td>NaN</td>\n",
       "      <td>NaN</td>\n",
       "    </tr>\n",
       "    <tr>\n",
       "      <th>4</th>\n",
       "      <td>WBGene00007070</td>\n",
       "      <td>ugt-49</td>\n",
       "      <td>AC3.2</td>\n",
       "      <td>-0.340556</td>\n",
       "      <td>0.140666</td>\n",
       "      <td>0.100833</td>\n",
       "      <td>fog-2</td>\n",
       "      <td>5</td>\n",
       "      <td>g</td>\n",
       "      <td>NaN</td>\n",
       "      <td>NaN</td>\n",
       "    </tr>\n",
       "  </tbody>\n",
       "</table>\n",
       "</div>"
      ],
      "text/plain": [
       "         ens_gene ext_gene target_id         b      se_b      qval genotype  \\\n",
       "0  WBGene00007064  2RSSE.1  2RSSE.1a  0.150147  0.829418  1.000000    fog-2   \n",
       "1  WBGene00007065    pot-3    3R5.1a  0.063856  1.909284  1.000000    fog-2   \n",
       "2  WBGene00007065    pot-3    3R5.1b  0.274498  1.268484  1.000000    fog-2   \n",
       "3  WBGene00004964   spe-10    AC3.10  0.197351  0.453000  0.998032    fog-2   \n",
       "4  WBGene00007070   ugt-49     AC3.2 -0.340556  0.140666  0.100833    fog-2   \n",
       "\n",
       "   sorter code pathway non_canonical_epistasis  \n",
       "0       5    g     NaN                     NaN  \n",
       "1       5    g     NaN                     NaN  \n",
       "2       5    g     NaN                     NaN  \n",
       "3       5    g     NaN                     NaN  \n",
       "4       5    g     NaN                     NaN  "
      ]
     },
     "execution_count": 7,
     "metadata": {},
     "output_type": "execute_result"
    }
   ],
   "source": [
    "quants.head()"
   ]
  },
  {
   "cell_type": "code",
   "execution_count": 8,
   "metadata": {
    "collapsed": true
   },
   "outputs": [],
   "source": [
    "quants = quants[['ens_gene', 'ext_gene', 'target_id', 'b', 'se_b', 'qval', 'genotype', 'pathway', 'non_canonical_epistasis']]\n",
    "quants = quants[quants.genotype != 'fog-2']\n",
    "quants.to_csv('../output/supplementary_tables/supplementary_file_1.csv', index=False)"
   ]
  }
 ],
 "metadata": {
  "kernelspec": {
   "display_name": "Python [default]",
   "language": "python",
   "name": "python3"
  },
  "language_info": {
   "codemirror_mode": {
    "name": "ipython",
    "version": 3
   },
   "file_extension": ".py",
   "mimetype": "text/x-python",
   "name": "python",
   "nbconvert_exporter": "python",
   "pygments_lexer": "ipython3",
   "version": "3.5.3"
  },
  "nav_menu": {},
  "toc": {
   "navigate_menu": true,
   "number_sections": true,
   "sideBar": true,
   "threshold": 6,
   "toc_cell": true,
   "toc_section_display": "block",
   "toc_window_display": true
  }
 },
 "nbformat": 4,
 "nbformat_minor": 2
}
