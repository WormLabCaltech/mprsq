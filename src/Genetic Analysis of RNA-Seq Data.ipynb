{
 "cells": [
  {
   "cell_type": "code",
   "execution_count": 1,
   "metadata": {
    "collapsed": false
   },
   "outputs": [],
   "source": [
    "import pandas as pd\n",
    "import numpy as np\n",
    "import sklearn.decomposition\n",
    "from scipy import stats\n",
    "import os\n",
    "import matplotlib.pyplot as plt\n",
    "import seaborn as sns\n",
    "from sklearn.cluster import AgglomerativeClustering\n",
    "from scipy.cluster.hierarchy import dendrogram, linkage\n",
    "import emcee\n",
    "import tissue_enrichment_analysis as tea\n",
    "\n",
    "# Magic function to make matplotlib inline; other style specs must come AFTER\n",
    "%matplotlib inline\n",
    "\n",
    "# This enables SVG graphics inline.  There is a bug, so uncomment if it works.\n",
    "%config InlineBackend.figure_formats = {'png', 'retina'}\n",
    "\n",
    "# JB's favorite Seaborn settings for notebooks\n",
    "rc = {'lines.linewidth': 2, \n",
    "      'axes.labelsize': 18, \n",
    "      'axes.titlesize': 18, \n",
    "      'axes.facecolor': 'DFDFE5'}\n",
    "sns.set_context('notebook', rc=rc)\n",
    "sns.set_style('darkgrid', rc=rc)\n",
    "\n",
    "import genpy"
   ]
  },
  {
   "cell_type": "markdown",
   "metadata": {},
   "source": [
    "# Mutants:\n",
    "\n",
    "I have been given 4 single mutants and 2 double mutants. This is a blind study, so I don't know the identities of the mutants. \n",
    "\n",
    "Single mutants:\n",
    "\n",
    "b, c, d, e\n",
    "\n",
    "Double mutants:\n",
    "$$\n",
    "a = b^-d^-\n",
    "$$\n",
    "\n",
    "$$\n",
    "f = b^-c^-\n",
    "$$"
   ]
  },
  {
   "cell_type": "code",
   "execution_count": 4,
   "metadata": {
    "collapsed": false
   },
   "outputs": [],
   "source": [
    "# Specify the genotypes\n",
    "single_mutants = ['b', 'c', 'd', 'e', 'g']\n",
    "double_mutants = {'a' : 'bd', 'f':'bc'}"
   ]
  },
  {
   "cell_type": "code",
   "execution_count": 5,
   "metadata": {
    "collapsed": true
   },
   "outputs": [],
   "source": [
    "# This file tells me the genotype - project mapping. \n",
    "genmap = pd.read_csv('../input/library_genotype_mapping.txt', comment='#')\n",
    "genmap.genotype = genmap.genotype.apply(str)\n",
    "genmap.genotype = genmap.genotype.apply(str.lower) # make sure everything is always in lowercase"
   ]
  },
  {
   "cell_type": "code",
   "execution_count": 6,
   "metadata": {
    "collapsed": true
   },
   "outputs": [],
   "source": [
    "# Make all possible combinations of WT, X\n",
    "combs = []\n",
    "for gene in genmap.genotype.unique():\n",
    "    if gene != 'wt':\n",
    "        combs += [['WT', gene]]"
   ]
  },
  {
   "cell_type": "code",
   "execution_count": 7,
   "metadata": {
    "collapsed": false
   },
   "outputs": [],
   "source": [
    "# get all pandas tpm dataframes for each project\n",
    "# tpm files are in kallisto_loc\n",
    "kallisto_loc = '../input/kallisto_all/'\n",
    "\n",
    "tpm = {}  # initialize an empty hash\n",
    "\n",
    "# get tpm for each project\n",
    "for prjct in genmap.project_name.unique():\n",
    "    tpm[prjct] = pd.read_csv(kallisto_loc + prjct +'/kallisto/abundance.tsv', sep='\\t')\n",
    "    tpm[prjct].sort_values('target_id', inplace=True)"
   ]
  },
  {
   "cell_type": "code",
   "execution_count": 8,
   "metadata": {
    "collapsed": false
   },
   "outputs": [],
   "source": [
    "# load all the beta values for each genotype:\n",
    "sleuth_loc = '../sleuth/'\n",
    "\n",
    "beta = {}  # empty hash\n",
    "\n",
    "# get betas for each genotype comparison:\n",
    "for comb in combs:\n",
    "    c = comb[0] + '_' + comb[1]\n",
    "    beta[comb[1]] = pd.read_csv(sleuth_loc + c + '/betas.csv')\n",
    "    \n",
    "    # beta dataframes from sleuth MUST BE SORTED By ID!!!!\n",
    "    # if you don't do this, nothing works!\n",
    "    beta[comb[1]].sort_values('target_id', inplace=True)"
   ]
  },
  {
   "cell_type": "markdown",
   "metadata": {},
   "source": [
    "# PCA Analysis of TPM Data\n",
    "\n",
    "PCA analysis of TPM data should hopefully reveal some structure and clustering in this dataset. \n",
    "\n",
    "First, I want to know how many PCs explain >90% of the data, then build a PCA object with that\n",
    "many dimensions which I will use for agglomerative clustering. "
   ]
  },
  {
   "cell_type": "code",
   "execution_count": 9,
   "metadata": {
    "collapsed": false
   },
   "outputs": [
    {
     "name": "stdout",
     "output_type": "stream",
     "text": [
      "The first 1 principal components explain >=90% of the data\n"
     ]
    }
   ],
   "source": [
    "# PCA\n",
    "pca_matrix = genpy.make_matrix(tpm, genmap, 'project_name', 'tpm')\n",
    "sklearn_pca, n = genpy.pca(pca_matrix)"
   ]
  },
  {
   "cell_type": "code",
   "execution_count": 16,
   "metadata": {
    "collapsed": false
   },
   "outputs": [
    {
     "data": {
      "text/html": [
       "<div>\n",
       "<table border=\"1\" class=\"dataframe\">\n",
       "  <thead>\n",
       "    <tr style=\"text-align: right;\">\n",
       "      <th></th>\n",
       "      <th>PCA1</th>\n",
       "      <th>PCA2</th>\n",
       "      <th>PCA3</th>\n",
       "      <th>samples</th>\n",
       "      <th>genotypes</th>\n",
       "    </tr>\n",
       "  </thead>\n",
       "  <tbody>\n",
       "    <tr>\n",
       "      <th>0</th>\n",
       "      <td>-8406.384126</td>\n",
       "      <td>7599.840926</td>\n",
       "      <td>1143.211722</td>\n",
       "      <td>Project_17434_indexN704-N517</td>\n",
       "      <td>wt</td>\n",
       "    </tr>\n",
       "    <tr>\n",
       "      <th>1</th>\n",
       "      <td>-10799.688643</td>\n",
       "      <td>-11435.291195</td>\n",
       "      <td>3344.421526</td>\n",
       "      <td>Project_17441_indexN704-N508</td>\n",
       "      <td>a</td>\n",
       "    </tr>\n",
       "    <tr>\n",
       "      <th>2</th>\n",
       "      <td>-10810.081047</td>\n",
       "      <td>3454.831242</td>\n",
       "      <td>-5027.482782</td>\n",
       "      <td>Project_17448_indexN705-N507</td>\n",
       "      <td>d</td>\n",
       "    </tr>\n",
       "    <tr>\n",
       "      <th>3</th>\n",
       "      <td>-7636.304361</td>\n",
       "      <td>7614.214112</td>\n",
       "      <td>-1328.764756</td>\n",
       "      <td>Project_17435_indexN704-N502</td>\n",
       "      <td>wt</td>\n",
       "    </tr>\n",
       "    <tr>\n",
       "      <th>4</th>\n",
       "      <td>-8807.618266</td>\n",
       "      <td>-10056.723608</td>\n",
       "      <td>2863.164262</td>\n",
       "      <td>Project_17442_indexN705-N517</td>\n",
       "      <td>a</td>\n",
       "    </tr>\n",
       "  </tbody>\n",
       "</table>\n",
       "</div>"
      ],
      "text/plain": [
       "           PCA1          PCA2         PCA3                       samples  \\\n",
       "0  -8406.384126   7599.840926  1143.211722  Project_17434_indexN704-N517   \n",
       "1 -10799.688643 -11435.291195  3344.421526  Project_17441_indexN704-N508   \n",
       "2 -10810.081047   3454.831242 -5027.482782  Project_17448_indexN705-N507   \n",
       "3  -7636.304361   7614.214112 -1328.764756  Project_17435_indexN704-N502   \n",
       "4  -8807.618266 -10056.723608  2863.164262  Project_17442_indexN705-N517   \n",
       "\n",
       "  genotypes  \n",
       "0        wt  \n",
       "1         a  \n",
       "2         d  \n",
       "3        wt  \n",
       "4         a  "
      ]
     },
     "execution_count": 16,
     "metadata": {},
     "output_type": "execute_result"
    }
   ],
   "source": [
    "# keep only the first principal components that explain 90% of the data\n",
    "if n < 3:\n",
    "    n = 3\n",
    "\n",
    "df_nD = genpy.tidy_pca(pca_matrix, n)\n",
    "\n",
    "# add a sample and genotype column\n",
    "df_nD['samples'] = genmap.project_name.unique()\n",
    "l = lambda x: genmap[genmap.project_name == x].genotype.values[0]\n",
    "df_nD['genotypes'] = df_nD.samples.apply(l)\n",
    "df_nD.head()"
   ]
  },
  {
   "cell_type": "code",
   "execution_count": 17,
   "metadata": {
    "collapsed": false,
    "scrolled": true
   },
   "outputs": [
    {
     "data": {
      "text/plain": [
       "<matplotlib.text.Text at 0x11fb54eb8>"
      ]
     },
     "execution_count": 17,
     "metadata": {},
     "output_type": "execute_result"
    },
    {
     "data": {
      "image/png": "[encoded data removed]",
      "text/plain": [
       "<matplotlib.figure.Figure at 0x11fac7860>"
      ]
     },
     "metadata": {
      "image/png": {
       "height": 377,
       "width": 576
      }
     },
     "output_type": "display_data"
    }
   ],
   "source": [
    "def plot_2d_pca(df_pca, group_col, special_key, save=''):\n",
    "    \"\"\"\n",
    "    Very basic wrapper around plt.plot to plot pca results after using tidy_pca.\n",
    "    \n",
    "    df_pca - df output by tidy_pca\n",
    "    group_col - column in df_pca to group by\n",
    "    special_key - if there's a particular group to color in black, use special_key\n",
    "                  to identify it\n",
    "    \n",
    "    returns:\n",
    "    a matplotlib object\n",
    "    \"\"\"\n",
    "    # plot first 2d components! \n",
    "    for key, group in df_nD.groupby(group_col):\n",
    "        if key == special_key:\n",
    "            plt.plot(group.PCA2, group.PCA3, 'ko', alpha=0.9, label=key, ms=13)\n",
    "        else:\n",
    "            plt.plot(group.PCA2, group.PCA3, 'o', alpha=.9, label=key, ms=13)\n",
    "\n",
    "    # Tidy up plot\n",
    "    plt.legend(bbox_to_anchor=(1.15, 1), fontsize=15)\n",
    "    plt.margins(0.05)\n",
    "    plt.xlabel('PCA 1')\n",
    "    plt.ylabel('PCA 2')\n",
    "    \n",
    "    if save:\n",
    "        plt.savefig(save)\n",
    "    \n",
    "    \n",
    "plot_2d_pca(df_nD, 'genotypes', 'wt', save='../output/preliminary_pca.pdf')\n",
    "plt.title('Principal Component Analysis of Mutants Using TPM')"
   ]
  },
  {
   "cell_type": "markdown",
   "metadata": {},
   "source": [
    "Clearly, we can see a few things:\n",
    "\n",
    "b, e and d all cluster far away from the WT, primarily along PCA1. \n",
    "\n",
    "The double mutant f has a mean PCA location very close to b. \n",
    "\n",
    "Mathematically:\n",
    "$$\n",
    "b^-d^- \\sim b^-\n",
    "$$\n",
    "\n",
    "The mutant c has a centroid relatively close to the WT. \n",
    "\n",
    "The double mutant f is almost identical to the WT:\n",
    "$$\n",
    "b^-c^- \\sim WT\n",
    "$$\n",
    "\n",
    "However, we are only looking at the first 2 dimensions of the PCA, and we know that 90% of the variance is contained in the first 4. So we can perform agglomerative clustering to make sure these observations are correct. "
   ]
  },
  {
   "cell_type": "code",
   "execution_count": null,
   "metadata": {
    "collapsed": false,
    "scrolled": false
   },
   "outputs": [],
   "source": [
    "model = linkage(sklearn_pca.transform(pca_matrix), 'ward')\n",
    "\n",
    "plt.figure(figsize=(25, 10))\n",
    "dendrogram(\n",
    "    model,\n",
    "    truncate_mode='level',  # show only the last p merged clusters\n",
    "    labels=df_nD.genotypes.values,\n",
    "    p=21,  # show only the last p merged clusters\n",
    "    show_leaf_counts=False,  # otherwise numbers in brackets are counts\n",
    "    leaf_rotation=90.,\n",
    "    leaf_font_size=12.,\n",
    "    show_contracted=True,  # to get a distribution impression in truncated branches\n",
    ")\n",
    "plt.xticks(fontsize=30)\n",
    "plt.gca().yaxis.set_major_locator(plt.NullLocator())\n",
    "# plt.yticks(fontsize=30)\n",
    "plt.title('Hierarchical Clustering Dendrogram', fontsize=40)\n",
    "plt.xlabel('sample index', fontsize=40)\n",
    "# plt.ylabel('distance', fontsize=40)"
   ]
  },
  {
   "cell_type": "markdown",
   "metadata": {},
   "source": [
    "In fact, it does appear that \n",
    "$$\n",
    "f \\sim WT\n",
    "$$\n",
    "\n",
    "$$\n",
    "a \\sim b\n",
    "$$\n",
    "\n",
    "$$\n",
    "|c - WT| = min~|g - WT|~ \\mathrm{for }~~ g~\\in~[b, c, d, e]\n",
    "$$\n",
    "\n",
    "Where this last expression means: C is closest to the WT out of [b, c, d, e]"
   ]
  },
  {
   "cell_type": "markdown",
   "metadata": {},
   "source": [
    "# PCA Based On Stat. Sig. Gene Changes Is Not Helpful\n",
    "\n",
    "Before we did PCA based on total TPM counts for every gene. In this next section, we will see that clustering genotypes by statistically significant gene changes is not helpful.\n",
    "\n",
    "The reason is simple. PCA is a variance maximization tool. Feeding in the calculated log linear regression slopes from sleuth (trimmed so that all the NAs are gone) is (anthropomorphizing) like telling the computer what genes to use to identify each genotype. Feeding in the information about what genes really change will make it easier to find just a very few dimensions that allow us to separate the points easily. So, what we will see is that in general feeding in the log linear regressions will  \n",
    "* Allow us to find PCA components that better separate each genotype\n",
    "* Allow us to find less PCA components that cumulatively explain the variance in the data\n",
    "* As a result of this, more subtle effects can be observed, but tight relationships between genotypes become less obvious (subtle differences play a larger role)"
   ]
  },
  {
   "cell_type": "markdown",
   "metadata": {},
   "source": [
    "At any rate, it's a good idea to filter the data by TPM, 'fold change' and qvalues, so we will go ahead and do this now. "
   ]
  },
  {
   "cell_type": "code",
   "execution_count": 18,
   "metadata": {
    "collapsed": false,
    "scrolled": false
   },
   "outputs": [
    {
     "data": {
      "text/plain": [
       "19028"
      ]
     },
     "execution_count": 18,
     "metadata": {},
     "output_type": "execute_result"
    }
   ],
   "source": [
    "# Figure out what genes are in 10% or above expression in TPM for all samples. Delete anything below that...\n",
    "names = ['']\n",
    "for key, name in enumerate(tpm):\n",
    "    # drop anything in the bottom 10%\n",
    "    min_tpm= (tpm[name].tpm < tpm[name].tpm.quantile(.1)) \n",
    "    # drop anything that has 0 tpm\n",
    "    zero = (tpm[name].tpm == 0)\n",
    "    # find those ids:\n",
    "    series = tpm[name][min_tpm | zero].target_id\n",
    "    names = names + pd.Series.tolist(series)\n",
    "\n",
    "#find the set of names (no repetitions) that don't pass the filter\n",
    "names = list(set(names))\n",
    "names = names[1:]\n",
    "len(names)\n"
   ]
  },
  {
   "cell_type": "code",
   "execution_count": 19,
   "metadata": {
    "collapsed": false
   },
   "outputs": [
    {
     "name": "stdout",
     "output_type": "stream",
     "text": [
      "Number of na genes: 1000\n"
     ]
    }
   ],
   "source": [
    "na = []\n",
    "for key, genotype in enumerate(beta):\n",
    "    \n",
    "    # replace beta dfs with filtered values also\n",
    "    beta[genotype] = beta[genotype][~beta[genotype].target_id.isin(names)]\n",
    "    \n",
    "    # b value filtering:\n",
    "    not_dropped = beta[genotype].dropna(axis=0, subset=['b','qval']).target_id.values\n",
    "    na_here = beta[genotype][~beta[genotype].target_id.isin(not_dropped)].target_id.values\n",
    "    \n",
    "#     q value filtering:\n",
    "#     not_dropped = beta[genotype].dropna(axis=0, subset)\n",
    "    \n",
    "    na = na + pd.Series.tolist(na_here)\n",
    "\n",
    "na = list(set(na))\n",
    "print('Number of na genes: {0}'.format(len(na)))\n",
    "\n",
    "# filter everything that has beta == nan\n",
    "beta_filtered = {}\n",
    "tpm_filtered = {}\n",
    "for key, name in enumerate(tpm):\n",
    "    # replace tpm dfs with the filtered values:\n",
    "    filter1 = (~tpm[name].target_id.isin(names))\n",
    "    temp =  tpm[name][filter1]\n",
    "    filter2 = (~temp.target_id.isin(na))\n",
    "    temp2 = temp[filter2]\n",
    "    tpm_filtered[name] = temp2.copy()\n",
    "\n",
    "for key, genotype in enumerate(beta):\n",
    "    # replace beta dfs with filtered values also\n",
    "    filter1 = (~beta[genotype].target_id.isin(names))\n",
    "    temp =  beta[genotype][filter1]\n",
    "    filter2 = (~temp.target_id.isin(na))\n",
    "    temp2 = temp[filter2]\n",
    "    beta_filtered[genotype] =temp2.copy()\n"
   ]
  },
  {
   "cell_type": "markdown",
   "metadata": {},
   "source": [
    "# PCA with qvalues or 'fold changes':"
   ]
  },
  {
   "cell_type": "code",
   "execution_count": 20,
   "metadata": {
    "collapsed": false
   },
   "outputs": [
    {
     "name": "stdout",
     "output_type": "stream",
     "text": [
      "The first 3 principal components explain >=90% of the data\n"
     ]
    },
    {
     "data": {
      "image/png": "[encoded data removed]",
      "text/plain": [
       "<matplotlib.figure.Figure at 0x11e9febe0>"
      ]
     },
     "metadata": {
      "image/png": {
       "height": 359,
       "width": 565
      }
     },
     "output_type": "display_data"
    }
   ],
   "source": [
    "# PCA\n",
    "pca_matrix = genpy.make_matrix(beta_filtered, genmap[genmap.genotype != 'wt'], 'genotype', 'qval')\n",
    "sklearn_pca, n = genpy.pca(pca_matrix)\n",
    "# # keep only the first principal components that explain 90% of the data\n",
    "df_nD = genpy.tidy_pca(pca_matrix, n)\n",
    "\n",
    "# # add a sample and genotype column\n",
    "df_nD['genotypes'] = genmap[genmap.genotype != 'wt'].genotype.unique()\n",
    "plot_2d_pca(df_nD, 'genotypes', 'wt', save='../output/preliminary_pca.pdf')"
   ]
  },
  {
   "cell_type": "code",
   "execution_count": 21,
   "metadata": {
    "collapsed": true
   },
   "outputs": [],
   "source": [
    "# lambda index function:\n",
    "lind = lambda x: (x.qval < 0.1)"
   ]
  },
  {
   "cell_type": "markdown",
   "metadata": {},
   "source": [
    "# Nomenclature\n",
    "\n",
    "**-->**    Activating Interaction, A --> B = A activates B  \n",
    "**<-->**   Activating Interaction with Direction Unknown, A --> B or B --> A equally valid  \n",
    "**--|**    Inhibiting Interaction, A --| B = A inhibits B  \n",
    "\n",
    "**--:**    Interaction with Unknown sign, A --: B = A activates or inhibits B  \n",
    "**:--:**   Interaction with Unknown Sign and Direction  \n",
    "\n",
    "**--:, --:^**    Interaction with Unknown Sign, Interaction with Unknown and Opposite Sign. I.e. A --: B --:^ C = A interacts with B, B interacts with C in the opposite way as A with B; if A --> B, then B --| C  \n",
    "\n",
    "**--:, --::**    Interaction with Unknown Sign, Interaction with Unknown and Same Sign. I.e. A --: B --:: C = A interacts with B, B interacts with C in the same way as A with B; if A --> B, then B --> C  \n",
    "\n",
    "\n",
    "# Single Mutant Analysis\n",
    "\n",
    "There seem to be two obvious ways of analyzing this kind of data. By far the simplest method is using Spearman R analysis. \n",
    "\n",
    "## Correlational Transcriptome Analysis\n",
    "\n",
    "Probably the easiest way (and undoubtedly incredibly powerful) way to get an answer about genetic interactions is to run a total correlation analysis for each pairwise combination of single mutants. The way in which I choose to do this is the following:\n",
    "\n",
    "For two transcriptomes $X$ and $Y$:\n",
    "* Find $X_{\\mathrm{sig}} \\cap Y_{\\mathrm{sig}}$, the overlap in statistically significant genes between X and Y\n",
    "* Calculate the spearman r correlation coefficient. We use spearman because it is NOT sensitive to outliers. Pearson's R is incredibly sensitive to outliers, and using it could lead to very strong answers based on a very small number of genes. Not so with Spearman's r, which only uses rank information.\n",
    "\n",
    "After calculating the correlation coefficient, conclude that two genes are activating if:\n",
    "* $\\rho \\ge 0.9$ \n",
    "* $p \\le \\alpha$, where $\\alpha$ is some significance threshold\n",
    "\n",
    "Now this is all well and good, but you may be concerned. Why do we use the overlapped gene sets, not the total genes? Part of the answer is that the total gene set is hiding a lot more interactions than the overlap. These interactions are biologically interesting, but they are not useful for answering the question, is the interaction between $X$ and $Y$ activating, deactivating or does not exist? \n",
    "\n",
    "Clearly, if the overlap does not exist, then $X$ and $Y$ do not interact. The size of the overlap should be tested explicitly, but bear in mind that it is also *somewhat* built into the $p$-value. \n",
    "\n",
    "What is the meaning of a correlation $\\rho$?\n",
    "\n",
    "Take two genes, $A$ and $B$, and measure their correlation, $\\rho_{A, B}$. If they are strongly positively correlated ($>0.75$), this correlation can be generated by the following valence interactions:\n",
    "\n",
    "**\n",
    "A --> B --> X --: {g}  \n",
    "B --> A --> X --: {g}  \n",
    "A --> B --| X --: {g}  \n",
    "B --> A --| X --: {g}  \n",
    "A --: X ::-- B, X --: {g}  \n",
    "**\n",
    "\n",
    "Let the above interactions all be represented by \n",
    "**\n",
    "A -gp- B**, where g: genetic, p: positive (correlation)\n",
    "\n",
    "If two pairs of genes ${A, B}, {A, C}$ are strongly correlated, and two genes ${B, C}$ are weakly correlated ($<0.3$), then two reasonable models are:  \n",
    "**\n",
    "A -gp- B, A -g- C -----> C -gp- A -gp- B \n",
    "**\n",
    "I.e., transitivity can generate weak relationships between genes. \n",
    "\n",
    "Alternatively:\n",
    "**\n",
    "A -gp- B, A -gp- C, B -gp- C\n",
    "**\n",
    "is another possibility, though here we would expect a stronger correlation between {B, C}. How much stronger is currently a subject of active research. \n",
    "\n",
    "\n",
    "Likewise, a strong negative correlation between two genes $A, B$ should result in the following valence interactions:\n",
    "**\n",
    "A --| B --> X --: {g}  \n",
    "B --| A --> X --: {g}  \n",
    "A --| B --| X --: {g}  \n",
    "B --| A --| X --: {g}  \n",
    "A --: X ^:-- B, X --: {g}  \n",
    "**\n",
    "Let the above interactions all be represented by  \n",
    "**\n",
    "A -gn- B**, where g: genetic, n: negative (correlation)\n",
    "\n",
    "\n",
    "\n",
    "## Bayesian Probability of Interaction\n",
    "\n",
    "An alternative approach to doing Correlational Transcriptome Analysis is to perform probabilistic tests of interactions. One approach is to ask for the value of:\n",
    "$$\n",
    "P(X -ga- Y ~|~ R_X,~ R_Y),\n",
    "$$\n",
    "\n",
    "the probability that X and Y interact positively (X --> Y and/or Y --> X) given the differentially expressed genes in $X$ and $Y$, $R_X,~R_Y$. Here, we consider that every gene in $R_X$ is a vector-like object. It has a name and a direction of change (positive or negative).\n",
    "\n",
    "To answer that, I first model the interaction:\n",
    "\n",
    "$$\n",
    "X -ga- Y --: {g}\n",
    "$$\n",
    "\n",
    "Knocking out $X$ should lead to the perturbation of the gene expression levels of ${g}$ (again, each individual $g$ within this set is a vector-like object with a name and a direction of change), and knocking out Y should lead to exactly the same perturbations of exactly the same gene set. \n",
    "\n",
    "To answer our original question, we must first identify the gene set ${g}$ in question. In order to do so, we must sacrifice one of our RNA-seq datasets to provide a reference set. In order to select a reference set, I propose the heuristic:\n",
    "\n",
    "$$\n",
    "{g} := max\\{|R_X|,~|R_Y|\\}\n",
    "$$\n",
    "\n",
    "I.e., we arbitrarily define the set ${g}$ as the largest set of genes that are differentially expressed between $X$ and $Y$. \n",
    "\n",
    "Having sacrificed this gene-set, it follows that it can no longer be evidence. Without loss of generality, suppose that $R_X$ is the larger set. Then:\n",
    "\n",
    "$$\n",
    "P(X-ga-Y ~|~ R_Y) \\propto P(R_Y~|X-ga-Y)P(X-ga-Y)\n",
    "$$\n",
    "\n",
    "Before we can solve this, we must ask what $P(X-ga-Y)$ is. Clearly, *a priori* the probability of the nature of the interaction can only depend on the number of interaction mechanisms there can be. Therefore, \n",
    "\n",
    "$$\n",
    "P(X-ga-Y) = \\mathrm{constant}\n",
    "$$\n",
    "\n",
    "and can be removed from the proportionality. Now, we have only to figure out $P(R_Y|X-ga-Y)$. Clearly, if $X$ actually activates $Y$, then it must be the case that:\n",
    "\n",
    "$$\n",
    "R_X = R_Y\n",
    "$$\n",
    "\n",
    "and \n",
    "\n",
    "$$\n",
    "P(R_Y|X-ga-Y) = 1.\n",
    "$$\n",
    "\n",
    "On the contrary, if $X$ and $Y$ do not interact, we would expect that there would be an expected average overlap in the gene expression profiles, dependent to the number of genes that were upregulated in $Y$. \n",
    "\n",
    "Given that $|R_X|$ genes change in condition $X$, we can divide our gene set into two urns. Differentially expressed genes ($\\mathcal{D}$, built from $R_X$) and non-differentially expressed genes ($\\mathcal{N}$, built from ${G} - R_X$ (here, {G} is the set of all genes names that exist in this organism and changes in all possible directions)). To build our set $R_Y$, we will select genes from both $\\mathcal{D}$ and $\\mathcal{N}$. A function that describes this urn scenario is the hypergeometric function. \n",
    "\n",
    "$$\n",
    "P(\\mathrm{overlap} = d) = \\frac{{\\mathcal{|D|}\\choose d}{\\mathcal{|N|}-\\mathcal{|D|}\\choose n-d}}{{\\mathcal{|N|}\\choose n}}\n",
    "$$\n",
    "\n",
    "Here, $d$ is the exact overlap (gene names AND direction) between $R_X$ and $R_Y$, $n$ is the total number of genes that are differentially expressed in $R_Y$, $\\mathcal{|D|}$ is the size of the differentially expressed reference urn, and $\\mathcal{|N|}$ is the size of the genes that are not in $\\mathcal{|D|}$.\n",
    "\n",
    "The reader may be interested in knowing that because of the assumptions made here and the proportionality, the probability of the following models is identical:\n",
    "\n",
    "\n",
    "## Other kinds of activation\n",
    "\n",
    "For other kinds of activation, such as inhibition, we follow an identical reasoning. In the case of inhibition, we expect that ${g}$ should respond inversely between two inhibiting genes:\n",
    "$$\n",
    "R_X\\{g, +\\} = - R_Y\\{g, -\\}\n",
    "$$\n"
   ]
  },
  {
   "cell_type": "code",
   "execution_count": null,
   "metadata": {
    "collapsed": false
   },
   "outputs": [],
   "source": [
    "# # Spearman analysis\n",
    "def single_mutant_analysis(single_mutants, df_hash, genes='target_id', analysis='spearmanr', \n",
    "                           qval='qval', q=0.1, change='b', alpha=10**-4):\n",
    "    \"\"\"\n",
    "    A function to perform single mutant analyses on a dataset of mutants.\n",
    "\n",
    "    TODOs...\n",
    "    \"\"\"\n",
    "    def lind(x, col=qval): \n",
    "        return (x[col] < 0.1)\n",
    "    \n",
    "    acceptable = ['spearmanr', 'interaction']\n",
    "    if analysis not in acceptable:\n",
    "        raise ValueError('analysis must be one of spearmanr or interaction')\n",
    "    s = len(single_mutants)\n",
    "    \n",
    "    if analysis == 'spearmanr':\n",
    "        \n",
    "        rho_matrix = np.empty(shape=(s, s))\n",
    "        res_dict= {'rho': rho_matrix}\n",
    "    else:\n",
    "        prob_plus_matrix = np.zeros(shape=(s, s))\n",
    "        overlap_plus_matrix = np.zeros(shape=(s, s))\n",
    "        expected_plus_matrix = np.zeros(shape=(s, s))\n",
    "        \n",
    "        prob_minus_matrix = np.zeros(shape=(s, s))\n",
    "        overlap_minus_matrix = np.zeros(shape=(s, s))\n",
    "        expected_minus_matrix = np.zeros(shape=(s, s))\n",
    "        \n",
    "        res_dict = {\n",
    "            'prob_pos': prob_plus_matrix,\n",
    "            'prob_minus': prob_minus_matrix,\n",
    "            'overlap_pos': prob_plus_matrix,\n",
    "            'overlap_minus': overlap_minus_matrix,\n",
    "            'expected_pos': expected_plus_matrix,\n",
    "            'expected_minus': expected_minus_matrix,\n",
    "            'ids': {},\n",
    "        }\n",
    "    l=0\n",
    "    ids = {}\n",
    "    for i in single_mutants:\n",
    "        m= 0\n",
    "        for j in single_mutants:\n",
    "            x = beta_filtered[i]\n",
    "            y = beta_filtered[j]\n",
    "            \n",
    "            if analysis == 'spearmanr':\n",
    "                # find overlap in stat.sig.genes between both lists:\n",
    "                ovx = x[lind(x)]\n",
    "                ovy = y[lind(y) & y[genes].isin(ovx[genes])]\n",
    "                ovx = x[lind(x) & x[genes].isin(ovy[genes])]\n",
    "                \n",
    "                # spearman analysis\n",
    "                rho = stats.spearmanr(ovx[change], ovy.b)\n",
    "                if rho[1] < alpha:\n",
    "                    res_dict['rho'][l, m] = rho[0]\n",
    "                else:\n",
    "                    res_dict['rho'][l, m] = 0\n",
    "            elif analysis == 'interaction':\n",
    "                # store the results from genpy.a_interacts_b in an array\n",
    "                # called results, but remember it has 4 elements:\n",
    "                # overlap prob, overlap frac, expected frac, ids overlapped\n",
    "                results = genpy.a_interacts_b(x, y, sign='+', q=q, qval=qval, genes=genes, change=change)        \n",
    "                results2= genpy.a_interacts_b(x, y, sign='-', q=q, qval=qval, genes=genes, change=change)\n",
    "                \n",
    "                # artificially set the i,i entries for overlap fraction to zero,\n",
    "                # this allows better discrimination of interactions for\n",
    "                # heatmaps\n",
    "                if i == j:\n",
    "                    res_dict['overlap_pos'][l, m] = 0\n",
    "                    res_dict['overlap_minus'][l, m] = 0\n",
    "                else:\n",
    "                    res_dict['overlap_pos'][l, m] = results[1]\n",
    "                    res_dict['overlap_minus'][l, m] = results2[1]\n",
    "                \n",
    "                res_dict['prob_pos'][l,m] = results[0]\n",
    "                res_dict['prob_minus'][l,m] = results2[0]\n",
    "                \n",
    "                res_dict['expected_pos'][l, m] = results[2]\n",
    "                res_dict['expected_minus'][l, m] = results2[2]\n",
    "                \n",
    "                ids[('plus', i, j)] = results[3]\n",
    "                ids[('minus', i, j)] = results2[3]\n",
    "            \n",
    "            m += 1\n",
    "        l += 1\n",
    "    \n",
    "    if analysis == 'interaction':\n",
    "        res_dict['ids'] = ids\n",
    "\n",
    "    return res_dict\n",
    "\n",
    "res_dict = single_mutant_analysis(single_mutants, beta_filtered)\n",
    "rho_matrix = res_dict['rho']\n",
    "sns.heatmap(rho_matrix, xticklabels=single_mutants, yticklabels=single_mutants)\n",
    "\n",
    "plt.xticks(fontsize=30)\n",
    "plt.yticks(fontsize=30)"
   ]
  },
  {
   "cell_type": "code",
   "execution_count": null,
   "metadata": {
    "collapsed": false
   },
   "outputs": [],
   "source": [
    "# Print the spearman correlation matrix viewed above to get the numbers exactly:\n",
    "rho_matrix"
   ]
  },
  {
   "cell_type": "markdown",
   "metadata": {},
   "source": [
    "From the above, we can draw the following arrows:\n",
    "\n",
    "\n",
    "Interaction | $\\rho$ |\n",
    "----------- | ------- |\n",
    "b -gp- d| 0.92\n",
    "b -gp- e| 0.96\n",
    "d -gp- e| 0.81\n",
    "d -gp- c| 0.53\n",
    "b -gp- c| 0.38\n",
    "e -gp- c| 0.41\n",
    "\n",
    "We can see {B, D, E} make a tightly correlated cluster - i.e., they share an output.\n",
    "\n",
    "C is an outgroup to {B, D, E} and is weakly correlated to them all, meaning there is a possible positive correlation between C -gp- {B, D, E}. However, the weakness of the sign makes me doubt whether it is actually a positive interaction.... For the moment, settle for C -g- {B, D, E}\n",
    "\n",
    "Moreover, we notice that B -g- D and B -g- E are very close to one, and E -g- D is weaker, so we should consider the possibility of transitivity: \n",
    "\n",
    "E -gp- B -gp- D"
   ]
  },
  {
   "cell_type": "code",
   "execution_count": null,
   "metadata": {
    "collapsed": false,
    "scrolled": false
   },
   "outputs": [],
   "source": [
    "res_dict = single_mutant_analysis(single_mutants, beta_filtered, analysis='interaction')\n",
    "sns.heatmap(res_dict['prob_pos'], xticklabels=single_mutants, yticklabels=single_mutants)\n",
    "\n",
    "plt.xticks(fontsize=30)\n",
    "plt.yticks(fontsize=30)"
   ]
  },
  {
   "cell_type": "code",
   "execution_count": null,
   "metadata": {
    "collapsed": false
   },
   "outputs": [],
   "source": [
    "sns.heatmap(res_dict['prob_minus'], xticklabels=single_mutants, yticklabels=single_mutants)\n",
    "\n",
    "plt.xticks(fontsize=30)\n",
    "plt.yticks(fontsize=30)"
   ]
  },
  {
   "cell_type": "code",
   "execution_count": null,
   "metadata": {
    "collapsed": false
   },
   "outputs": [],
   "source": [
    "sns.heatmap(res_dict['overlap_pos'], xticklabels=single_mutants, yticklabels=single_mutants)\n",
    "plt.xticks(fontsize=30)\n",
    "plt.yticks(fontsize=30)"
   ]
  },
  {
   "cell_type": "code",
   "execution_count": null,
   "metadata": {
    "collapsed": false
   },
   "outputs": [],
   "source": [
    "sns.heatmap(res_dict['overlap_minus'], xticklabels=single_mutants, yticklabels=single_mutants)\n",
    "\n",
    "plt.xticks(fontsize=30)\n",
    "plt.yticks(fontsize=30)"
   ]
  },
  {
   "cell_type": "markdown",
   "metadata": {},
   "source": [
    "# Conclusions from Probabilistic Analysis:\n",
    "\n",
    "b -gp- d  \n",
    "b -gp- e  \n",
    "b !- e     (different results from TrCA)  \n",
    "\n",
    "b -gm- e  \n",
    "b -gm- d  \n",
    "\n",
    "There seems to be enough evidence that for some genes there is negative feedback between {b, d} and {b, e}"
   ]
  },
  {
   "cell_type": "markdown",
   "metadata": {},
   "source": [
    "# Conclusions from Single Mutant Analysis:\n",
    "\n",
    "Certainly, it seems likely that:\n",
    "\n",
    "b -gp- d  \n",
    "b -gp- e  \n",
    "\n",
    "Taken together with the low probability of interaction between {e, d} as measured by hypergeometric and TrCA, I would guess that:\n",
    "\n",
    "d -gp- b -gp- e  \n",
    "\n",
    "No conclusion can be drawn at this point about c. There's also some evidence of inhibitory loops affecting\n",
    "\n",
    "b -gm- d  \n",
    "b -gm- e  \n",
    "\n",
    "I shouldn't forget that previously we concluded that there were interactions with c of currently ambiguous sign:\n",
    "\n",
    "c -g- d\n",
    "c -g- e\n",
    "c -g- b\n",
    "\n",
    "If we assume that {d, b, e} are exhibiting transitiveness, then it's likely that:\n",
    "\n",
    "c -g- d\n",
    "c -g- {b, e}  \n",
    "\n",
    "Taken together, at this point I would guess:  \n",
    "b -gp- d, b -gn- d  \n",
    "b -gp- e, b -gn- e  \n",
    "d -g- c  \n",
    "{b,e} -g- c"
   ]
  },
  {
   "cell_type": "markdown",
   "metadata": {},
   "source": [
    "# Double Mutant Analysis\n",
    "\n",
    "With double mutants, the analysis gets slightly more complicated. Now we're getting into full pathways!"
   ]
  },
  {
   "cell_type": "markdown",
   "metadata": {},
   "source": [
    "A first approach is to inspect the double mutants by Spearman correlation analysis to the single mutants that make them up. A quick visualization will show us any epistasis and the extent of it:"
   ]
  },
  {
   "cell_type": "code",
   "execution_count": null,
   "metadata": {
    "collapsed": false
   },
   "outputs": [],
   "source": [
    "rho_matrix_doubles = genpy.double_mutant_corr_analysis(double_mutants, beta_filtered)\n",
    "\n",
    "sns.heatmap(rho_matrix_doubles, xticklabels=['b', 'd','b','c'], yticklabels=['a', 'f'])\n",
    "plt.xticks(fontsize=20)\n",
    "plt.yticks(fontsize=20)"
   ]
  },
  {
   "cell_type": "markdown",
   "metadata": {},
   "source": [
    "Clearly, mutant a shows epistasis between {b, c}, whereas f seems to have equal(ish) contributions from {d, b}.\n",
    "\n",
    "We can satisfy ourselves that there is only one kind of pathway s.t.  \n",
    "$$\n",
    "b^- = b^-d^-\n",
    "$$\n",
    "\n",
    "And that must be:  \n",
    "c -| b -: g\n",
    "\n",
    "Knocking out c causes g to go up. Knocking out b should cause no change in g if c is present. If c is not present, knocking out b should cause g to go down. The double mutant should match either case. \n",
    "\n",
    "Therefore:\n",
    "c -| b\n"
   ]
  },
  {
   "cell_type": "code",
   "execution_count": null,
   "metadata": {
    "collapsed": false
   },
   "outputs": [],
   "source": [
    "# Spearman analysis\n",
    "def double_mutant_analysis(double_mutants, df_hash, genes='target_id', \n",
    "                           qval='qval', q=0.1, change='b'):\n",
    "    \"\"\"\n",
    "    \"\"\"\n",
    "    def lind(x, col=qval): \n",
    "        return (x[col] < 0.1)\n",
    "    \n",
    "    res_dict = {}\n",
    "    \n",
    "    l=0\n",
    "    for number, i in enumerate(double_mutants):\n",
    "        m= 0\n",
    "        \n",
    "        j, k = double_mutants[i]\n",
    "        \n",
    "        x = df_hash[i]\n",
    "        y = df_hash[j]\n",
    "        z = df_hash[k]\n",
    "        \n",
    "        # store the results from genpy.a_interacts_b in an array\n",
    "        # called results, but remember it has 4 elements:\n",
    "        # overlap prob, overlap frac, expected frac, ids overlapped\n",
    "        results_xy = genpy.a_interacts_b(x, y, sign='+', q=q, qval=qval, genes=genes, change=change)        \n",
    "        results_xz = genpy.a_interacts_b(x, z, sign='+', q=q, qval=qval, genes=genes, change=change)        \n",
    "\n",
    "        results_xy2 = genpy.a_interacts_b(x, y, sign='-', q=q, qval=qval, genes=genes, change=change)        \n",
    "        results_xz2 = genpy.a_interacts_b(x, z, sign='-', q=q, qval=qval, genes=genes, change=change)        \n",
    "            \n",
    "        # artificially set the i,i entries for overlap fraction to zero,\n",
    "        # this allows better discrimination of interactions for\n",
    "        # heatmaps\n",
    "        print(i, results_xy[0])\n",
    "        print(i, results_xz[0])\n",
    "        print(i, results_xy2[0])\n",
    "        print(i, results_xz2[0])\n",
    "        res_dict[(i, 'prob_pos')] = results_xy[0]*results_xz[0]\n",
    "        res_dict[(i, 'prob_minus')] = results_xy2[0]*results_xz2[0]\n",
    "        \n",
    "        # test epistasis:\n",
    "        # log (OR) of probabilities...\n",
    "        res_dict[(i, 'epistasis_odds')] = np.log(results_xy[0]) - np.log(results_xz[0])\n",
    "        res_dict[(i, 'epistasis_magnitude')] = np.maximum(results_xy[0], results_xz[0])\n",
    "\n",
    "    return res_dict\n",
    "\n"
   ]
  },
  {
   "cell_type": "code",
   "execution_count": null,
   "metadata": {
    "collapsed": false
   },
   "outputs": [],
   "source": [
    "double_mutant_analysis(double_mutants, beta_filtered)"
   ]
  },
  {
   "cell_type": "code",
   "execution_count": null,
   "metadata": {
    "collapsed": false
   },
   "outputs": [],
   "source": [
    "double_mat = np.zeros(shape=(2, 4))\n",
    "l = 0\n",
    "for key in double_mutants:\n",
    "    m = 0\n",
    "    for j in single_mutants:\n",
    "        x = beta_filtered[key]\n",
    "        y = beta_filtered[j]\n",
    "        \n",
    "        ovx = x[lind(x)]\n",
    "        ovy = y[lind(y) & y.target_id.isin(ovx.target_id)]\n",
    "        ovx = x[lind(x) & x.target_id.isin(ovy.target_id)]\n",
    "        \n",
    "        rho = stats.spearmanr(ovx.b, ovy.b)\n",
    "        print(key, j, '{0:.2g}'.format(rho[0]))\n",
    "        double_mat[l, m] = rho[0]\n",
    "        m += 1\n",
    "    l += 1"
   ]
  },
  {
   "cell_type": "markdown",
   "metadata": {},
   "source": [
    "$$\n",
    "f^- = b^-d^-\n",
    "$$\n",
    "\n",
    "$$\n",
    "a^- = b^-c^-\n",
    "$$\n",
    "\n",
    "$$\n",
    "b^- = d^- = e^- = b^-c^-\n",
    "$$\n",
    "\n",
    "\n",
    "\n",
    "\n",
    "\n",
    "\n",
    "\n",
    "\n",
    "\n",
    "\n",
    "\n",
    "\n",
    "\n",
    "\n"
   ]
  },
  {
   "cell_type": "markdown",
   "metadata": {},
   "source": [
    "$$\n",
    "b^-d^- \\sim b^-\n",
    "$$\n",
    "\n",
    "$$\n",
    "b^-d^- \\sim c^-\n",
    "$$\n",
    "\n",
    "$$\n",
    "b^-d^- \\sim e^-\n",
    "$$"
   ]
  },
  {
   "cell_type": "code",
   "execution_count": null,
   "metadata": {
    "collapsed": false,
    "scrolled": false
   },
   "outputs": [],
   "source": [
    "double_corr = pd.DataFrame(double_mat.transpose(), columns=['a', 'f'])\n",
    "double_corr = pd.melt(double_corr, var_name='double_mutant', value_name='spearmanr')\n",
    "double_corr['corr_var'] = single_mutants*2\n",
    "\n",
    "sns.stripplot(x='double_mutant', y='spearmanr', hue='corr_var', data=double_corr, size=10, jitter=False)\n",
    "plt.xticks(fontsize=25)\n",
    "plt.savefig('epistasis_spearmanr.pdf')"
   ]
  },
  {
   "cell_type": "code",
   "execution_count": null,
   "metadata": {
    "collapsed": false
   },
   "outputs": [],
   "source": [
    "def lind(x, col='qval'): \n",
    "    return (x[col] < 0.1)"
   ]
  },
  {
   "cell_type": "code",
   "execution_count": null,
   "metadata": {
    "collapsed": false
   },
   "outputs": [],
   "source": [
    "double_corr"
   ]
  },
  {
   "cell_type": "code",
   "execution_count": null,
   "metadata": {
    "collapsed": true
   },
   "outputs": [],
   "source": []
  },
  {
   "cell_type": "code",
   "execution_count": null,
   "metadata": {
    "collapsed": false
   },
   "outputs": [],
   "source": [
    "import tissue_enrichment_analysis as tea"
   ]
  },
  {
   "cell_type": "code",
   "execution_count": null,
   "metadata": {
    "collapsed": true
   },
   "outputs": [],
   "source": [
    "for res_dict"
   ]
  },
  {
   "cell_type": "code",
   "execution_count": null,
   "metadata": {
    "collapsed": false
   },
   "outputs": [],
   "source": [
    "# perform TEA on these things... \n",
    "\n",
    "l = 0\n",
    "m = 0\n",
    "tissue_df= tea.fetch_dictionary() \n",
    "tissues = {}\n",
    "for i in single_mutants:\n",
    "    m = l\n",
    "    for j in single_mutants[l:]:\n",
    "        if i == j:\n",
    "            continue\n",
    "        if len(res_dict['ids'][('plus', i, j)]) > 10:\n",
    "            ids = res_dict['ids'][('plus', i, j)]\n",
    "            wbids = beta_filtered['a'][beta_filtered['a'].target_id.isin(ids)].ens_gene\n",
    "            df_res, unused= tea.enrichment_analysis(wbids, tissue_df, show= False, save= False)\n",
    "            if len(df_res) > 0:\n",
    "                tissues[('plus', i, j)] = df_res\n",
    "            print(i, j)\n",
    "        m += 1\n",
    "    l += 1"
   ]
  },
  {
   "cell_type": "code",
   "execution_count": null,
   "metadata": {
    "collapsed": false
   },
   "outputs": [],
   "source": [
    "tissues[('plus', 'b', 'e')]"
   ]
  },
  {
   "cell_type": "code",
   "execution_count": null,
   "metadata": {
    "collapsed": false
   },
   "outputs": [],
   "source": [
    "for keys in tissues:\n",
    "    print(keys)"
   ]
  },
  {
   "cell_type": "code",
   "execution_count": null,
   "metadata": {
    "collapsed": false
   },
   "outputs": [],
   "source": [
    "l = 0\n",
    "m = 0\n",
    "tissue_df= tea.fetch_dictionary() \n",
    "tissues = {}\n",
    "for sign in ['plus', 'minus']:\n",
    "    l=0\n",
    "    if sign == 'plus':\n",
    "        s = 'pos'\n",
    "    else:\n",
    "        s = 'minus'\n",
    "    for i in single_mutants:\n",
    "        m = l\n",
    "        for j in single_mutants[l:]:\n",
    "            if i == j:\n",
    "                continue\n",
    "        \n",
    "            ids = res_dict['ids'][(sign, i, j)]\n",
    "            if len(ids) < 100:\n",
    "                continue\n",
    "            wbids = beta_filtered['a'][beta_filtered['a'].target_id.isin(ids)].ens_gene\n",
    "            df_res, unused= tea.enrichment_analysis(wbids, tissue_df, show= False, save= False)\n",
    "            if len(df_res) > 0:\n",
    "                tissues[(sign, i, j)] = df_res\n",
    "                print(i, j, len(res_dict['ids'][(sign, i, j)]))\n",
    "            m += 1\n",
    "    l += 1"
   ]
  },
  {
   "cell_type": "code",
   "execution_count": null,
   "metadata": {
    "collapsed": true
   },
   "outputs": [],
   "source": [
    "ids = res_dict['ids'][('plus', 'b', 'd')]\n",
    "bids = beta_filtered['a'][beta_filtered['a'].target_id.isin(ids)].ens_gene"
   ]
  },
  {
   "cell_type": "code",
   "execution_count": null,
   "metadata": {
    "collapsed": false,
    "scrolled": false
   },
   "outputs": [],
   "source": [
    "tiss = {}\n",
    "for i in single_mutants:\n",
    "    df = beta_filtered[i]\n",
    "    wbids = df[df.qval < 0.1].ens_gene\n",
    "    df_res, unused = tea.enrichment_analysis(wbids, tissue_df, show=False, save=False)\n",
    "    if len(df_res) > 0:\n",
    "        tiss[i] = df_res\n",
    "        print(i)"
   ]
  },
  {
   "cell_type": "code",
   "execution_count": null,
   "metadata": {
    "collapsed": false
   },
   "outputs": [],
   "source": [
    "tiss"
   ]
  },
  {
   "cell_type": "code",
   "execution_count": 15,
   "metadata": {
    "collapsed": false
   },
   "outputs": [
    {
     "data": {
      "text/html": [
       "<div>\n",
       "<table border=\"1\" class=\"dataframe\">\n",
       "  <thead>\n",
       "    <tr style=\"text-align: right;\">\n",
       "      <th></th>\n",
       "      <th>PCA1</th>\n",
       "      <th>PCA2</th>\n",
       "      <th>samples</th>\n",
       "      <th>genotypes</th>\n",
       "    </tr>\n",
       "  </thead>\n",
       "  <tbody>\n",
       "    <tr>\n",
       "      <th>0</th>\n",
       "      <td>-8406.384126</td>\n",
       "      <td>7599.840926</td>\n",
       "      <td>Project_17434_indexN704-N517</td>\n",
       "      <td>wt</td>\n",
       "    </tr>\n",
       "    <tr>\n",
       "      <th>1</th>\n",
       "      <td>-10799.688643</td>\n",
       "      <td>-11435.291195</td>\n",
       "      <td>Project_17441_indexN704-N508</td>\n",
       "      <td>a</td>\n",
       "    </tr>\n",
       "    <tr>\n",
       "      <th>2</th>\n",
       "      <td>-10810.081047</td>\n",
       "      <td>3454.831242</td>\n",
       "      <td>Project_17448_indexN705-N507</td>\n",
       "      <td>d</td>\n",
       "    </tr>\n",
       "    <tr>\n",
       "      <th>3</th>\n",
       "      <td>-7636.304361</td>\n",
       "      <td>7614.214112</td>\n",
       "      <td>Project_17435_indexN704-N502</td>\n",
       "      <td>wt</td>\n",
       "    </tr>\n",
       "    <tr>\n",
       "      <th>4</th>\n",
       "      <td>-8807.618266</td>\n",
       "      <td>-10056.723608</td>\n",
       "      <td>Project_17442_indexN705-N517</td>\n",
       "      <td>a</td>\n",
       "    </tr>\n",
       "    <tr>\n",
       "      <th>5</th>\n",
       "      <td>-12261.988450</td>\n",
       "      <td>-5906.404659</td>\n",
       "      <td>Project_17449_indexN705-N508</td>\n",
       "      <td>e</td>\n",
       "    </tr>\n",
       "    <tr>\n",
       "      <th>6</th>\n",
       "      <td>-9735.788200</td>\n",
       "      <td>7591.840022</td>\n",
       "      <td>Project_17436_indexN704-N503</td>\n",
       "      <td>wt</td>\n",
       "    </tr>\n",
       "    <tr>\n",
       "      <th>7</th>\n",
       "      <td>-7458.791967</td>\n",
       "      <td>11193.490865</td>\n",
       "      <td>Project_17443_indexN705-N502</td>\n",
       "      <td>c</td>\n",
       "    </tr>\n",
       "    <tr>\n",
       "      <th>8</th>\n",
       "      <td>-10989.775898</td>\n",
       "      <td>-4826.238147</td>\n",
       "      <td>Project_17450_indexN706-N517</td>\n",
       "      <td>e</td>\n",
       "    </tr>\n",
       "    <tr>\n",
       "      <th>9</th>\n",
       "      <td>-6736.975504</td>\n",
       "      <td>-10558.408116</td>\n",
       "      <td>Project_17437_indexN704-N504</td>\n",
       "      <td>b</td>\n",
       "    </tr>\n",
       "    <tr>\n",
       "      <th>10</th>\n",
       "      <td>-11474.697463</td>\n",
       "      <td>13574.226980</td>\n",
       "      <td>Project_17444_indexN705-N503</td>\n",
       "      <td>c</td>\n",
       "    </tr>\n",
       "    <tr>\n",
       "      <th>11</th>\n",
       "      <td>-11400.846470</td>\n",
       "      <td>-5678.701321</td>\n",
       "      <td>Project_17451_indexN706-N502</td>\n",
       "      <td>e</td>\n",
       "    </tr>\n",
       "    <tr>\n",
       "      <th>12</th>\n",
       "      <td>-8824.289073</td>\n",
       "      <td>-7589.876012</td>\n",
       "      <td>Project_17438_indexN704-N505</td>\n",
       "      <td>b</td>\n",
       "    </tr>\n",
       "    <tr>\n",
       "      <th>13</th>\n",
       "      <td>-12114.053224</td>\n",
       "      <td>8688.449435</td>\n",
       "      <td>Project_17445_indexN705-N504</td>\n",
       "      <td>c</td>\n",
       "    </tr>\n",
       "    <tr>\n",
       "      <th>14</th>\n",
       "      <td>-9407.272180</td>\n",
       "      <td>7666.976783</td>\n",
       "      <td>Project_17452_indexN706-N503</td>\n",
       "      <td>f</td>\n",
       "    </tr>\n",
       "    <tr>\n",
       "      <th>15</th>\n",
       "      <td>-11354.973606</td>\n",
       "      <td>-12460.200991</td>\n",
       "      <td>Project_17439_indexN704-N506</td>\n",
       "      <td>b</td>\n",
       "    </tr>\n",
       "    <tr>\n",
       "      <th>16</th>\n",
       "      <td>-10905.280653</td>\n",
       "      <td>-681.513979</td>\n",
       "      <td>Project_17446_indexN705-N505</td>\n",
       "      <td>d</td>\n",
       "    </tr>\n",
       "    <tr>\n",
       "      <th>17</th>\n",
       "      <td>-8274.781806</td>\n",
       "      <td>6638.047263</td>\n",
       "      <td>Project_17453_indexN706-N504</td>\n",
       "      <td>f</td>\n",
       "    </tr>\n",
       "    <tr>\n",
       "      <th>18</th>\n",
       "      <td>-10235.560409</td>\n",
       "      <td>-10665.337687</td>\n",
       "      <td>Project_17440_indexN704-N507</td>\n",
       "      <td>a</td>\n",
       "    </tr>\n",
       "    <tr>\n",
       "      <th>19</th>\n",
       "      <td>-12515.403286</td>\n",
       "      <td>-1922.453947</td>\n",
       "      <td>Project_17447_indexN705-N506</td>\n",
       "      <td>d</td>\n",
       "    </tr>\n",
       "    <tr>\n",
       "      <th>20</th>\n",
       "      <td>-12888.604233</td>\n",
       "      <td>8085.305767</td>\n",
       "      <td>Project_17454_indexN706-N505</td>\n",
       "      <td>f</td>\n",
       "    </tr>\n",
       "    <tr>\n",
       "      <th>21</th>\n",
       "      <td>36507.633227</td>\n",
       "      <td>-1076.118381</td>\n",
       "      <td>JKY_15044</td>\n",
       "      <td>g</td>\n",
       "    </tr>\n",
       "    <tr>\n",
       "      <th>22</th>\n",
       "      <td>34995.057699</td>\n",
       "      <td>-1960.759562</td>\n",
       "      <td>JKY_15045</td>\n",
       "      <td>g</td>\n",
       "    </tr>\n",
       "    <tr>\n",
       "      <th>23</th>\n",
       "      <td>36025.440165</td>\n",
       "      <td>-601.067485</td>\n",
       "      <td>JKY_15046</td>\n",
       "      <td>g</td>\n",
       "    </tr>\n",
       "    <tr>\n",
       "      <th>24</th>\n",
       "      <td>35066.454853</td>\n",
       "      <td>1824.471466</td>\n",
       "      <td>N2Y_14945</td>\n",
       "      <td>wt</td>\n",
       "    </tr>\n",
       "    <tr>\n",
       "      <th>25</th>\n",
       "      <td>35480.300749</td>\n",
       "      <td>193.621879</td>\n",
       "      <td>N2Y_14946</td>\n",
       "      <td>wt</td>\n",
       "    </tr>\n",
       "    <tr>\n",
       "      <th>26</th>\n",
       "      <td>34964.272175</td>\n",
       "      <td>1293.778349</td>\n",
       "      <td>N2Y_14947</td>\n",
       "      <td>wt</td>\n",
       "    </tr>\n",
       "  </tbody>\n",
       "</table>\n",
       "</div>"
      ],
      "text/plain": [
       "            PCA1          PCA2                       samples genotypes\n",
       "0   -8406.384126   7599.840926  Project_17434_indexN704-N517        wt\n",
       "1  -10799.688643 -11435.291195  Project_17441_indexN704-N508         a\n",
       "2  -10810.081047   3454.831242  Project_17448_indexN705-N507         d\n",
       "3   -7636.304361   7614.214112  Project_17435_indexN704-N502        wt\n",
       "4   -8807.618266 -10056.723608  Project_17442_indexN705-N517         a\n",
       "5  -12261.988450  -5906.404659  Project_17449_indexN705-N508         e\n",
       "6   -9735.788200   7591.840022  Project_17436_indexN704-N503        wt\n",
       "7   -7458.791967  11193.490865  Project_17443_indexN705-N502         c\n",
       "8  -10989.775898  -4826.238147  Project_17450_indexN706-N517         e\n",
       "9   -6736.975504 -10558.408116  Project_17437_indexN704-N504         b\n",
       "10 -11474.697463  13574.226980  Project_17444_indexN705-N503         c\n",
       "11 -11400.846470  -5678.701321  Project_17451_indexN706-N502         e\n",
       "12  -8824.289073  -7589.876012  Project_17438_indexN704-N505         b\n",
       "13 -12114.053224   8688.449435  Project_17445_indexN705-N504         c\n",
       "14  -9407.272180   7666.976783  Project_17452_indexN706-N503         f\n",
       "15 -11354.973606 -12460.200991  Project_17439_indexN704-N506         b\n",
       "16 -10905.280653   -681.513979  Project_17446_indexN705-N505         d\n",
       "17  -8274.781806   6638.047263  Project_17453_indexN706-N504         f\n",
       "18 -10235.560409 -10665.337687  Project_17440_indexN704-N507         a\n",
       "19 -12515.403286  -1922.453947  Project_17447_indexN705-N506         d\n",
       "20 -12888.604233   8085.305767  Project_17454_indexN706-N505         f\n",
       "21  36507.633227  -1076.118381                     JKY_15044         g\n",
       "22  34995.057699  -1960.759562                     JKY_15045         g\n",
       "23  36025.440165   -601.067485                     JKY_15046         g\n",
       "24  35066.454853   1824.471466                     N2Y_14945        wt\n",
       "25  35480.300749    193.621879                     N2Y_14946        wt\n",
       "26  34964.272175   1293.778349                     N2Y_14947        wt"
      ]
     },
     "execution_count": 15,
     "metadata": {},
     "output_type": "execute_result"
    }
   ],
   "source": [
    "df_nD"
   ]
  },
  {
   "cell_type": "code",
   "execution_count": null,
   "metadata": {
    "collapsed": true
   },
   "outputs": [],
   "source": []
  }
 ],
 "metadata": {
  "kernelspec": {
   "display_name": "Python 3",
   "language": "python",
   "name": "python3"
  },
  "language_info": {
   "codemirror_mode": {
    "name": "ipython",
    "version": 3
   },
   "file_extension": ".py",
   "mimetype": "text/x-python",
   "name": "python",
   "nbconvert_exporter": "python",
   "pygments_lexer": "ipython3",
   "version": "3.5.2"
  }
 },
 "nbformat": 4,
 "nbformat_minor": 0
}
