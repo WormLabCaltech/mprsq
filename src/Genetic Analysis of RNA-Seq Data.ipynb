{
 "cells": [
  {
   "cell_type": "code",
   "execution_count": 63,
   "metadata": {
    "collapsed": false
   },
   "outputs": [],
   "source": [
    "import pandas as pd\n",
    "import numpy as np\n",
    "import sklearn.decomposition\n",
    "import os\n",
    "import matplotlib.pyplot as plt\n",
    "import seaborn as sns \n",
    "# Magic function to make matplotlib inline; other style specs must come AFTER\n",
    "%matplotlib inline\n",
    "\n",
    "# This enables SVG graphics inline.  There is a bug, so uncomment if it works.\n",
    "%config InlineBackend.figure_formats = {'png', 'retina'}\n",
    "\n",
    "# JB's favorite Seaborn settings for notebooks\n",
    "rc = {'lines.linewidth': 2, \n",
    "      'axes.labelsize': 18, \n",
    "      'axes.titlesize': 18, \n",
    "      'axes.facecolor': 'DFDFE5'}\n",
    "sns.set_context('notebook', rc=rc)\n",
    "sns.set_style('darkgrid', rc=rc)\n"
   ]
  },
  {
   "cell_type": "code",
   "execution_count": 2,
   "metadata": {
    "collapsed": true
   },
   "outputs": [],
   "source": [
    "genmap = pd.read_csv('../input/library_genotype_mapping.txt', comment='#')\n",
    "genmap.genotype = genmap.genotype.apply(str)\n",
    "genmap.genotype = genmap.genotype.apply(str.lower) # make sure everything is always in lowercase\n"
   ]
  },
  {
   "cell_type": "code",
   "execution_count": 3,
   "metadata": {
    "collapsed": true
   },
   "outputs": [],
   "source": [
    "# Make all possible combinations of WT, X\n",
    "combs = []\n",
    "for gene in genmap.genotype.unique():\n",
    "    if gene != 'wt':\n",
    "        combs += [['WT', gene]]"
   ]
  },
  {
   "cell_type": "code",
   "execution_count": 8,
   "metadata": {
    "collapsed": false
   },
   "outputs": [],
   "source": [
    "# get all pandas tpm dataframes for each project\n",
    "# tpm files are in kallisto_loc\n",
    "kallisto_loc = '../input/kallisto_all/'\n",
    "\n",
    "tpm = {}  # initialize an empty hash\n",
    "\n",
    "# get tpm for each project\n",
    "for prjct in genmap.project_name.unique():\n",
    "    tpm[prjct] = pd.read_csv(kallisto_loc + prjct +'/kallisto/abundance.tsv', sep='\\t')"
   ]
  },
  {
   "cell_type": "code",
   "execution_count": 16,
   "metadata": {
    "collapsed": false
   },
   "outputs": [],
   "source": [
    "# load all the beta values for each genotype:\n",
    "sleuth_loc = '../sleuth/'\n",
    "\n",
    "beta = {}  # empty hash\n",
    "\n",
    "# get betas for each genotype comparison:\n",
    "for comb in combs:\n",
    "    c = comb[0] + '_' + comb[1]\n",
    "    beta[comb[1]] = pd.read_csv(sleuth_loc + c + '/betas.csv')"
   ]
  },
  {
   "cell_type": "code",
   "execution_count": 53,
   "metadata": {
    "collapsed": false
   },
   "outputs": [],
   "source": [
    "# PCA prep\n",
    "\n",
    "# to perform PCA, first place all the tpm columns into a single matrix. \n",
    "# array = np.array(tpm[genmap.project_name.unique()[0]])\n",
    "array = np.array([])\n",
    "for prjct in genmap.project_name.unique():\n",
    "    x = tpm[prjct].tpm.values\n",
    "    if len(array) == 0:\n",
    "        array = np.array(x)\n",
    "    else:\n",
    "        array = np.vstack((array, x))\n",
    "\n",
    "# array should be (sample, genes) dimensions.\n",
    "\n"
   ]
  },
  {
   "cell_type": "code",
   "execution_count": 99,
   "metadata": {
    "collapsed": false
   },
   "outputs": [
    {
     "name": "stdout",
     "output_type": "stream",
     "text": [
      "The first 4 principal components explain >=90% of the data\n"
     ]
    }
   ],
   "source": [
    "# PCA\n",
    "sklearn_pca = sklearn.decomposition.PCA()\n",
    "sklearn_pca.fit(array)\n",
    "where = np.max(np.where(np.cumsum(sklearn_pca.explained_variance_ratio_) < 0.9))\n",
    "print('The first {} principal components explain >=90% of the data'.format(where))"
   ]
  },
  {
   "cell_type": "code",
   "execution_count": 97,
   "metadata": {
    "collapsed": false
   },
   "outputs": [
    {
     "data": {
      "text/html": [
       "<div>\n",
       "<table border=\"1\" class=\"dataframe\">\n",
       "  <thead>\n",
       "    <tr style=\"text-align: right;\">\n",
       "      <th></th>\n",
       "      <th>PCA1</th>\n",
       "      <th>PCA2</th>\n",
       "      <th>PCA3</th>\n",
       "      <th>PCA4</th>\n",
       "      <th>samples</th>\n",
       "      <th>genotypes</th>\n",
       "    </tr>\n",
       "  </thead>\n",
       "  <tbody>\n",
       "    <tr>\n",
       "      <th>0</th>\n",
       "      <td>-7597.070087</td>\n",
       "      <td>-2748.583552</td>\n",
       "      <td>-3246.871740</td>\n",
       "      <td>1290.455581</td>\n",
       "      <td>Project_17434_indexN704-N517</td>\n",
       "      <td>wt</td>\n",
       "    </tr>\n",
       "    <tr>\n",
       "      <th>1</th>\n",
       "      <td>11507.253519</td>\n",
       "      <td>-2051.481912</td>\n",
       "      <td>-1497.092629</td>\n",
       "      <td>-3054.503202</td>\n",
       "      <td>Project_17441_indexN704-N508</td>\n",
       "      <td>a</td>\n",
       "    </tr>\n",
       "    <tr>\n",
       "      <th>2</th>\n",
       "      <td>-3499.905323</td>\n",
       "      <td>5120.560035</td>\n",
       "      <td>-2885.212424</td>\n",
       "      <td>3672.694861</td>\n",
       "      <td>Project_17448_indexN705-N507</td>\n",
       "      <td>d</td>\n",
       "    </tr>\n",
       "    <tr>\n",
       "      <th>3</th>\n",
       "      <td>-7673.426882</td>\n",
       "      <td>-2525.724491</td>\n",
       "      <td>-1947.520648</td>\n",
       "      <td>5304.474756</td>\n",
       "      <td>Project_17435_indexN704-N502</td>\n",
       "      <td>wt</td>\n",
       "    </tr>\n",
       "    <tr>\n",
       "      <th>4</th>\n",
       "      <td>10090.924838</td>\n",
       "      <td>-3448.230513</td>\n",
       "      <td>-2854.242845</td>\n",
       "      <td>-456.802389</td>\n",
       "      <td>Project_17442_indexN705-N517</td>\n",
       "      <td>a</td>\n",
       "    </tr>\n",
       "  </tbody>\n",
       "</table>\n",
       "</div>"
      ],
      "text/plain": [
       "           PCA1         PCA2         PCA3         PCA4  \\\n",
       "0  -7597.070087 -2748.583552 -3246.871740  1290.455581   \n",
       "1  11507.253519 -2051.481912 -1497.092629 -3054.503202   \n",
       "2  -3499.905323  5120.560035 -2885.212424  3672.694861   \n",
       "3  -7673.426882 -2525.724491 -1947.520648  5304.474756   \n",
       "4  10090.924838 -3448.230513 -2854.242845  -456.802389   \n",
       "\n",
       "                        samples genotypes  \n",
       "0  Project_17434_indexN704-N517        wt  \n",
       "1  Project_17441_indexN704-N508         a  \n",
       "2  Project_17448_indexN705-N507         d  \n",
       "3  Project_17435_indexN704-N502        wt  \n",
       "4  Project_17442_indexN705-N517         a  "
      ]
     },
     "execution_count": 97,
     "metadata": {},
     "output_type": "execute_result"
    }
   ],
   "source": [
    "# Perform the PCA again retaining only the top 'where' components\n",
    "sklearn_pca = sklearn.decomposition.PCA(n_components=where)\n",
    "sklearn_pca.fit(array)\n",
    "\n",
    "# Project the data into this 'where'D space and convert it back to a tidy dataframe\n",
    "cols = []\n",
    "for i in np.arange(1, where+1):\n",
    "    cols += ['PCA{0}'.format(i)]\n",
    "\n",
    "df_2D = pd.DataFrame(sklearn_pca.transform(array),\n",
    "                     columns=cols)\n",
    "# add a sample and genotype column\n",
    "df_2D['samples'] = genmap.project_name.unique()\n",
    "l = lambda x: genmap[genmap.project_name == x].genotype.values[0]\n",
    "df_2D['genotypes'] = df_2D.samples.apply(l)\n",
    "df_2D.head()"
   ]
  },
  {
   "cell_type": "code",
   "execution_count": 98,
   "metadata": {
    "collapsed": false
   },
   "outputs": [
    {
     "data": {
      "image/png": "[encoded data removed]",
      "text/plain": [
       "<matplotlib.figure.Figure at 0x12fa61c18>"
      ]
     },
     "metadata": {
      "image/png": {
       "height": 359,
       "width": 576
      }
     },
     "output_type": "display_data"
    }
   ],
   "source": [
    "# plot first 2d components! \n",
    "for key, group in df_2D.groupby(['genotypes']):\n",
    "    if key == 'wt':\n",
    "        plt.plot(group.PCA1, group.PCA2, 'ko', alpha=0.7, label=key, ms=10)\n",
    "    else:\n",
    "        plt.plot(group.PCA1, group.PCA2, 'o', alpha=0.7, label=key, ms=10)\n",
    "\n",
    "# Tidy up plot\n",
    "plt.legend(bbox_to_anchor=(1.15, 1), fontsize=15)\n",
    "plt.margins(0.05)\n",
    "plt.xlabel('PCA 1')\n",
    "plt.ylabel('PCA 2')\n",
    "\n",
    "plt.savefig('../output/preliminary_pca.pdf')"
   ]
  },
  {
   "cell_type": "code",
   "execution_count": 101,
   "metadata": {
    "collapsed": false
   },
   "outputs": [
    {
     "data": {
      "text/plain": [
       "AgglomerativeClustering(affinity='euclidean', compute_full_tree='auto',\n",
       "            connectivity=None, linkage='average',\n",
       "            memory=Memory(cachedir=None), n_clusters=2, n_components=None,\n",
       "            pooling_func=<function mean at 0x1071dae18>)"
      ]
     },
     "execution_count": 101,
     "metadata": {},
     "output_type": "execute_result"
    }
   ],
   "source": [
    "from sklearn.cluster import AgglomerativeClustering\n",
    "model = AgglomerativeClustering(linkage='average',\n",
    "                                connectivity=None,\n",
    "                                n_clusters=2)\n",
    "model.fit(sklearn_pca.transform(array))\n",
    "\n"
   ]
  },
  {
   "cell_type": "code",
   "execution_count": 86,
   "metadata": {
    "collapsed": false
   },
   "outputs": [
    {
     "data": {
      "text/plain": [
       "range(1, 10)"
      ]
     },
     "execution_count": 86,
     "metadata": {},
     "output_type": "execute_result"
    }
   ],
   "source": [
    "x"
   ]
  },
  {
   "cell_type": "code",
   "execution_count": null,
   "metadata": {
    "collapsed": true
   },
   "outputs": [],
   "source": []
  }
 ],
 "metadata": {
  "kernelspec": {
   "display_name": "Python 3",
   "language": "python",
   "name": "python3"
  },
  "language_info": {
   "codemirror_mode": {
    "name": "ipython",
    "version": 3
   },
   "file_extension": ".py",
   "mimetype": "text/x-python",
   "name": "python",
   "nbconvert_exporter": "python",
   "pygments_lexer": "ipython3",
   "version": "3.5.2"
  }
 },
 "nbformat": 4,
 "nbformat_minor": 0
}
